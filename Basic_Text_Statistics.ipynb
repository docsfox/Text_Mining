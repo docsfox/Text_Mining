{
  "nbformat": 4,
  "nbformat_minor": 0,
  "metadata": {
    "colab": {
      "provenance": [],
      "collapsed_sections": []
    },
    "kernelspec": {
      "name": "python3",
      "display_name": "Python 3"
    },
    "language_info": {
      "name": "python"
    }
  },
  "cells": [
    {
      "cell_type": "markdown",
      "source": [
        "# **In-Class Assignment: Basic Text Statistics**\n",
        "\n",
        "### **IS 5150**\n",
        "\n",
        "### Name: Key\n",
        "\n",
        "\n",
        "In this in-class exercise we will be utilizing existing functions in `nltk` in addition to defining some of our own, to generate some basic text statistics. These statistics are a key step in exploratory analysis of a corpora and help us better understand our text data.\n",
        "\n",
        "Let's begin, as always, by importing our required libaries and pacakges:\n",
        "`ntlk`, `ntlk.book`, `pandas`, and `matplotlib.pyplot`.\n",
        "\n",
        "We will also want to download the gutenberg corpus from `nltk`."
      ],
      "metadata": {
        "id": "DUnOig7qfUdh"
      }
    },
    {
      "cell_type": "code",
      "execution_count": null,
      "metadata": {
        "id": "lBcIPlh2f0D8"
      },
      "outputs": [],
      "source": [
        "import nltk\n",
        "nltk.download() #download 'all-corpora' or 'gutenberg'"
      ]
    },
    {
      "cell_type": "code",
      "source": [
        "nltk.download('punkt')\n",
        "from nltk.book import *\n",
        "import pandas as pd\n",
        "import matplotlib.pyplot as plt"
      ],
      "metadata": {
        "id": "-86sQWXejstt"
      },
      "execution_count": null,
      "outputs": []
    },
    {
      "cell_type": "markdown",
      "source": [
        "## **Counting Vocabulary**\n",
        "\n",
        "Let's examine text1 from `nltk.books` which is Melville's Moby Dick. A basic first question we answer about this text is the size of the vocabulary, or the word types.\n",
        "\n",
        "Let's print out the:\n",
        "\n",
        "\n",
        "*   Total number of words/tokens\n",
        "*   Number of unique words/tokens\n",
        "*   The lexical diversity of the tokens\n",
        "\n"
      ],
      "metadata": {
        "id": "AVBAn1FswvJK"
      }
    },
    {
      "cell_type": "code",
      "source": [
        "print(\"Length of text =\", len(text1), \"tokens\")"
      ],
      "metadata": {
        "id": "_AlyrBa3tPkd",
        "colab": {
          "base_uri": "https://localhost:8080/"
        },
        "outputId": "46364988-fb53-4be0-f3dd-0fd02c66b38b"
      },
      "execution_count": null,
      "outputs": [
        {
          "output_type": "stream",
          "name": "stdout",
          "text": [
            "Length of text = 260819 tokens\n"
          ]
        }
      ]
    },
    {
      "cell_type": "code",
      "source": [
        "all_tokens = sorted(set(text1))\n",
        "print(\"Number of unique types =\", len(set(all_tokens)), \"types\")"
      ],
      "metadata": {
        "id": "_-UJ1RIztv6G",
        "colab": {
          "base_uri": "https://localhost:8080/"
        },
        "outputId": "19588fbb-d694-4b1e-c75c-8e4f09ec231f"
      },
      "execution_count": null,
      "outputs": [
        {
          "output_type": "stream",
          "name": "stdout",
          "text": [
            "Number of unique types = 19317 types\n"
          ]
        }
      ]
    },
    {
      "cell_type": "code",
      "source": [
        "print(\"Lexical Diversity = \", round(100*(len(set(text1))/len(text1)),2,), \"%\")"
      ],
      "metadata": {
        "id": "i3B__4z1uczT",
        "colab": {
          "base_uri": "https://localhost:8080/"
        },
        "outputId": "e13f5448-38f6-4a64-d140-e4aa97663390"
      },
      "execution_count": null,
      "outputs": [
        {
          "output_type": "stream",
          "name": "stdout",
          "text": [
            "Lexical Diversity =  7.41 %\n"
          ]
        }
      ]
    },
    {
      "cell_type": "markdown",
      "source": [
        "**What does this mean, practically speaking?**"
      ],
      "metadata": {
        "id": "hQxKKTX45BEE"
      }
    },
    {
      "cell_type": "markdown",
      "source": [
        "The number of unique words make up 7.41% of the total words, OR each word is used about 13 times."
      ],
      "metadata": {
        "id": "0DXxw2sZvYBa"
      }
    },
    {
      "cell_type": "markdown",
      "source": [
        "**What does it mean for a text to have a high lexical diversity percentage? What about low?**"
      ],
      "metadata": {
        "id": "2SikFrD55U-A"
      }
    },
    {
      "cell_type": "markdown",
      "source": [
        "High lexical diversity indicates there are many unique words, or in other words, words aren't repeated often. Low lexical diversity indicates there are not many unqiue words, or that words are often repeated."
      ],
      "metadata": {
        "id": "-qHny-087DhO"
      }
    },
    {
      "cell_type": "markdown",
      "source": [
        "## **Counting Particular Words**\n",
        "\n",
        "We can also investigate the frequency of particular words of interest; for example, let's see both how many times and what percentage of the text the word 'cold' accounts for; then let's try a different word."
      ],
      "metadata": {
        "id": "o2CeiwMvwnH9"
      }
    },
    {
      "cell_type": "code",
      "source": [
        "all_tokens"
      ],
      "metadata": {
        "id": "5YEKZmk-vn5D"
      },
      "execution_count": null,
      "outputs": []
    },
    {
      "cell_type": "code",
      "source": [
        "text1.count(\"cold\")"
      ],
      "metadata": {
        "id": "YexvX93uvvLZ",
        "colab": {
          "base_uri": "https://localhost:8080/"
        },
        "outputId": "06532bfd-890e-4c32-b660-f5c2017c1a86"
      },
      "execution_count": null,
      "outputs": [
        {
          "output_type": "execute_result",
          "data": {
            "text/plain": [
              "30"
            ]
          },
          "metadata": {},
          "execution_count": 7
        }
      ]
    },
    {
      "cell_type": "code",
      "source": [
        "print(\"% of text 'cold' =\", 100*(text1.count(\"cold\")/len(text1)), \"%\" )"
      ],
      "metadata": {
        "id": "rBtrK5QJwHoy",
        "colab": {
          "base_uri": "https://localhost:8080/"
        },
        "outputId": "b0a872f9-9d66-42d9-bed5-287d0b418da0"
      },
      "execution_count": null,
      "outputs": [
        {
          "output_type": "stream",
          "name": "stdout",
          "text": [
            "% of text 'cold' = 0.011502229515487752 %\n"
          ]
        }
      ]
    },
    {
      "cell_type": "markdown",
      "source": [
        "**Why might this information be of interest to us in a describing a corpus?**"
      ],
      "metadata": {
        "id": "60DfYjqg5c_V"
      }
    },
    {
      "cell_type": "markdown",
      "source": [
        "May give us some insight into the topic of the text"
      ],
      "metadata": {
        "id": "z2lYz6po5h1N"
      }
    },
    {
      "cell_type": "markdown",
      "source": [
        "### **Creating Word Count Functions**"
      ],
      "metadata": {
        "id": "5DNbtyrjw6qa"
      }
    },
    {
      "cell_type": "markdown",
      "source": [
        "Oftentimes when running an analysis, there are processes we want to repeat multiple times, maybe just in different contexts. When this is the case, it's useful to define functions that save these processes, so that we execute them more readily and also cut down on redundancies in our code. \n",
        "\n",
        "Let's try defining some functions for lexical diversity and word percentage of a text:"
      ],
      "metadata": {
        "id": "noXC8NmU6azE"
      }
    },
    {
      "cell_type": "code",
      "source": [
        "def lexical_diversity(text):\n",
        "  return 100*(len(set(text))/len(text))\n",
        "\n",
        "def percentage(count, total):\n",
        "  return 100* count/total\n",
        "\n",
        "print(\"lex_dev = \", lexical_diversity(text2),\n",
        "\"| percentage 'cold' =\", percentage(text2.count('cold'), len(text1)))\n"
      ],
      "metadata": {
        "id": "aYq6AboUw_40",
        "colab": {
          "base_uri": "https://localhost:8080/"
        },
        "outputId": "47cd0023-1ba2-4b38-a9b2-99f47841e6fa"
      },
      "execution_count": null,
      "outputs": [
        {
          "output_type": "stream",
          "name": "stdout",
          "text": [
            "lex_dev =  4.826383002768831 | percentage 'cold' = 0.008818375961873943\n"
          ]
        }
      ]
    },
    {
      "cell_type": "markdown",
      "source": [
        "## **Frequency Distributions**"
      ],
      "metadata": {
        "id": "rcsdMVYw79o3"
      }
    },
    {
      "cell_type": "markdown",
      "source": [
        "Instead of searching for the frequency of a particular word(s), we might also be interested in learning which words are most frequent in a given text; we can readily ascertain this information using the `FreqDist` function from `nltk`."
      ],
      "metadata": {
        "id": "-UBC7tSw7Yuq"
      }
    },
    {
      "cell_type": "markdown",
      "source": [
        "### **Most frequent types (words)**"
      ],
      "metadata": {
        "id": "OkcTpztn_mmv"
      }
    },
    {
      "cell_type": "code",
      "source": [
        "fdist_text1 = FreqDist(text1)\n",
        "print(fdist_text1)\n",
        "fdist_text1.most_common(37) # how far into the most common types do you need to go to get content words vs. functors and punctuation?"
      ],
      "metadata": {
        "id": "5-2yveEG8A1B"
      },
      "execution_count": null,
      "outputs": []
    },
    {
      "cell_type": "code",
      "source": [
        "fdist_text1.plot(20, cumulative=True)\n",
        "plt.show()"
      ],
      "metadata": {
        "id": "bQQmbZnj-K6z",
        "colab": {
          "base_uri": "https://localhost:8080/",
          "height": 291
        },
        "outputId": "28d30fd4-c70b-43f5-f7ea-d92b4c4cb0f0"
      },
      "execution_count": null,
      "outputs": [
        {
          "output_type": "display_data",
          "data": {
            "text/plain": [
              "<Figure size 432x288 with 1 Axes>"
            ],
            "image/png": "[encoded data removed]"
          },
          "metadata": {
            "needs_background": "light"
          }
        }
      ]
    },
    {
      "cell_type": "markdown",
      "source": [
        "**Do the most frequent types in the text provide meaningful information about its content/purpose/genre? Why or why not? What could be more useful?**"
      ],
      "metadata": {
        "id": "BVxU2jMR_JnA"
      }
    },
    {
      "cell_type": "markdown",
      "source": [],
      "metadata": {
        "id": "FBBHLsPf8I7W"
      }
    },
    {
      "cell_type": "markdown",
      "source": [
        "### **Most *Infrequent* Types (Words)** \n",
        "A *hapax* is a word that occurs only once in a text. Let's try finding those next to see if they provide more information about the text:"
      ],
      "metadata": {
        "id": "kWzohuP6_rDk"
      }
    },
    {
      "cell_type": "code",
      "source": [
        "hapaxes = fdist_text1.hapaxes()\n",
        "len(hapaxes)\n",
        "hapaxes[0:36]"
      ],
      "metadata": {
        "id": "SI1nlcOD_wfh"
      },
      "execution_count": null,
      "outputs": []
    },
    {
      "cell_type": "markdown",
      "source": [
        "**Does examination of the hapaxes provide meaningful information about the content/genre/purpose of the text?**"
      ],
      "metadata": {
        "id": "CV-ewTvhAo2V"
      }
    },
    {
      "cell_type": "markdown",
      "source": [],
      "metadata": {
        "id": "c8BaUj2k8YE2"
      }
    },
    {
      "cell_type": "markdown",
      "source": [
        "### **Selection of Types (Words) Based on Condition**"
      ],
      "metadata": {
        "id": "aVY6wTYsBZ0l"
      }
    },
    {
      "cell_type": "markdown",
      "source": [
        "\n",
        "Okay, now maybe we might think that we can find important words in the text based on both their frequency and their length -- ruling out most function words and specifying that words should occur more than once. Maybe we might get more information based on the long words in the text as well. \n",
        "\n",
        "Let's set some conditions for our frequency distribution search:\n",
        "\n",
        "${w | w \\space ϵ \\space V \\space \\& \\space P(w)}$ → The set of all *w* (words) such that *w* is an element of *V* (vocabulary) and *w* has the property *P*"
      ],
      "metadata": {
        "id": "LWIlNq0RBwxz"
      }
    },
    {
      "cell_type": "code",
      "source": [
        "vocab = set(text1)"
      ],
      "metadata": {
        "id": "BA6wus4gCLrb"
      },
      "execution_count": null,
      "outputs": []
    },
    {
      "cell_type": "code",
      "source": [
        "long_words = [word for word in vocab if len(word) > 15] # What property is this statement satisfying?\n",
        "sorted(long_words)"
      ],
      "metadata": {
        "id": "YGKwXjFXBwHJ"
      },
      "execution_count": null,
      "outputs": []
    },
    {
      "cell_type": "markdown",
      "source": [
        "**Identify words that are of a certain length and frequency - 2 conditions:**"
      ],
      "metadata": {
        "id": "RblYVKY2KLjk"
      }
    },
    {
      "cell_type": "code",
      "source": [
        "freq_content = [word for word in set(text1) if len(word) > 7 and fdist_text1[word] > 13]\n",
        "freq_content = sorted(freq_content)\n",
        "len(freq_content)\n",
        "freq_content[0:25]"
      ],
      "metadata": {
        "id": "4Pqu7RmxKXit",
        "colab": {
          "base_uri": "https://localhost:8080/"
        },
        "outputId": "4558f97f-a2f0-4272-f5c9-3a8e706b0314"
      },
      "execution_count": null,
      "outputs": [
        {
          "output_type": "execute_result",
          "data": {
            "text/plain": [
              "['American',\n",
              " 'Atlantic',\n",
              " 'Christian',\n",
              " 'Fedallah',\n",
              " 'Greenland',\n",
              " 'Leviathan',\n",
              " 'Meantime',\n",
              " 'Meanwhile',\n",
              " 'Nantucket',\n",
              " 'Nantucketer',\n",
              " 'Nevertheless',\n",
              " 'Queequeg',\n",
              " 'Starbuck',\n",
              " 'Steelkilt',\n",
              " 'Tashtego',\n",
              " 'according',\n",
              " 'actually',\n",
              " 'advancing',\n",
              " 'afterwards',\n",
              " 'alongside',\n",
              " 'altogether',\n",
              " 'answered',\n",
              " 'anything',\n",
              " 'anywhere',\n",
              " 'attached']"
            ]
          },
          "metadata": {},
          "execution_count": 20
        }
      ]
    },
    {
      "cell_type": "markdown",
      "source": [
        "**What, if any, useful information can we glean from the text based on this basic analysis? What are its shortcomings?**"
      ],
      "metadata": {
        "id": "MANB7uLE9sMA"
      }
    },
    {
      "cell_type": "markdown",
      "source": [],
      "metadata": {
        "id": "PP3JiCwi-IyP"
      }
    },
    {
      "cell_type": "markdown",
      "source": [
        "## **Now let's compare multiple texts in corpus on some of these basic text statistics**"
      ],
      "metadata": {
        "id": "eQWDF0M0PtoW"
      }
    },
    {
      "cell_type": "markdown",
      "source": [
        "Maybe these basic statistics don't mean much in isolation, when only examining one text at a time. But what can we find out by comparing several texts on these metrics?"
      ],
      "metadata": {
        "id": "hqT2h8Z2-RIV"
      }
    },
    {
      "cell_type": "code",
      "source": [
        "from nltk.corpus import gutenberg\n",
        "gutenberg.fileids()"
      ],
      "metadata": {
        "id": "5MFwYeB1gtol",
        "colab": {
          "base_uri": "https://localhost:8080/"
        },
        "outputId": "a538377d-d1b1-407c-9d2c-239e42c0547a"
      },
      "execution_count": null,
      "outputs": [
        {
          "output_type": "execute_result",
          "data": {
            "text/plain": [
              "['austen-emma.txt',\n",
              " 'austen-persuasion.txt',\n",
              " 'austen-sense.txt',\n",
              " 'bible-kjv.txt',\n",
              " 'blake-poems.txt',\n",
              " 'bryant-stories.txt',\n",
              " 'burgess-busterbrown.txt',\n",
              " 'carroll-alice.txt',\n",
              " 'chesterton-ball.txt',\n",
              " 'chesterton-brown.txt',\n",
              " 'chesterton-thursday.txt',\n",
              " 'edgeworth-parents.txt',\n",
              " 'melville-moby_dick.txt',\n",
              " 'milton-paradise.txt',\n",
              " 'shakespeare-caesar.txt',\n",
              " 'shakespeare-hamlet.txt',\n",
              " 'shakespeare-macbeth.txt',\n",
              " 'whitman-leaves.txt']"
            ]
          },
          "metadata": {},
          "execution_count": 27
        }
      ]
    },
    {
      "cell_type": "code",
      "source": [
        "for fileid in gutenberg.fileids():\n",
        "  num_chars = len(gutenberg.raw(fileid))\n",
        "  num_words = len(gutenberg.words(fileid))\n",
        "  num_sents = len(gutenberg.sents(fileid))\n",
        "  num_vocab = len(set(w.lower() for w in gutenberg.words(fileid))) #set all words to lowercase to avoid double-counting\n",
        "  print(\"Avg word len = \", round(num_chars/num_words),\n",
        "        \"Avg sent len = \", round(num_words/num_sents), \n",
        "        \"Lex_Div = \", round(num_words/num_vocab,2), \n",
        "        \"Text:\", fileid)  "
      ],
      "metadata": {
        "id": "faayaCa_h7Z8",
        "colab": {
          "base_uri": "https://localhost:8080/"
        },
        "outputId": "dfd0d49e-9408-495a-a5eb-14098e84674f"
      },
      "execution_count": null,
      "outputs": [
        {
          "output_type": "stream",
          "name": "stdout",
          "text": [
            "Avg word len =  5 Avg sent len =  25 Lex_Div =  26 Text: austen-emma.txt\n",
            "Avg word len =  5 Avg sent len =  26 Lex_Div =  17 Text: austen-persuasion.txt\n",
            "Avg word len =  5 Avg sent len =  28 Lex_Div =  22 Text: austen-sense.txt\n",
            "Avg word len =  4 Avg sent len =  34 Lex_Div =  79 Text: bible-kjv.txt\n",
            "Avg word len =  5 Avg sent len =  19 Lex_Div =  5 Text: blake-poems.txt\n",
            "Avg word len =  4 Avg sent len =  19 Lex_Div =  14 Text: bryant-stories.txt\n",
            "Avg word len =  4 Avg sent len =  18 Lex_Div =  12 Text: burgess-busterbrown.txt\n",
            "Avg word len =  4 Avg sent len =  20 Lex_Div =  13 Text: carroll-alice.txt\n",
            "Avg word len =  5 Avg sent len =  20 Lex_Div =  12 Text: chesterton-ball.txt\n",
            "Avg word len =  5 Avg sent len =  23 Lex_Div =  11 Text: chesterton-brown.txt\n",
            "Avg word len =  5 Avg sent len =  19 Lex_Div =  11 Text: chesterton-thursday.txt\n",
            "Avg word len =  4 Avg sent len =  21 Lex_Div =  25 Text: edgeworth-parents.txt\n",
            "Avg word len =  5 Avg sent len =  26 Lex_Div =  15 Text: melville-moby_dick.txt\n",
            "Avg word len =  5 Avg sent len =  52 Lex_Div =  11 Text: milton-paradise.txt\n",
            "Avg word len =  4 Avg sent len =  12 Lex_Div =  9 Text: shakespeare-caesar.txt\n",
            "Avg word len =  4 Avg sent len =  12 Lex_Div =  8 Text: shakespeare-hamlet.txt\n",
            "Avg word len =  4 Avg sent len =  12 Lex_Div =  7 Text: shakespeare-macbeth.txt\n",
            "Avg word len =  5 Avg sent len =  36 Lex_Div =  12 Text: whitman-leaves.txt\n"
          ]
        }
      ]
    },
    {
      "cell_type": "markdown",
      "source": [
        "**Let's discuss some observations! What do you notice based on these text statistics across a selection of texts?**"
      ],
      "metadata": {
        "id": "Xa1HWVqo-1WJ"
      }
    },
    {
      "cell_type": "markdown",
      "source": [],
      "metadata": {
        "id": "lfgqI9jC--hr"
      }
    },
    {
      "cell_type": "markdown",
      "source": [
        "## **Stylistic Comparisons Amongst Text Genres**\n",
        "\n",
        "We briefly discussed how the Brown corpus has been used to study differences between genres of text, let's examine these differences using our basic text statistics..."
      ],
      "metadata": {
        "id": "qAORqoH9RizW"
      }
    },
    {
      "cell_type": "code",
      "source": [
        "from nltk.corpus import brown\n",
        "news_text = brown.words(categories='news')\n",
        "fdist = FreqDist(word.lower() for word in news_text) # all words in news_text to lowercase\n",
        "w_words = ['who', 'what', 'where', 'when', 'why']\n",
        "\n",
        "for w in w_words:\n",
        "  print(w + ':', fdist[w], end=' ')\n"
      ],
      "metadata": {
        "id": "zoL7j99DSiwl",
        "colab": {
          "base_uri": "https://localhost:8080/"
        },
        "outputId": "9b6e6109-13f7-4c91-d6e5-8d50ff34336e"
      },
      "execution_count": null,
      "outputs": [
        {
          "output_type": "stream",
          "name": "stdout",
          "text": [
            "who: 268 what: 95 where: 59 when: 169 why: 14 "
          ]
        }
      ]
    },
    {
      "cell_type": "markdown",
      "source": [
        "#### *Conditional Frequencies*"
      ],
      "metadata": {
        "id": "v77xk4ZETVWp"
      }
    },
    {
      "cell_type": "code",
      "source": [
        "brown.categories()"
      ],
      "metadata": {
        "id": "m9gsuG0BUFOS",
        "colab": {
          "base_uri": "https://localhost:8080/"
        },
        "outputId": "01fb8d81-8550-451a-d40a-d0042197b1c9"
      },
      "execution_count": null,
      "outputs": [
        {
          "output_type": "execute_result",
          "data": {
            "text/plain": [
              "['adventure',\n",
              " 'belles_lettres',\n",
              " 'editorial',\n",
              " 'fiction',\n",
              " 'government',\n",
              " 'hobbies',\n",
              " 'humor',\n",
              " 'learned',\n",
              " 'lore',\n",
              " 'mystery',\n",
              " 'news',\n",
              " 'religion',\n",
              " 'reviews',\n",
              " 'romance',\n",
              " 'science_fiction']"
            ]
          },
          "metadata": {},
          "execution_count": 32
        }
      ]
    },
    {
      "cell_type": "code",
      "source": [
        "cfd = nltk.ConditionalFreqDist(\n",
        "            (genre, word)\n",
        "            for genre in brown.categories()\n",
        "            for word in brown.words(categories=genre))\n",
        "genres = ['news', 'adventure', 'editorial', 'government', 'humor', 'lore', 'romance']\n",
        "w_words = ['who', 'what', 'where', 'when', 'why']\n",
        "\n",
        "cfd.tabulate(conditions = genres, samples = w_words)"
      ],
      "metadata": {
        "id": "XNlepikjTab_",
        "colab": {
          "base_uri": "https://localhost:8080/"
        },
        "outputId": "6053e123-3683-40e7-a3c3-86da559f2eb1"
      },
      "execution_count": null,
      "outputs": [
        {
          "output_type": "stream",
          "name": "stdout",
          "text": [
            "              he   him   his   she   her  hers  they  them their \n",
            "      news   451    93   399    42   103     0   205    96   219 \n",
            " adventure   761   415   776   240   444     1   206   156   156 \n",
            " editorial   268   106   244    41    37     1   148    67   124 \n",
            "government   120    25   141     0     3     0    92    63   174 \n",
            "     humor   146    48   137    58    62     0    70    49    49 \n",
            "      lore   541   167   496   232   302     1   303   181   300 \n",
            "   romance   702   339   559   496   651     3   168   142   114 \n"
          ]
        }
      ]
    },
    {
      "cell_type": "markdown",
      "source": [
        "**What differences exist amongst the genres as they relate to their frequency of wh-words usage? Are there other meaningful word classes that might distinguish between genres?**"
      ],
      "metadata": {
        "id": "suz7s4pvVBiU"
      }
    },
    {
      "cell_type": "code",
      "source": [
        "pronouns = ['he', 'him', 'his', 'she', 'her', 'hers', 'they', 'them', 'their']"
      ],
      "metadata": {
        "id": "7yw0XY7GW8KC"
      },
      "execution_count": null,
      "outputs": []
    },
    {
      "cell_type": "markdown",
      "source": [],
      "metadata": {
        "id": "qjHnjhaGAx6W"
      }
    },
    {
      "cell_type": "markdown",
      "source": [
        "### **Stylistic Comparisons Amongsts Texts Over Time**\n",
        "\n",
        "In addition to investigating static differences in word usage across texts, we can also examine how word use changes over time. One corpus we can use for this are the inaugural address speeches from the `nltk` corpus:"
      ],
      "metadata": {
        "id": "wdQ7CY-LYcVP"
      }
    },
    {
      "cell_type": "code",
      "source": [
        "from matplotlib.pyplot import figure\n",
        "from nltk.corpus import inaugural\n",
        "\n",
        "inaugural.fileids()\n",
        "\n",
        "[fileid[:4] for fileid in inaugural.fileids()]"
      ],
      "metadata": {
        "id": "2OwnBvm8YjlT"
      },
      "execution_count": null,
      "outputs": []
    },
    {
      "cell_type": "code",
      "source": [
        "cfd = nltk.ConditionalFreqDist(\n",
        "    (target, fileid[:4])\n",
        "    for fileid in inaugural.fileids()\n",
        "    for word in inaugural.words(fileid)\n",
        "    for target in ['freedom', 'change']\n",
        "    if word.lower().startswith(target))\n",
        "figure(figsize=(12, 8), dpi=80)\n",
        "cfd.plot()\n",
        "plt.show()"
      ],
      "metadata": {
        "colab": {
          "base_uri": "https://localhost:8080/",
          "height": 566
        },
        "id": "Xz3K4xHQYxXU",
        "outputId": "a3fb0a39-463e-4a27-ad0e-09ecaae4909a"
      },
      "execution_count": null,
      "outputs": [
        {
          "output_type": "display_data",
          "data": {
            "text/plain": [
              "<Figure size 960x640 with 1 Axes>"
            ],
            "image/png": "[encoded data removed]"
          },
          "metadata": {
            "needs_background": "light"
          }
        }
      ]
    },
    {
      "cell_type": "markdown",
      "source": [
        "**What other words might have changed in their usage over time?**"
      ],
      "metadata": {
        "id": "aLEkgM15Zlis"
      }
    },
    {
      "cell_type": "markdown",
      "source": [],
      "metadata": {
        "id": "JoKsmNbkAxB1"
      }
    }
  ]
}
