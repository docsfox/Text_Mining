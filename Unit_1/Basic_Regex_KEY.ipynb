{
  "metadata": {
    "kernelspec": {
      "language": "python",
      "display_name": "Python 3",
      "name": "python3"
    },
    "language_info": {
      "pygments_lexer": "ipython3",
      "nbconvert_exporter": "python",
      "version": "3.6.4",
      "file_extension": ".py",
      "codemirror_mode": {
        "name": "ipython",
        "version": 3
      },
      "name": "python",
      "mimetype": "text/x-python"
    },
    "colab": {
      "provenance": []
    }
  },
  "nbformat_minor": 0,
  "nbformat": 4,
  "cells": [
    {
      "cell_type": "markdown",
      "source": [
        "# **In-Class Assignment: Basics in Regular Expressions**\n",
        "\n",
        "## *IS 5150*\n",
        "## Name: KEY"
      ],
      "metadata": {
        "id": "77PRtmGP5paI"
      }
    },
    {
      "cell_type": "markdown",
      "source": [
        "In this in-class assingment we will cover some basic functions of regex to give you an idea of how you might use it for pattern matching/text extraction purposes. Regex is a pain, but it's also a useful tool that will come up repeatedly in this course, so it's good to have at least a basic enough understanding so that you become confident enough to Google solutions when you need them (because most people don't memorize regex...).\n",
        "\n",
        "Let's begin by importing `re` which is our regex library for python."
      ],
      "metadata": {
        "id": "uqdgxxMO5paP"
      }
    },
    {
      "cell_type": "code",
      "source": [
        "import re # import re"
      ],
      "metadata": {
        "trusted": true,
        "id": "h3PT2_zn5paQ"
      },
      "execution_count": null,
      "outputs": []
    },
    {
      "cell_type": "markdown",
      "source": [
        "## **Basic Applications of `re`**\n",
        "\n",
        "Let's explore some of the basic functions in the `re` library for python:\n",
        "\n",
        "### **Searching Strings**\n",
        "Using the `search` function from `re` produce a regex pattern and search the provided strings for any character (e.g., a-z, A-Z, 0-9); use a print statement to return whether each string has a match or not."
      ],
      "metadata": {
        "id": "C3C8XdvF5paS"
      }
    },
    {
      "cell_type": "code",
      "source": [
        "string1 = \"&^%$#@\"\n",
        "string2 = \"Other bookmarks\"\n",
        "\n",
        "pattern = r'[a-zA-Z0-9]'\n",
        "print(re.search(pattern, string1))\n",
        "print(re.search(pattern, string2))"
      ],
      "metadata": {
        "trusted": true,
        "id": "zSPBBENp5paT",
        "colab": {
          "base_uri": "https://localhost:8080/"
        },
        "outputId": "ebf6e8ea-d185-4a14-8de3-f868ee26eb94"
      },
      "execution_count": null,
      "outputs": [
        {
          "output_type": "stream",
          "name": "stdout",
          "text": [
            "None\n",
            "<re.Match object; span=(0, 1), match='O'>\n"
          ]
        }
      ]
    },
    {
      "cell_type": "markdown",
      "source": [
        "### **Findall**\n",
        "\n",
        "Now, using the `findall` function from `re` print all matches using the same regex pattern in the provided string."
      ],
      "metadata": {
        "id": "xPmV7MOcgBUv"
      }
    },
    {
      "cell_type": "code",
      "source": [
        "str = 'it is the way & not'\n",
        "pattern = r'[a-zA-Z0-9]'\n",
        "\n",
        "re.findall(pattern, str)"
      ],
      "metadata": {
        "colab": {
          "base_uri": "https://localhost:8080/"
        },
        "id": "rW2MfgXV6DnX",
        "outputId": "4c39571a-13fb-45ba-c49c-a8ece4a931e8"
      },
      "execution_count": null,
      "outputs": [
        {
          "output_type": "execute_result",
          "data": {
            "text/plain": [
              "['i', 't', 'i', 's', 't', 'h', 'e', 'w', 'a', 'y', 'n', 'o', 't']"
            ]
          },
          "metadata": {},
          "execution_count": 6
        }
      ]
    },
    {
      "cell_type": "markdown",
      "source": [
        "### **Kleenes**\n",
        "Add in a *kleene* operator to your regex pattern to return the matches as sequences of words (e.g., \"it is the way\" vs. returning individual character mateches)."
      ],
      "metadata": {
        "id": "0WnmzpEyg3BV"
      }
    },
    {
      "cell_type": "code",
      "source": [
        "str = 'it is the way & not'\n",
        "pattern = r'[a-zA-Z0-9]+'\n",
        "\n",
        "re.findall(pattern, str)"
      ],
      "metadata": {
        "colab": {
          "base_uri": "https://localhost:8080/"
        },
        "id": "-i7rUz34hWhx",
        "outputId": "fc5f2d7e-455f-49c3-f418-e06d5653ee94"
      },
      "execution_count": null,
      "outputs": [
        {
          "output_type": "execute_result",
          "data": {
            "text/plain": [
              "['it', 'is', 'the', 'way', 'not']"
            ]
          },
          "metadata": {},
          "execution_count": 29
        }
      ]
    },
    {
      "cell_type": "markdown",
      "source": [
        "### **Substitutions**\n",
        "Use the `sub` function from `re` to remove all leading zeros from the provided IP address:"
      ],
      "metadata": {
        "id": "_xLUw3OSNb23"
      }
    },
    {
      "cell_type": "code",
      "source": [
        "str = '100.001.055.255'\n",
        "print(re.sub('\\.[0]*', '.', str))"
      ],
      "metadata": {
        "colab": {
          "base_uri": "https://localhost:8080/"
        },
        "id": "l5FnqdvQNqH_",
        "outputId": "06bec536-14df-4fe2-bd85-ddbf2c7313d0"
      },
      "execution_count": null,
      "outputs": [
        {
          "output_type": "stream",
          "name": "stdout",
          "text": [
            "100.1.55.255\n"
          ]
        }
      ]
    },
    {
      "cell_type": "markdown",
      "source": [
        "## **Regex Operators**\n",
        "\n",
        "Next we'll explore some regex operators we learned about in class, given the following string: \"https://www.youtube.com/watch?v=ewgCqJDI_Nk\""
      ],
      "metadata": {
        "id": "-ZKovkFc5paU"
      }
    },
    {
      "cell_type": "code",
      "source": [
        "str = \"https://www.youtube.com/watch?v=ewgCqJDI_Nk\""
      ],
      "metadata": {
        "trusted": true,
        "id": "Isqj_gl_5paV"
      },
      "execution_count": null,
      "outputs": []
    },
    {
      "cell_type": "markdown",
      "source": [
        "### **Disjunction**\n",
        "Using *disjunction*, search for the letters `u`, `o`, or `f` in the provided string:"
      ],
      "metadata": {
        "id": "_A9OD6K_js4Z"
      }
    },
    {
      "cell_type": "code",
      "source": [
        "pattern = r'[uof]'\n",
        "\n",
        "print(re.search(pattern, str))"
      ],
      "metadata": {
        "colab": {
          "base_uri": "https://localhost:8080/"
        },
        "id": "pU-P0AYojsdJ",
        "outputId": "348307da-1448-4eae-b23f-0d4003de104e"
      },
      "execution_count": null,
      "outputs": [
        {
          "output_type": "stream",
          "name": "stdout",
          "text": [
            "<re.Match object; span=(17, 18), match='o'>\n"
          ]
        }
      ]
    },
    {
      "cell_type": "markdown",
      "source": [
        "### **Range**\n",
        "\n",
        "Using *Range* find all **sequences** of lowercase letters in the provided string:"
      ],
      "metadata": {
        "id": "_2K5WP1YlAAS"
      }
    },
    {
      "cell_type": "code",
      "source": [
        "pattern = r'[a-z]+'\n",
        "\n",
        "print(re.findall(pattern, str))"
      ],
      "metadata": {
        "colab": {
          "base_uri": "https://localhost:8080/"
        },
        "id": "leX_mSgllVHK",
        "outputId": "8d9cbf2c-63f7-4b9e-f21d-e1037969d595"
      },
      "execution_count": null,
      "outputs": [
        {
          "output_type": "stream",
          "name": "stdout",
          "text": [
            "['https', 'www', 'youtube', 'com', 'watch', 'v', 'ewg', 'q', 'k']\n"
          ]
        }
      ]
    },
    {
      "cell_type": "markdown",
      "source": [
        "### **Negation**\n",
        "\n",
        "Using *Negation* search for the first instance of a non-character (e.g., &,^,$) in the provided string:"
      ],
      "metadata": {
        "id": "32ezHC8sl44H"
      }
    },
    {
      "cell_type": "code",
      "source": [
        "pattern = r'[^A-Za-z0-9]'\n",
        "print(re.search(pattern, str))"
      ],
      "metadata": {
        "colab": {
          "base_uri": "https://localhost:8080/"
        },
        "id": "iPK46QMsmETl",
        "outputId": "14617944-31a0-414d-d43f-4a9ab973b712"
      },
      "execution_count": null,
      "outputs": [
        {
          "output_type": "stream",
          "name": "stdout",
          "text": [
            "<re.Match object; span=(5, 6), match=':'>\n"
          ]
        }
      ]
    },
    {
      "cell_type": "markdown",
      "source": [
        "### **Optionality**\n",
        "\n",
        "Sometimes urls use 'http', while othertimes they use 'https' in their web addresses. Use *Optionality* to search for a match of http *or* https in the provided string:\n",
        "\n",
        "*hint: also use concatenation to search for the entire string of http and https*"
      ],
      "metadata": {
        "id": "6vi9TXyEmcuF"
      }
    },
    {
      "cell_type": "code",
      "source": [
        "pattern = r'https?'\n",
        "print(re.search(pattern, str))"
      ],
      "metadata": {
        "colab": {
          "base_uri": "https://localhost:8080/"
        },
        "id": "WE2lQLBknCm0",
        "outputId": "61af74d8-050a-439a-aff8-ddf2447961ee"
      },
      "execution_count": null,
      "outputs": [
        {
          "output_type": "stream",
          "name": "stdout",
          "text": [
            "<re.Match object; span=(0, 5), match='https'>\n"
          ]
        }
      ]
    },
    {
      "cell_type": "markdown",
      "source": [
        "### **Wildcard**\n"
      ],
      "metadata": {
        "id": "eODqY_QQo4A7"
      }
    },
    {
      "cell_type": "markdown",
      "source": [
        "Use the *wildcard* operator in combination with a *kleene* to idenitfy the string following 'watch' in the YouTube url that indicates the unique video ID sequence (*hint: remember that ? is a special character.*):"
      ],
      "metadata": {
        "id": "sEoxAO075M19"
      }
    },
    {
      "cell_type": "code",
      "source": [
        "str"
      ],
      "metadata": {
        "colab": {
          "base_uri": "https://localhost:8080/",
          "height": 36
        },
        "id": "YoyNO61L6Cy8",
        "outputId": "14b6f480-e133-45ae-9bc8-23a798a02613"
      },
      "execution_count": null,
      "outputs": [
        {
          "output_type": "execute_result",
          "data": {
            "text/plain": [
              "'https://www.youtube.com/watch?v=ewgCqJDI_Nk'"
            ],
            "application/vnd.google.colaboratory.intrinsic+json": {
              "type": "string"
            }
          },
          "metadata": {},
          "execution_count": 49
        }
      ]
    },
    {
      "cell_type": "code",
      "source": [
        "pattern = r'\\?.+'\n",
        "print(re.findall(pattern, str))"
      ],
      "metadata": {
        "colab": {
          "base_uri": "https://localhost:8080/"
        },
        "id": "ShofHilH4o6c",
        "outputId": "1d0c9e5e-22dd-46ab-d067-69c792bdc9a4"
      },
      "execution_count": null,
      "outputs": [
        {
          "output_type": "stream",
          "name": "stdout",
          "text": [
            "['?v=ewgCqJDI_Nk']\n"
          ]
        }
      ]
    },
    {
      "cell_type": "markdown",
      "source": [
        "## **Shorthand Operators**\n",
        "\n",
        "Next let's try out some of the additional shorthand operators, using this Wikipedia paragraph:\n",
        "\n",
        ">> *Pennatomys nivalis is an extinct oryzomyine rodent from the islands of Sint Eustatius, Saint Kitts, and Nevis in the Lesser Antilles (range pictured). It is known from skeletal remains found in Amerindian archeological sites on all three islands, with dates ranging from 790–520 BCE to 900–1200 CE.*"
      ],
      "metadata": {
        "id": "cJy_aFDL8-hk"
      }
    },
    {
      "cell_type": "code",
      "source": [
        "str = \"Pennatomys nivalis is an extinct oryzomyine rodent from the islands of Sint Eustatius, Saint Kitts, and Nevis in the Lesser Antilles (range pictured). It is known from skeletal remains found in Amerindian archeological sites on all three islands, with dates ranging from 790–520 BCE to 900–1200 CE.\""
      ],
      "metadata": {
        "id": "DvTpuH5i9ov9"
      },
      "execution_count": null,
      "outputs": []
    },
    {
      "cell_type": "markdown",
      "source": [
        "### **ID numeric characters**\n",
        "Use a regex shorthand operator to identify all numeric sequences in the given paragraph:"
      ],
      "metadata": {
        "id": "EsCREK3O9t-l"
      }
    },
    {
      "cell_type": "code",
      "source": [
        "pattern = r'\\d+'\n",
        "print(re.findall(pattern, str))"
      ],
      "metadata": {
        "colab": {
          "base_uri": "https://localhost:8080/"
        },
        "id": "1JNZZYc899XC",
        "outputId": "dbd28748-5dac-48e0-b12a-0c91179fb40c"
      },
      "execution_count": null,
      "outputs": [
        {
          "output_type": "stream",
          "name": "stdout",
          "text": [
            "['790', '520', '900', '1200']\n"
          ]
        }
      ]
    },
    {
      "cell_type": "markdown",
      "source": [
        "### **ID numeric sequences of length x,y**\n",
        "Use regex shorthand operators to identify all numeric sequences between 1-4 digits long:"
      ],
      "metadata": {
        "id": "ANdmi_DYKWt5"
      }
    },
    {
      "cell_type": "code",
      "source": [
        "pattern = r'\\d{1,4}'\n",
        "print(re.findall(pattern, str))"
      ],
      "metadata": {
        "colab": {
          "base_uri": "https://localhost:8080/"
        },
        "id": "ush7EYKJGHps",
        "outputId": "e3892026-0f92-4024-edee-1dc2775e711c"
      },
      "execution_count": null,
      "outputs": [
        {
          "output_type": "stream",
          "name": "stdout",
          "text": [
            "['790', '520', '900', '1200']\n"
          ]
        }
      ]
    },
    {
      "cell_type": "markdown",
      "source": [
        "### **ID words at sentence end**\n",
        "Use regex shorthand operators to search for a word of any length at the end of a string with punctuation."
      ],
      "metadata": {
        "id": "1yuLDIL35pam"
      }
    },
    {
      "cell_type": "code",
      "source": [
        "pattern = '\\w+\\S$'\n",
        "print(re.search(pattern, str))"
      ],
      "metadata": {
        "trusted": true,
        "id": "xA96iqkL5pam",
        "colab": {
          "base_uri": "https://localhost:8080/"
        },
        "outputId": "688a31c3-a71e-4313-a29e-4d8c34f03d36"
      },
      "execution_count": null,
      "outputs": [
        {
          "output_type": "stream",
          "name": "stdout",
          "text": [
            "<re.Match object; span=(295, 298), match='CE.'>\n"
          ]
        }
      ]
    },
    {
      "cell_type": "markdown",
      "source": [
        "## **Regex for search and subsitution**\n",
        "\n",
        "Finally, let's use regex to search and substitute substrings within a larger string.\n",
        "\n",
        "Search for all matches of any five greeting words within the provided string (hint: remember to search both upper and lowercase):"
      ],
      "metadata": {
        "id": "ds47-OPZO9BB"
      }
    },
    {
      "cell_type": "code",
      "source": [
        "str = 'You say, Goodbye and I say, Hello, hello, hello. I do not know why you say, Goodbye, I say, Hello, hello, hello.'"
      ],
      "metadata": {
        "id": "lSafvT-fPh8B"
      },
      "execution_count": null,
      "outputs": []
    },
    {
      "cell_type": "code",
      "source": [
        "patterns = ['[Hh]ello', '[Gg]oodbye', '[Gg]ood day', '[Gg]reetings', '[Ss]alutations']\n",
        "for pattern in patterns:\n",
        "    if re.search(pattern,  str):\n",
        "        print('Matched!')\n",
        "    else:\n",
        "        print('Not Matched!')"
      ],
      "metadata": {
        "colab": {
          "base_uri": "https://localhost:8080/"
        },
        "id": "XIrO09K0QEAA",
        "outputId": "64c4a9a6-3c17-4395-90c2-82bb20c6f905"
      },
      "execution_count": null,
      "outputs": [
        {
          "output_type": "stream",
          "name": "stdout",
          "text": [
            "Matched!\n",
            "Matched!\n",
            "Not Matched!\n",
            "Not Matched!\n",
            "Not Matched!\n"
          ]
        }
      ]
    },
    {
      "cell_type": "markdown",
      "source": [
        "\n",
        "Now use the `sub` function from `re` to replace whitespaces with an underscore and vice versa."
      ],
      "metadata": {
        "id": "3TzKiN4a5pau"
      }
    },
    {
      "cell_type": "code",
      "source": [
        "str = 'ID Number Column'\n",
        "str2 = 'First_Name'"
      ],
      "metadata": {
        "trusted": true,
        "id": "f6B2mm7F5pau"
      },
      "execution_count": null,
      "outputs": []
    },
    {
      "cell_type": "code",
      "source": [
        "re.sub(\" \", \"_\", str)\n",
        "re.sub(\"_\", \" \", str2)"
      ],
      "metadata": {
        "colab": {
          "base_uri": "https://localhost:8080/",
          "height": 36
        },
        "id": "L035tnB9RYQf",
        "outputId": "18473a98-1a3a-4741-b726-7631979aa720"
      },
      "execution_count": null,
      "outputs": [
        {
          "output_type": "execute_result",
          "data": {
            "text/plain": [
              "'First Name'"
            ],
            "application/vnd.google.colaboratory.intrinsic+json": {
              "type": "string"
            }
          },
          "metadata": {},
          "execution_count": 142
        }
      ]
    },
    {
      "cell_type": "markdown",
      "source": [
        "### **Extra Credit (1 pt):** \n",
        "\n",
        "Use regex to search for the year, month, and day from an article url (*hint: yyyy/mm/dd*)"
      ],
      "metadata": {
        "id": "SymsSVRe5pav"
      }
    },
    {
      "cell_type": "code",
      "source": [
        "str = 'https://www.cnbc.com/2022/07/15/millennials-are-to-blame-for-sky-high-inflation-strategist-says.html'"
      ],
      "metadata": {
        "id": "uxspLjMKS1et"
      },
      "execution_count": null,
      "outputs": []
    },
    {
      "cell_type": "code",
      "source": [
        "pattern = r'/(\\d{4})/(\\d{1,2})/(\\d{1,2})/'\n",
        "re.search(pattern, str)"
      ],
      "metadata": {
        "trusted": true,
        "id": "cW9rRx815pav",
        "colab": {
          "base_uri": "https://localhost:8080/"
        },
        "outputId": "fe75c2cc-5c11-4afa-c584-eae8a16c0f42"
      },
      "execution_count": null,
      "outputs": [
        {
          "output_type": "execute_result",
          "data": {
            "text/plain": [
              "<re.Match object; span=(20, 32), match='/2022/07/15/'>"
            ]
          },
          "metadata": {},
          "execution_count": 151
        }
      ]
    }
  ]
}