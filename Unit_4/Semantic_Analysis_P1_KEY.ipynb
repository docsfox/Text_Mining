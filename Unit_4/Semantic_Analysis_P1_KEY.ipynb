{
  "nbformat": 4,
  "nbformat_minor": 0,
  "metadata": {
    "colab": {
      "provenance": []
    },
    "kernelspec": {
      "name": "python3",
      "display_name": "Python 3"
    },
    "language_info": {
      "name": "python"
    }
  },
  "cells": [
    {
      "cell_type": "markdown",
      "source": [
        "# **In Class Assignment: Semantic Analysis P1**\n",
        "\n",
        "## Name: KEY\n",
        "## *IS 5150*\n",
        "\n",
        "In this in-class assignment we will apply several methods of semantic analysis that we learned about during the lecture. We will begin with exploring the WordNet corpus and its various semantic synset types, then we will use synsets to determine semantic similarity between entities.\n",
        "\n",
        "Next, we will utilize the Lesk algorithm to perform word sense disambiguation.\n",
        "\n",
        "In the P2 of this notebook we will examine named entity recongition.\n",
        "\n",
        "As, always, we begin by loading our dependencies."
      ],
      "metadata": {
        "id": "QPqpRon8Q_m3"
      }
    },
    {
      "cell_type": "code",
      "execution_count": null,
      "metadata": {
        "id": "IehfpG0xQ5QO"
      },
      "outputs": [],
      "source": [
        "import nltk\n",
        "nltk.download('wordnet')\n",
        "nltk.download('omw-1.4')\n",
        "nltk.download('punkt')\n",
        "from nltk.corpus import wordnet as wn\n",
        "import pandas as pd"
      ]
    },
    {
      "cell_type": "markdown",
      "source": [
        "## Let's begin by examining some synsets in WordNet...\n",
        "\n",
        "Select a term then print out a dataframe of synsets that includes the synset itself, its POS tag, definition, lemmas and examples."
      ],
      "metadata": {
        "id": "q-9aWyVNTH3n"
      }
    },
    {
      "cell_type": "code",
      "source": [
        "term = 'pool'\n",
        "synsets = wn.synsets(term)\n",
        "print('Total Synsets:', len(synsets))"
      ],
      "metadata": {
        "colab": {
          "base_uri": "https://localhost:8080/"
        },
        "id": "y3LpgkBnS795",
        "outputId": "390902eb-d85e-4c45-b8b9-bc23841b9fab"
      },
      "execution_count": null,
      "outputs": [
        {
          "output_type": "stream",
          "name": "stdout",
          "text": [
            "Total Synsets: 11\n"
          ]
        }
      ]
    },
    {
      "cell_type": "code",
      "source": [
        "\n",
        "pd.options.display.max_colwidth = 200\n",
        "fruit_df = pd.DataFrame([{'Synset': synset,\n",
        "                         'Part of Speech': synset.lexname(),\n",
        "                         'Definition': synset.definition(),\n",
        "                         'Lemmas': synset.lemma_names(),\n",
        "                         'Examples': synset.examples()}\n",
        "                             for synset in synsets])\n",
        "fruit_df = fruit_df[['Synset', 'Part of Speech', 'Definition', 'Lemmas', 'Examples']]\n",
        "fruit_df"
      ],
      "metadata": {
        "colab": {
          "base_uri": "https://localhost:8080/",
          "height": 525
        },
        "id": "4vfobKSATklM",
        "outputId": "a34cc577-85cb-409f-f6f0-650fa33f6e1a"
      },
      "execution_count": null,
      "outputs": [
        {
          "output_type": "execute_result",
          "data": {
            "text/plain": [
              "                       Synset    Part of Speech  \\\n",
              "0         Synset('pool.n.01')     noun.artifact   \n",
              "1         Synset('pond.n.01')       noun.object   \n",
              "2         Synset('pool.n.03')        noun.group   \n",
              "3   Synset('consortium.n.01')        noun.group   \n",
              "4         Synset('pool.n.05')   noun.possession   \n",
              "5         Synset('pool.n.06')       noun.object   \n",
              "6         Synset('pool.n.07')   noun.possession   \n",
              "7         Synset('pool.n.08')     noun.location   \n",
              "8         Synset('pool.n.09')          noun.act   \n",
              "9         Synset('pool.v.01')   verb.possession   \n",
              "10        Synset('pool.v.02')  verb.competition   \n",
              "\n",
              "                                                      Definition  \\\n",
              "0              an excavation that is (usually) filled with water   \n",
              "1                                                   a small lake   \n",
              "2      an organization of people or resources that can be shared   \n",
              "3          an association of companies for some definite purpose   \n",
              "4                              any communal combination of funds   \n",
              "5     a small body of standing water (rainwater) or other liquid   \n",
              "6                             the combined stakes of the betters   \n",
              "7                          something resembling a pool of liquid   \n",
              "8   any of various games played on a pool table having 6 pockets   \n",
              "9                                     combine into a common fund   \n",
              "10                                 join or form a pool of people   \n",
              "\n",
              "                           Lemmas  \\\n",
              "0                          [pool]   \n",
              "1                    [pond, pool]   \n",
              "2                          [pool]   \n",
              "3   [consortium, pool, syndicate]   \n",
              "4                          [pool]   \n",
              "5                  [pool, puddle]   \n",
              "6                   [pool, kitty]   \n",
              "7                  [pool, puddle]   \n",
              "8        [pool, pocket_billiards]   \n",
              "9                          [pool]   \n",
              "10                         [pool]   \n",
              "\n",
              "                                                                                           Examples  \n",
              "0                                                                                                []  \n",
              "1                                                              [the pond was too small for sailing]  \n",
              "2             [a car pool, a secretarial pool, when he was first hired he was assigned to the pool]  \n",
              "3                                                                                                []  \n",
              "4                                                                [everyone contributed to the pool]  \n",
              "5   [there were puddles of muddy water in the road after the rain, the body lay in a pool of blood]  \n",
              "6                                                                                                []  \n",
              "7                   [he stood in a pool of light, his chair sat in a puddle of books and magazines]  \n",
              "8                                                                                                []  \n",
              "9                                                                             [We pooled resources]  \n",
              "10                                                                                               []  "
            ],
            "text/html": [
              "\n",
              "  <div id=\"df-4c8cec87-4f92-4e55-99b8-bbde846c2655\">\n",
              "    <div class=\"colab-df-container\">\n",
              "      <div>\n",
              "<style scoped>\n",
              "    .dataframe tbody tr th:only-of-type {\n",
              "        vertical-align: middle;\n",
              "    }\n",
              "\n",
              "    .dataframe tbody tr th {\n",
              "        vertical-align: top;\n",
              "    }\n",
              "\n",
              "    .dataframe thead th {\n",
              "        text-align: right;\n",
              "    }\n",
              "</style>\n",
              "<table border=\"1\" class=\"dataframe\">\n",
              "  <thead>\n",
              "    <tr style=\"text-align: right;\">\n",
              "      <th></th>\n",
              "      <th>Synset</th>\n",
              "      <th>Part of Speech</th>\n",
              "      <th>Definition</th>\n",
              "      <th>Lemmas</th>\n",
              "      <th>Examples</th>\n",
              "    </tr>\n",
              "  </thead>\n",
              "  <tbody>\n",
              "    <tr>\n",
              "      <th>0</th>\n",
              "      <td>Synset('pool.n.01')</td>\n",
              "      <td>noun.artifact</td>\n",
              "      <td>an excavation that is (usually) filled with water</td>\n",
              "      <td>[pool]</td>\n",
              "      <td>[]</td>\n",
              "    </tr>\n",
              "    <tr>\n",
              "      <th>1</th>\n",
              "      <td>Synset('pond.n.01')</td>\n",
              "      <td>noun.object</td>\n",
              "      <td>a small lake</td>\n",
              "      <td>[pond, pool]</td>\n",
              "      <td>[the pond was too small for sailing]</td>\n",
              "    </tr>\n",
              "    <tr>\n",
              "      <th>2</th>\n",
              "      <td>Synset('pool.n.03')</td>\n",
              "      <td>noun.group</td>\n",
              "      <td>an organization of people or resources that can be shared</td>\n",
              "      <td>[pool]</td>\n",
              "      <td>[a car pool, a secretarial pool, when he was first hired he was assigned to the pool]</td>\n",
              "    </tr>\n",
              "    <tr>\n",
              "      <th>3</th>\n",
              "      <td>Synset('consortium.n.01')</td>\n",
              "      <td>noun.group</td>\n",
              "      <td>an association of companies for some definite purpose</td>\n",
              "      <td>[consortium, pool, syndicate]</td>\n",
              "      <td>[]</td>\n",
              "    </tr>\n",
              "    <tr>\n",
              "      <th>4</th>\n",
              "      <td>Synset('pool.n.05')</td>\n",
              "      <td>noun.possession</td>\n",
              "      <td>any communal combination of funds</td>\n",
              "      <td>[pool]</td>\n",
              "      <td>[everyone contributed to the pool]</td>\n",
              "    </tr>\n",
              "    <tr>\n",
              "      <th>5</th>\n",
              "      <td>Synset('pool.n.06')</td>\n",
              "      <td>noun.object</td>\n",
              "      <td>a small body of standing water (rainwater) or other liquid</td>\n",
              "      <td>[pool, puddle]</td>\n",
              "      <td>[there were puddles of muddy water in the road after the rain, the body lay in a pool of blood]</td>\n",
              "    </tr>\n",
              "    <tr>\n",
              "      <th>6</th>\n",
              "      <td>Synset('pool.n.07')</td>\n",
              "      <td>noun.possession</td>\n",
              "      <td>the combined stakes of the betters</td>\n",
              "      <td>[pool, kitty]</td>\n",
              "      <td>[]</td>\n",
              "    </tr>\n",
              "    <tr>\n",
              "      <th>7</th>\n",
              "      <td>Synset('pool.n.08')</td>\n",
              "      <td>noun.location</td>\n",
              "      <td>something resembling a pool of liquid</td>\n",
              "      <td>[pool, puddle]</td>\n",
              "      <td>[he stood in a pool of light, his chair sat in a puddle of books and magazines]</td>\n",
              "    </tr>\n",
              "    <tr>\n",
              "      <th>8</th>\n",
              "      <td>Synset('pool.n.09')</td>\n",
              "      <td>noun.act</td>\n",
              "      <td>any of various games played on a pool table having 6 pockets</td>\n",
              "      <td>[pool, pocket_billiards]</td>\n",
              "      <td>[]</td>\n",
              "    </tr>\n",
              "    <tr>\n",
              "      <th>9</th>\n",
              "      <td>Synset('pool.v.01')</td>\n",
              "      <td>verb.possession</td>\n",
              "      <td>combine into a common fund</td>\n",
              "      <td>[pool]</td>\n",
              "      <td>[We pooled resources]</td>\n",
              "    </tr>\n",
              "    <tr>\n",
              "      <th>10</th>\n",
              "      <td>Synset('pool.v.02')</td>\n",
              "      <td>verb.competition</td>\n",
              "      <td>join or form a pool of people</td>\n",
              "      <td>[pool]</td>\n",
              "      <td>[]</td>\n",
              "    </tr>\n",
              "  </tbody>\n",
              "</table>\n",
              "</div>\n",
              "      <button class=\"colab-df-convert\" onclick=\"convertToInteractive('df-4c8cec87-4f92-4e55-99b8-bbde846c2655')\"\n",
              "              title=\"Convert this dataframe to an interactive table.\"\n",
              "              style=\"display:none;\">\n",
              "        \n",
              "  <svg xmlns=\"http://www.w3.org/2000/svg\" height=\"24px\"viewBox=\"0 0 24 24\"\n",
              "       width=\"24px\">\n",
              "    <path d=\"M0 0h24v24H0V0z\" fill=\"none\"/>\n",
              "    <path d=\"M18.56 5.44l.94 2.06.94-2.06 2.06-.94-2.06-.94-.94-2.06-.94 2.06-2.06.94zm-11 1L8.5 8.5l.94-2.06 2.06-.94-2.06-.94L8.5 2.5l-.94 2.06-2.06.94zm10 10l.94 2.06.94-2.06 2.06-.94-2.06-.94-.94-2.06-.94 2.06-2.06.94z\"/><path d=\"M17.41 7.96l-1.37-1.37c-.4-.4-.92-.59-1.43-.59-.52 0-1.04.2-1.43.59L10.3 9.45l-7.72 7.72c-.78.78-.78 2.05 0 2.83L4 21.41c.39.39.9.59 1.41.59.51 0 1.02-.2 1.41-.59l7.78-7.78 2.81-2.81c.8-.78.8-2.07 0-2.86zM5.41 20L4 18.59l7.72-7.72 1.47 1.35L5.41 20z\"/>\n",
              "  </svg>\n",
              "      </button>\n",
              "      \n",
              "  <style>\n",
              "    .colab-df-container {\n",
              "      display:flex;\n",
              "      flex-wrap:wrap;\n",
              "      gap: 12px;\n",
              "    }\n",
              "\n",
              "    .colab-df-convert {\n",
              "      background-color: #E8F0FE;\n",
              "      border: none;\n",
              "      border-radius: 50%;\n",
              "      cursor: pointer;\n",
              "      display: none;\n",
              "      fill: #1967D2;\n",
              "      height: 32px;\n",
              "      padding: 0 0 0 0;\n",
              "      width: 32px;\n",
              "    }\n",
              "\n",
              "    .colab-df-convert:hover {\n",
              "      background-color: #E2EBFA;\n",
              "      box-shadow: 0px 1px 2px rgba(60, 64, 67, 0.3), 0px 1px 3px 1px rgba(60, 64, 67, 0.15);\n",
              "      fill: #174EA6;\n",
              "    }\n",
              "\n",
              "    [theme=dark] .colab-df-convert {\n",
              "      background-color: #3B4455;\n",
              "      fill: #D2E3FC;\n",
              "    }\n",
              "\n",
              "    [theme=dark] .colab-df-convert:hover {\n",
              "      background-color: #434B5C;\n",
              "      box-shadow: 0px 1px 3px 1px rgba(0, 0, 0, 0.15);\n",
              "      filter: drop-shadow(0px 1px 2px rgba(0, 0, 0, 0.3));\n",
              "      fill: #FFFFFF;\n",
              "    }\n",
              "  </style>\n",
              "\n",
              "      <script>\n",
              "        const buttonEl =\n",
              "          document.querySelector('#df-4c8cec87-4f92-4e55-99b8-bbde846c2655 button.colab-df-convert');\n",
              "        buttonEl.style.display =\n",
              "          google.colab.kernel.accessAllowed ? 'block' : 'none';\n",
              "\n",
              "        async function convertToInteractive(key) {\n",
              "          const element = document.querySelector('#df-4c8cec87-4f92-4e55-99b8-bbde846c2655');\n",
              "          const dataTable =\n",
              "            await google.colab.kernel.invokeFunction('convertToInteractive',\n",
              "                                                     [key], {});\n",
              "          if (!dataTable) return;\n",
              "\n",
              "          const docLinkHtml = 'Like what you see? Visit the ' +\n",
              "            '<a target=\"_blank\" href=https://colab.research.google.com/notebooks/data_table.ipynb>data table notebook</a>'\n",
              "            + ' to learn more about interactive tables.';\n",
              "          element.innerHTML = '';\n",
              "          dataTable['output_type'] = 'display_data';\n",
              "          await google.colab.output.renderOutput(dataTable, element);\n",
              "          const docLink = document.createElement('div');\n",
              "          docLink.innerHTML = docLinkHtml;\n",
              "          element.appendChild(docLink);\n",
              "        }\n",
              "      </script>\n",
              "    </div>\n",
              "  </div>\n",
              "  "
            ]
          },
          "metadata": {},
          "execution_count": 6
        }
      ]
    },
    {
      "cell_type": "markdown",
      "source": [
        "**How many synsets did your word of choice have? Are they spread across different POS types?**"
      ],
      "metadata": {
        "id": "qiVDb7tif8O0"
      }
    },
    {
      "cell_type": "markdown",
      "source": [],
      "metadata": {
        "id": "jTUe88cTf8Fq"
      }
    },
    {
      "cell_type": "markdown",
      "source": [
        "## Next, let's explore some of the different semantic relationships amongst synsets, including:\n",
        "\n",
        "* Entailments\n",
        "* Homonyms \\& Homographs\n",
        "* Synonyms \\& Antonyms\n",
        "* Hyponyms \\& Hypernyms\n",
        "* Holonyms \\& Meronyms"
      ],
      "metadata": {
        "id": "6sg08EKofjRh"
      }
    },
    {
      "cell_type": "code",
      "source": [
        "for action in ['walked', 'eat', 'digest']:                                                        # select some action words\n",
        "    action_syn = wn.synsets(action, pos='v')[0]                                                   # find their synsets\n",
        "    print(action_syn, '-- entails -->', action_syn.entailments())                                 # print action synset and its entailment"
      ],
      "metadata": {
        "colab": {
          "base_uri": "https://localhost:8080/"
        },
        "id": "BvRJRMUMhnHv",
        "outputId": "d00018dc-d129-410d-a51d-8d8749a9b819"
      },
      "execution_count": null,
      "outputs": [
        {
          "output_type": "stream",
          "name": "stdout",
          "text": [
            "Synset('walk.v.01') -- entails --> [Synset('step.v.01')]\n",
            "Synset('eat.v.01') -- entails --> [Synset('chew.v.01'), Synset('swallow.v.01')]\n",
            "Synset('digest.v.01') -- entails --> [Synset('consume.v.02')]\n"
          ]
        }
      ]
    },
    {
      "cell_type": "code",
      "source": [
        "for synset in wn.synsets('table'):\n",
        "    print(synset.name(),'-',synset.definition())"
      ],
      "metadata": {
        "colab": {
          "base_uri": "https://localhost:8080/"
        },
        "id": "UWIgKSeyh5Ug",
        "outputId": "deb747f6-8849-4567-d9b2-59d253014069"
      },
      "execution_count": null,
      "outputs": [
        {
          "output_type": "stream",
          "name": "stdout",
          "text": [
            "table.n.01 - a set of data arranged in rows and columns\n",
            "table.n.02 - a piece of furniture having a smooth flat top that is usually supported by one or more vertical legs\n",
            "table.n.03 - a piece of furniture with tableware for a meal laid out on it\n",
            "mesa.n.01 - flat tableland with steep edges\n",
            "table.n.05 - a company of people assembled at a table for a meal or game\n",
            "board.n.04 - food or meals in general\n",
            "postpone.v.01 - hold back to a later time\n",
            "table.v.02 - arrange or enter in tabular form\n"
          ]
        }
      ]
    },
    {
      "cell_type": "code",
      "source": [
        "term = 'rich'\n",
        "synsets = wn.synsets(term)[:3]\n",
        "\n",
        "for synset in synsets:\n",
        "    rich = synset.lemmas()[0]\n",
        "    rich_synonym = rich.synset()\n",
        "    rich_antonym = rich.antonyms()[0].synset()\n",
        "    \n",
        "    print('Synonym:', rich_synonym.name())\n",
        "    print('Definition:', rich_synonym.definition())\n",
        "    print('Antonym:', rich_antonym.name())\n",
        "    print('Definition:', rich_antonym.definition())\n",
        "    print()"
      ],
      "metadata": {
        "colab": {
          "base_uri": "https://localhost:8080/"
        },
        "id": "wsEnT3VMiVIk",
        "outputId": "6aa023cf-3e8e-422b-bb9e-19b210e6706e"
      },
      "execution_count": null,
      "outputs": [
        {
          "output_type": "stream",
          "name": "stdout",
          "text": [
            "Synonym: rich_people.n.01\n",
            "Definition: people who have possessions and wealth (considered as a group)\n",
            "Antonym: poor_people.n.01\n",
            "Definition: people without possessions or wealth (considered as a group)\n",
            "\n",
            "Synonym: rich.a.01\n",
            "Definition: possessing material wealth\n",
            "Antonym: poor.a.02\n",
            "Definition: having little money or few possessions\n",
            "\n",
            "Synonym: rich.a.02\n",
            "Definition: having an abundant supply of desirable qualities or substances (especially natural resources)\n",
            "Antonym: poor.a.04\n",
            "Definition: lacking in specific resources, qualities or substances\n",
            "\n"
          ]
        }
      ]
    },
    {
      "cell_type": "code",
      "source": [
        "term = 'tree'\n",
        "synsets = wn.synsets(term)\n",
        "tree = synsets[0]\n",
        "\n",
        "print('Name:', tree.name())\n",
        "print('Definition:', tree.definition())"
      ],
      "metadata": {
        "colab": {
          "base_uri": "https://localhost:8080/"
        },
        "id": "1wzjS3MPiVog",
        "outputId": "fa49278f-3863-44fd-978f-c461c0f0a939"
      },
      "execution_count": null,
      "outputs": [
        {
          "output_type": "stream",
          "name": "stdout",
          "text": [
            "Name: tree.n.01\n",
            "Definition: a tall perennial woody plant having a main trunk and branches forming a distinct elevated crown; includes both gymnosperms and angiosperms\n"
          ]
        }
      ]
    },
    {
      "cell_type": "code",
      "source": [
        "hyponyms = tree.hyponyms()\n",
        "print('Total Hyponyms:', len(hyponyms))\n",
        "print('Sample Hyponyms')\n",
        "for hyponym in hyponyms[:10]:\n",
        "    print(hyponym.name(), '-', hyponym.definition())\n",
        "    print()"
      ],
      "metadata": {
        "colab": {
          "base_uri": "https://localhost:8080/"
        },
        "id": "YMe59sbZilj9",
        "outputId": "e1794028-49ed-4d78-bd24-3a8b1230ddd6"
      },
      "execution_count": null,
      "outputs": [
        {
          "output_type": "stream",
          "name": "stdout",
          "text": [
            "Total Hyponyms: 180\n",
            "Sample Hyponyms\n",
            "aalii.n.01 - a small Hawaiian tree with hard dark wood\n",
            "\n",
            "acacia.n.01 - any of various spiny trees or shrubs of the genus Acacia\n",
            "\n",
            "african_walnut.n.01 - tropical African timber tree with wood that resembles mahogany\n",
            "\n",
            "albizzia.n.01 - any of numerous trees of the genus Albizia\n",
            "\n",
            "alder.n.02 - north temperate shrubs or trees having toothed leaves and conelike fruit; bark is used in tanning and dyeing and the wood is rot-resistant\n",
            "\n",
            "angelim.n.01 - any of several tropical American trees of the genus Andira\n",
            "\n",
            "angiospermous_tree.n.01 - any tree having seeds and ovules contained in the ovary\n",
            "\n",
            "anise_tree.n.01 - any of several evergreen shrubs and small trees of the genus Illicium\n",
            "\n",
            "arbor.n.01 - tree (as opposed to shrub)\n",
            "\n",
            "aroeira_blanca.n.01 - small resinous tree or shrub of Brazil\n",
            "\n"
          ]
        }
      ]
    },
    {
      "cell_type": "code",
      "source": [
        "hypernyms = tree.hypernyms()\n",
        "print(hypernyms)"
      ],
      "metadata": {
        "colab": {
          "base_uri": "https://localhost:8080/"
        },
        "id": "3EOGyV5ZiowC",
        "outputId": "0de0c5ec-a62f-4562-ee1d-884a4d462ffd"
      },
      "execution_count": null,
      "outputs": [
        {
          "output_type": "stream",
          "name": "stdout",
          "text": [
            "[Synset('woody_plant.n.01')]\n"
          ]
        }
      ]
    },
    {
      "cell_type": "code",
      "source": [
        "hypernym_paths = tree.hypernym_paths()\n",
        "print(' -> '.join(synset.name() for synset in hypernym_paths[0]))"
      ],
      "metadata": {
        "colab": {
          "base_uri": "https://localhost:8080/"
        },
        "id": "EHo3q78WitCG",
        "outputId": "24f5fd6e-b016-4e86-b0bc-e75a1f772137"
      },
      "execution_count": null,
      "outputs": [
        {
          "output_type": "stream",
          "name": "stdout",
          "text": [
            "entity.n.01 -> physical_entity.n.01 -> object.n.01 -> whole.n.02 -> living_thing.n.01 -> organism.n.01 -> plant.n.02 -> vascular_plant.n.01 -> woody_plant.n.01 -> tree.n.01\n"
          ]
        }
      ]
    },
    {
      "cell_type": "code",
      "source": [
        "member_holonyms = tree.member_holonyms()    \n",
        "print('Total Member Holonyms:', len(member_holonyms))\n",
        "print('Member Holonyms for [tree]:-')\n",
        "for holonym in member_holonyms:\n",
        "    print(holonym.name(), '-', holonym.definition())\n",
        "    print()"
      ],
      "metadata": {
        "colab": {
          "base_uri": "https://localhost:8080/"
        },
        "id": "GXFTxnP5izCi",
        "outputId": "4824f583-dcb2-44cd-911a-b1a4a8302b76"
      },
      "execution_count": null,
      "outputs": [
        {
          "output_type": "stream",
          "name": "stdout",
          "text": [
            "Total Member Holonyms: 1\n",
            "Member Holonyms for [tree]:-\n",
            "forest.n.01 - the trees and other plants in a large densely wooded area\n",
            "\n"
          ]
        }
      ]
    },
    {
      "cell_type": "code",
      "source": [
        "part_meronyms = tree.part_meronyms()\n",
        "print('Total Part Meronyms:', len(part_meronyms))\n",
        "print('Part Meronyms for [tree]:-')\n",
        "for meronym in part_meronyms:\n",
        "    print(meronym.name(), '-', meronym.definition())\n",
        "    print()"
      ],
      "metadata": {
        "colab": {
          "base_uri": "https://localhost:8080/"
        },
        "id": "cNttKY4ljlO9",
        "outputId": "d8d1e552-3c22-43af-967c-9fa7971a155b"
      },
      "execution_count": null,
      "outputs": [
        {
          "output_type": "stream",
          "name": "stdout",
          "text": [
            "Total Part Meronyms: 5\n",
            "Part Meronyms for [tree]:-\n",
            "burl.n.02 - a large rounded outgrowth on the trunk or branch of a tree\n",
            "\n",
            "crown.n.07 - the upper branches and leaves of a tree or other plant\n",
            "\n",
            "limb.n.02 - any of the main branches arising from the trunk or a bough of a tree\n",
            "\n",
            "stump.n.01 - the base part of a tree that remains standing after the tree has been felled\n",
            "\n",
            "trunk.n.01 - the main stem of a tree; usually covered with bark; the bole is usually the part that is commercially useful for lumber\n",
            "\n"
          ]
        }
      ]
    },
    {
      "cell_type": "markdown",
      "source": [
        "**How do these different forms of semantic relationships help us understand the meaning within text, as well as decrease semantic ambiguity of terms with multiple meanings?**\n",
        "\n",
        "**Describe an example situation where semantic ambiguity could be problematic in NLP, NLU or text mining in general.**"
      ],
      "metadata": {
        "id": "fcigjCEzjr8G"
      }
    },
    {
      "cell_type": "markdown",
      "source": [],
      "metadata": {
        "id": "qxqLVlXdkLvo"
      }
    },
    {
      "cell_type": "markdown",
      "source": [
        "## Semantic Relationships \\& Similarities "
      ],
      "metadata": {
        "id": "K8XdR84ekMM9"
      }
    },
    {
      "cell_type": "code",
      "source": [
        "tree = wn.synset('tree.n.01')\n",
        "lion = wn.synset('lion.n.01')\n",
        "tiger = wn.synset('tiger.n.02')\n",
        "cat = wn.synset('cat.n.01')\n",
        "dog = wn.synset('dog.n.01')\n",
        "\n",
        "# create entities and extract names and definitions\n",
        "entities = [tree, lion, tiger, cat, dog]\n",
        "entity_names = [entity.name().split('.')[0] for entity in entities]\n",
        "entity_definitions = [entity.definition() for entity in entities]\n",
        "\n",
        "# print entities and their definitions\n",
        "for entity, definition in zip(entity_names, entity_definitions):\n",
        "    print(entity, '-', definition)\n",
        "    print()"
      ],
      "metadata": {
        "colab": {
          "base_uri": "https://localhost:8080/"
        },
        "id": "xFzq1q18kTnL",
        "outputId": "d6042c2a-4491-404f-dd0a-64a81c8040cb"
      },
      "execution_count": null,
      "outputs": [
        {
          "output_type": "stream",
          "name": "stdout",
          "text": [
            "tree - a tall perennial woody plant having a main trunk and branches forming a distinct elevated crown; includes both gymnosperms and angiosperms\n",
            "\n",
            "lion - large gregarious predatory feline of Africa and India having a tawny coat with a shaggy mane in the male\n",
            "\n",
            "tiger - large feline of forests in most of Asia having a tawny coat with black stripes; endangered\n",
            "\n",
            "cat - feline mammal usually having thick soft fur and no ability to roar: domestic cats; wildcats\n",
            "\n",
            "dog - a member of the genus Canis (probably descended from the common wolf) that has been domesticated by man since prehistoric times; occurs in many breeds\n",
            "\n"
          ]
        }
      ]
    },
    {
      "cell_type": "code",
      "source": [
        "common_hypernyms = []\n",
        "for entity in entities:\n",
        "    # get pairwise lowest common hypernyms\n",
        "    common_hypernyms.append([entity.lowest_common_hypernyms(compared_entity)[0]\n",
        "                                            .name().split('.')[0]\n",
        "                             for compared_entity in entities])\n",
        "    \n",
        "\n",
        "# build pairwise lower common hypernym matrix\n",
        "common_hypernym_frame = pd.DataFrame(common_hypernyms,\n",
        "                                     index=entity_names, \n",
        "                                     columns=entity_names)\n",
        "common_hypernym_frame"
      ],
      "metadata": {
        "colab": {
          "base_uri": "https://localhost:8080/",
          "height": 206
        },
        "id": "r0BJJXIpkXK2",
        "outputId": "10b46bea-90c0-4230-87e1-966f81ea0da2"
      },
      "execution_count": null,
      "outputs": [
        {
          "output_type": "execute_result",
          "data": {
            "text/plain": [
              "           tree       lion      tiger        cat        dog\n",
              "tree       tree   organism   organism   organism   organism\n",
              "lion   organism       lion    big_cat     feline  carnivore\n",
              "tiger  organism    big_cat      tiger     feline  carnivore\n",
              "cat    organism     feline     feline        cat  carnivore\n",
              "dog    organism  carnivore  carnivore  carnivore        dog"
            ],
            "text/html": [
              "\n",
              "  <div id=\"df-850ef5dc-42c5-46ad-bcd9-08d091762688\">\n",
              "    <div class=\"colab-df-container\">\n",
              "      <div>\n",
              "<style scoped>\n",
              "    .dataframe tbody tr th:only-of-type {\n",
              "        vertical-align: middle;\n",
              "    }\n",
              "\n",
              "    .dataframe tbody tr th {\n",
              "        vertical-align: top;\n",
              "    }\n",
              "\n",
              "    .dataframe thead th {\n",
              "        text-align: right;\n",
              "    }\n",
              "</style>\n",
              "<table border=\"1\" class=\"dataframe\">\n",
              "  <thead>\n",
              "    <tr style=\"text-align: right;\">\n",
              "      <th></th>\n",
              "      <th>tree</th>\n",
              "      <th>lion</th>\n",
              "      <th>tiger</th>\n",
              "      <th>cat</th>\n",
              "      <th>dog</th>\n",
              "    </tr>\n",
              "  </thead>\n",
              "  <tbody>\n",
              "    <tr>\n",
              "      <th>tree</th>\n",
              "      <td>tree</td>\n",
              "      <td>organism</td>\n",
              "      <td>organism</td>\n",
              "      <td>organism</td>\n",
              "      <td>organism</td>\n",
              "    </tr>\n",
              "    <tr>\n",
              "      <th>lion</th>\n",
              "      <td>organism</td>\n",
              "      <td>lion</td>\n",
              "      <td>big_cat</td>\n",
              "      <td>feline</td>\n",
              "      <td>carnivore</td>\n",
              "    </tr>\n",
              "    <tr>\n",
              "      <th>tiger</th>\n",
              "      <td>organism</td>\n",
              "      <td>big_cat</td>\n",
              "      <td>tiger</td>\n",
              "      <td>feline</td>\n",
              "      <td>carnivore</td>\n",
              "    </tr>\n",
              "    <tr>\n",
              "      <th>cat</th>\n",
              "      <td>organism</td>\n",
              "      <td>feline</td>\n",
              "      <td>feline</td>\n",
              "      <td>cat</td>\n",
              "      <td>carnivore</td>\n",
              "    </tr>\n",
              "    <tr>\n",
              "      <th>dog</th>\n",
              "      <td>organism</td>\n",
              "      <td>carnivore</td>\n",
              "      <td>carnivore</td>\n",
              "      <td>carnivore</td>\n",
              "      <td>dog</td>\n",
              "    </tr>\n",
              "  </tbody>\n",
              "</table>\n",
              "</div>\n",
              "      <button class=\"colab-df-convert\" onclick=\"convertToInteractive('df-850ef5dc-42c5-46ad-bcd9-08d091762688')\"\n",
              "              title=\"Convert this dataframe to an interactive table.\"\n",
              "              style=\"display:none;\">\n",
              "        \n",
              "  <svg xmlns=\"http://www.w3.org/2000/svg\" height=\"24px\"viewBox=\"0 0 24 24\"\n",
              "       width=\"24px\">\n",
              "    <path d=\"M0 0h24v24H0V0z\" fill=\"none\"/>\n",
              "    <path d=\"M18.56 5.44l.94 2.06.94-2.06 2.06-.94-2.06-.94-.94-2.06-.94 2.06-2.06.94zm-11 1L8.5 8.5l.94-2.06 2.06-.94-2.06-.94L8.5 2.5l-.94 2.06-2.06.94zm10 10l.94 2.06.94-2.06 2.06-.94-2.06-.94-.94-2.06-.94 2.06-2.06.94z\"/><path d=\"M17.41 7.96l-1.37-1.37c-.4-.4-.92-.59-1.43-.59-.52 0-1.04.2-1.43.59L10.3 9.45l-7.72 7.72c-.78.78-.78 2.05 0 2.83L4 21.41c.39.39.9.59 1.41.59.51 0 1.02-.2 1.41-.59l7.78-7.78 2.81-2.81c.8-.78.8-2.07 0-2.86zM5.41 20L4 18.59l7.72-7.72 1.47 1.35L5.41 20z\"/>\n",
              "  </svg>\n",
              "      </button>\n",
              "      \n",
              "  <style>\n",
              "    .colab-df-container {\n",
              "      display:flex;\n",
              "      flex-wrap:wrap;\n",
              "      gap: 12px;\n",
              "    }\n",
              "\n",
              "    .colab-df-convert {\n",
              "      background-color: #E8F0FE;\n",
              "      border: none;\n",
              "      border-radius: 50%;\n",
              "      cursor: pointer;\n",
              "      display: none;\n",
              "      fill: #1967D2;\n",
              "      height: 32px;\n",
              "      padding: 0 0 0 0;\n",
              "      width: 32px;\n",
              "    }\n",
              "\n",
              "    .colab-df-convert:hover {\n",
              "      background-color: #E2EBFA;\n",
              "      box-shadow: 0px 1px 2px rgba(60, 64, 67, 0.3), 0px 1px 3px 1px rgba(60, 64, 67, 0.15);\n",
              "      fill: #174EA6;\n",
              "    }\n",
              "\n",
              "    [theme=dark] .colab-df-convert {\n",
              "      background-color: #3B4455;\n",
              "      fill: #D2E3FC;\n",
              "    }\n",
              "\n",
              "    [theme=dark] .colab-df-convert:hover {\n",
              "      background-color: #434B5C;\n",
              "      box-shadow: 0px 1px 3px 1px rgba(0, 0, 0, 0.15);\n",
              "      filter: drop-shadow(0px 1px 2px rgba(0, 0, 0, 0.3));\n",
              "      fill: #FFFFFF;\n",
              "    }\n",
              "  </style>\n",
              "\n",
              "      <script>\n",
              "        const buttonEl =\n",
              "          document.querySelector('#df-850ef5dc-42c5-46ad-bcd9-08d091762688 button.colab-df-convert');\n",
              "        buttonEl.style.display =\n",
              "          google.colab.kernel.accessAllowed ? 'block' : 'none';\n",
              "\n",
              "        async function convertToInteractive(key) {\n",
              "          const element = document.querySelector('#df-850ef5dc-42c5-46ad-bcd9-08d091762688');\n",
              "          const dataTable =\n",
              "            await google.colab.kernel.invokeFunction('convertToInteractive',\n",
              "                                                     [key], {});\n",
              "          if (!dataTable) return;\n",
              "\n",
              "          const docLinkHtml = 'Like what you see? Visit the ' +\n",
              "            '<a target=\"_blank\" href=https://colab.research.google.com/notebooks/data_table.ipynb>data table notebook</a>'\n",
              "            + ' to learn more about interactive tables.';\n",
              "          element.innerHTML = '';\n",
              "          dataTable['output_type'] = 'display_data';\n",
              "          await google.colab.output.renderOutput(dataTable, element);\n",
              "          const docLink = document.createElement('div');\n",
              "          docLink.innerHTML = docLinkHtml;\n",
              "          element.appendChild(docLink);\n",
              "        }\n",
              "      </script>\n",
              "    </div>\n",
              "  </div>\n",
              "  "
            ]
          },
          "metadata": {},
          "execution_count": 25
        }
      ]
    },
    {
      "cell_type": "code",
      "source": [
        "similarities = []\n",
        "for entity in entities:\n",
        "    # get pairwise similarities\n",
        "    similarities.append([round(entity.path_similarity(compared_entity), 2)\n",
        "                         for compared_entity in entities])\n",
        "    \n",
        "\n",
        "# build pairwise similarity matrix                             \n",
        "similarity_frame = pd.DataFrame(similarities,\n",
        "                                index=entity_names, \n",
        "                                columns=entity_names)\n",
        "similarity_frame"
      ],
      "metadata": {
        "colab": {
          "base_uri": "https://localhost:8080/",
          "height": 206
        },
        "id": "G6qupbY1kaBD",
        "outputId": "da425e1a-de2d-4f66-c56d-654039159ce9"
      },
      "execution_count": null,
      "outputs": [
        {
          "output_type": "execute_result",
          "data": {
            "text/plain": [
              "       tree  lion  tiger   cat   dog\n",
              "tree   1.00  0.07   0.07  0.08  0.12\n",
              "lion   0.07  1.00   0.33  0.25  0.17\n",
              "tiger  0.07  0.33   1.00  0.25  0.17\n",
              "cat    0.08  0.25   0.25  1.00  0.20\n",
              "dog    0.12  0.17   0.17  0.20  1.00"
            ],
            "text/html": [
              "\n",
              "  <div id=\"df-cd07074b-4031-4b8d-b7e5-3fc44d6eb8d1\">\n",
              "    <div class=\"colab-df-container\">\n",
              "      <div>\n",
              "<style scoped>\n",
              "    .dataframe tbody tr th:only-of-type {\n",
              "        vertical-align: middle;\n",
              "    }\n",
              "\n",
              "    .dataframe tbody tr th {\n",
              "        vertical-align: top;\n",
              "    }\n",
              "\n",
              "    .dataframe thead th {\n",
              "        text-align: right;\n",
              "    }\n",
              "</style>\n",
              "<table border=\"1\" class=\"dataframe\">\n",
              "  <thead>\n",
              "    <tr style=\"text-align: right;\">\n",
              "      <th></th>\n",
              "      <th>tree</th>\n",
              "      <th>lion</th>\n",
              "      <th>tiger</th>\n",
              "      <th>cat</th>\n",
              "      <th>dog</th>\n",
              "    </tr>\n",
              "  </thead>\n",
              "  <tbody>\n",
              "    <tr>\n",
              "      <th>tree</th>\n",
              "      <td>1.00</td>\n",
              "      <td>0.07</td>\n",
              "      <td>0.07</td>\n",
              "      <td>0.08</td>\n",
              "      <td>0.12</td>\n",
              "    </tr>\n",
              "    <tr>\n",
              "      <th>lion</th>\n",
              "      <td>0.07</td>\n",
              "      <td>1.00</td>\n",
              "      <td>0.33</td>\n",
              "      <td>0.25</td>\n",
              "      <td>0.17</td>\n",
              "    </tr>\n",
              "    <tr>\n",
              "      <th>tiger</th>\n",
              "      <td>0.07</td>\n",
              "      <td>0.33</td>\n",
              "      <td>1.00</td>\n",
              "      <td>0.25</td>\n",
              "      <td>0.17</td>\n",
              "    </tr>\n",
              "    <tr>\n",
              "      <th>cat</th>\n",
              "      <td>0.08</td>\n",
              "      <td>0.25</td>\n",
              "      <td>0.25</td>\n",
              "      <td>1.00</td>\n",
              "      <td>0.20</td>\n",
              "    </tr>\n",
              "    <tr>\n",
              "      <th>dog</th>\n",
              "      <td>0.12</td>\n",
              "      <td>0.17</td>\n",
              "      <td>0.17</td>\n",
              "      <td>0.20</td>\n",
              "      <td>1.00</td>\n",
              "    </tr>\n",
              "  </tbody>\n",
              "</table>\n",
              "</div>\n",
              "      <button class=\"colab-df-convert\" onclick=\"convertToInteractive('df-cd07074b-4031-4b8d-b7e5-3fc44d6eb8d1')\"\n",
              "              title=\"Convert this dataframe to an interactive table.\"\n",
              "              style=\"display:none;\">\n",
              "        \n",
              "  <svg xmlns=\"http://www.w3.org/2000/svg\" height=\"24px\"viewBox=\"0 0 24 24\"\n",
              "       width=\"24px\">\n",
              "    <path d=\"M0 0h24v24H0V0z\" fill=\"none\"/>\n",
              "    <path d=\"M18.56 5.44l.94 2.06.94-2.06 2.06-.94-2.06-.94-.94-2.06-.94 2.06-2.06.94zm-11 1L8.5 8.5l.94-2.06 2.06-.94-2.06-.94L8.5 2.5l-.94 2.06-2.06.94zm10 10l.94 2.06.94-2.06 2.06-.94-2.06-.94-.94-2.06-.94 2.06-2.06.94z\"/><path d=\"M17.41 7.96l-1.37-1.37c-.4-.4-.92-.59-1.43-.59-.52 0-1.04.2-1.43.59L10.3 9.45l-7.72 7.72c-.78.78-.78 2.05 0 2.83L4 21.41c.39.39.9.59 1.41.59.51 0 1.02-.2 1.41-.59l7.78-7.78 2.81-2.81c.8-.78.8-2.07 0-2.86zM5.41 20L4 18.59l7.72-7.72 1.47 1.35L5.41 20z\"/>\n",
              "  </svg>\n",
              "      </button>\n",
              "      \n",
              "  <style>\n",
              "    .colab-df-container {\n",
              "      display:flex;\n",
              "      flex-wrap:wrap;\n",
              "      gap: 12px;\n",
              "    }\n",
              "\n",
              "    .colab-df-convert {\n",
              "      background-color: #E8F0FE;\n",
              "      border: none;\n",
              "      border-radius: 50%;\n",
              "      cursor: pointer;\n",
              "      display: none;\n",
              "      fill: #1967D2;\n",
              "      height: 32px;\n",
              "      padding: 0 0 0 0;\n",
              "      width: 32px;\n",
              "    }\n",
              "\n",
              "    .colab-df-convert:hover {\n",
              "      background-color: #E2EBFA;\n",
              "      box-shadow: 0px 1px 2px rgba(60, 64, 67, 0.3), 0px 1px 3px 1px rgba(60, 64, 67, 0.15);\n",
              "      fill: #174EA6;\n",
              "    }\n",
              "\n",
              "    [theme=dark] .colab-df-convert {\n",
              "      background-color: #3B4455;\n",
              "      fill: #D2E3FC;\n",
              "    }\n",
              "\n",
              "    [theme=dark] .colab-df-convert:hover {\n",
              "      background-color: #434B5C;\n",
              "      box-shadow: 0px 1px 3px 1px rgba(0, 0, 0, 0.15);\n",
              "      filter: drop-shadow(0px 1px 2px rgba(0, 0, 0, 0.3));\n",
              "      fill: #FFFFFF;\n",
              "    }\n",
              "  </style>\n",
              "\n",
              "      <script>\n",
              "        const buttonEl =\n",
              "          document.querySelector('#df-cd07074b-4031-4b8d-b7e5-3fc44d6eb8d1 button.colab-df-convert');\n",
              "        buttonEl.style.display =\n",
              "          google.colab.kernel.accessAllowed ? 'block' : 'none';\n",
              "\n",
              "        async function convertToInteractive(key) {\n",
              "          const element = document.querySelector('#df-cd07074b-4031-4b8d-b7e5-3fc44d6eb8d1');\n",
              "          const dataTable =\n",
              "            await google.colab.kernel.invokeFunction('convertToInteractive',\n",
              "                                                     [key], {});\n",
              "          if (!dataTable) return;\n",
              "\n",
              "          const docLinkHtml = 'Like what you see? Visit the ' +\n",
              "            '<a target=\"_blank\" href=https://colab.research.google.com/notebooks/data_table.ipynb>data table notebook</a>'\n",
              "            + ' to learn more about interactive tables.';\n",
              "          element.innerHTML = '';\n",
              "          dataTable['output_type'] = 'display_data';\n",
              "          await google.colab.output.renderOutput(dataTable, element);\n",
              "          const docLink = document.createElement('div');\n",
              "          docLink.innerHTML = docLinkHtml;\n",
              "          element.appendChild(docLink);\n",
              "        }\n",
              "      </script>\n",
              "    </div>\n",
              "  </div>\n",
              "  "
            ]
          },
          "metadata": {},
          "execution_count": 26
        }
      ]
    },
    {
      "cell_type": "markdown",
      "source": [
        "**Here we determine word similarity based on overlap on hypernyms or classes. Are there other ways we could have grouped together these words based on their meaning or associations? If so, how?**"
      ],
      "metadata": {
        "id": "WtY3dwd0kvch"
      }
    },
    {
      "cell_type": "markdown",
      "source": [],
      "metadata": {
        "id": "5xiTksO3k_Vi"
      }
    },
    {
      "cell_type": "markdown",
      "source": [
        "## Word Sense Disambiguation"
      ],
      "metadata": {
        "id": "TKqyeLjHlAiJ"
      }
    },
    {
      "cell_type": "code",
      "source": [
        "from nltk.wsd import lesk\n",
        "from nltk import word_tokenize\n",
        "\n",
        "# sample text and word to disambiguate\n",
        "samples = [('The fruits on that plant have ripened', 'n'),\n",
        "           ('He finally reaped the fruit of his hard work as he won the race', 'n')]\n",
        "\n",
        "# perform word sense disambiguation\n",
        "word = 'fruit'\n",
        "for sentence, pos_tag in samples:\n",
        "    word_syn = lesk(word_tokenize(sentence.lower()), word, pos_tag)\n",
        "    print('Sentence:', sentence)\n",
        "    print('Word synset:', word_syn)\n",
        "    print('Corresponding defition:', word_syn.definition())\n",
        "    print()"
      ],
      "metadata": {
        "colab": {
          "base_uri": "https://localhost:8080/"
        },
        "id": "gXZvMm9tlEKx",
        "outputId": "daca49b1-418b-490d-c8f5-eb9e369c5e93"
      },
      "execution_count": null,
      "outputs": [
        {
          "output_type": "stream",
          "name": "stdout",
          "text": [
            "Sentence: The fruits on that plant have ripened\n",
            "Word synset: Synset('fruit.n.01')\n",
            "Corresponding defition: the ripened reproductive body of a seed plant\n",
            "\n",
            "Sentence: He finally reaped the fruit of his hard work as he won the race\n",
            "Word synset: Synset('fruit.n.03')\n",
            "Corresponding defition: the consequence of some effort or action\n",
            "\n"
          ]
        }
      ]
    },
    {
      "cell_type": "code",
      "source": [
        "# sample text and word to disambiguate\n",
        "samples = [('Lead is a very soft, malleable metal', 'n'),\n",
        "           ('John is the actor who plays the lead in that movie', 'n'),\n",
        "           ('This road leads to nowhere', 'v')]\n",
        "\n",
        "word = 'lead'\n",
        "\n",
        "# perform word sense disambiguation\n",
        "for sentence, pos_tag in samples:\n",
        "    word_syn = lesk(word_tokenize(sentence.lower()), word, pos_tag)\n",
        "    print('Sentence:', sentence)\n",
        "    print('Word synset:', word_syn)\n",
        "    print('Corresponding defition:', word_syn.definition())\n",
        "    print()"
      ],
      "metadata": {
        "colab": {
          "base_uri": "https://localhost:8080/"
        },
        "id": "U8-XhvoWlJT8",
        "outputId": "af23c8d1-e64b-48c9-f802-72af219c6b30"
      },
      "execution_count": null,
      "outputs": [
        {
          "output_type": "stream",
          "name": "stdout",
          "text": [
            "Sentence: Lead is a very soft, malleable metal\n",
            "Word synset: Synset('lead.n.02')\n",
            "Corresponding defition: a soft heavy toxic malleable metallic element; bluish white when freshly cut but tarnishes readily to dull grey\n",
            "\n",
            "Sentence: John is the actor who plays the lead in that movie\n",
            "Word synset: Synset('star.n.04')\n",
            "Corresponding defition: an actor who plays a principal role\n",
            "\n",
            "Sentence: This road leads to nowhere\n",
            "Word synset: Synset('run.v.23')\n",
            "Corresponding defition: cause something to pass or lead somewhere\n",
            "\n"
          ]
        }
      ]
    },
    {
      "cell_type": "markdown",
      "source": [
        "**How does the Lesk algorithm work and are there any shortcomings of this method? What are some other approaches you could conceive of for approaching word sense disambiguation?**"
      ],
      "metadata": {
        "id": "ak7BsjrKlXAP"
      }
    },
    {
      "cell_type": "markdown",
      "source": [],
      "metadata": {
        "id": "0vaK1ivPlgte"
      }
    }
  ]
}