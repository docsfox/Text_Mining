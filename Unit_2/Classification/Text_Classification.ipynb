{
  "nbformat": 4,
  "nbformat_minor": 0,
  "metadata": {
    "colab": {
      "provenance": []
    },
    "kernelspec": {
      "name": "python3",
      "display_name": "Python 3"
    },
    "language_info": {
      "name": "python"
    },
    "gpuClass": "standard"
  },
  "cells": [
    {
      "cell_type": "markdown",
      "source": [
        "# **In-Class Assignment: Text Classification**\n",
        "\n",
        "## *IS 5150*\n",
        "## Name: Key\n",
        "\n",
        "In this in-class assignment we will be working with the `20 NewsGroup` dataset which is available through `sklearn`. This dataset contains approximately 18,000 newsgroup posts across 20 different categories/topics.\n",
        "\n",
        "We will use various methods of feature extraction and engineering, as well as several different classification algorithms in order to develop the best performing classifier.\n",
        "\n",
        "Preprocessing and normalization will proceed in the typical fashion, however, we will also consider what additional information should be stripped from each document in order to prevent data leakage, a new consideration now that we're getting into text mining! Finally, certain documents which are empty will be removed from the corpus as an additional corpus cleaning step.\n",
        "\n",
        "Let's begin as always be importing our dependencies..."
      ],
      "metadata": {
        "id": "iN6wg1bxZEKS"
      }
    },
    {
      "cell_type": "code",
      "execution_count": 2,
      "metadata": {
        "id": "VjQDgS1UY-f1"
      },
      "outputs": [],
      "source": [
        "from sklearn.datasets import fetch_20newsgroups\n",
        "import numpy as np\n",
        "import matplotlib.pyplot as plt\n",
        "import pandas as pd\n",
        "import warnings\n",
        "warnings.filterwarnings('ignore')\n",
        "\n",
        "from sklearn.model_selection import train_test_split, cross_val_score\n",
        "from sklearn.feature_extraction.text import CountVectorizer\n",
        "\n",
        "from collections import Counter\n",
        "\n",
        "%matplotlib inline"
      ]
    },
    {
      "cell_type": "markdown",
      "source": [
        "## **1) Setting up the corpus: 20 NewsGroups**\n",
        "\n",
        "Here we are going to set the `remove` parameter to strip all documents of `headers`, `footers`, and `quotes`. Why sort of information is typically contained in these sections, and why would we want to remove them before training our text classification model?"
      ],
      "metadata": {
        "id": "Mvm71-4Jh5fp"
      }
    },
    {
      "cell_type": "code",
      "source": [
        "data = fetch_20newsgroups(subset='all', shuffle=True,\n",
        "                          remove=('headers', 'footers', 'quotes'))\n",
        "\n",
        "data_labels_map = dict(enumerate(data.target_names))"
      ],
      "metadata": {
        "id": "9U18g7V8hraF"
      },
      "execution_count": null,
      "outputs": []
    },
    {
      "cell_type": "markdown",
      "source": [],
      "metadata": {
        "id": "q_6l7Pvziu4J"
      }
    },
    {
      "cell_type": "markdown",
      "source": [
        "> #### **A) Build a dataframe to view the corpus containing the article text, target label value, and the target label:**"
      ],
      "metadata": {
        "id": "lG-s9roYiumm"
      }
    },
    {
      "cell_type": "code",
      "source": [
        "corpus, target_labels, target_names = (data.data, data.target, \n",
        "                                       [data_labels_map[label] for label in data.target])\n",
        "data_df = pd.DataFrame({'Article': corpus, 'Target Label': target_labels, 'Target Name': target_names})\n",
        "print(data_df.shape)\n",
        "data_df.head(10)"
      ],
      "metadata": {
        "colab": {
          "base_uri": "https://localhost:8080/",
          "height": 380
        },
        "id": "1O4TtOmTi8PT",
        "outputId": "96962298-e875-4404-b7b3-75d13d9b62b6"
      },
      "execution_count": null,
      "outputs": [
        {
          "output_type": "stream",
          "name": "stdout",
          "text": [
            "(18846, 3)\n"
          ]
        },
        {
          "output_type": "execute_result",
          "data": {
            "text/plain": [
              "                                             Article  Target Label  \\\n",
              "0  \\n\\nI am sure some bashers of Pens fans are pr...            10   \n",
              "1  My brother is in the market for a high-perform...             3   \n",
              "2  \\n\\n\\n\\n\\tFinally you said what you dream abou...            17   \n",
              "3  \\nThink!\\n\\nIt's the SCSI card doing the DMA t...             3   \n",
              "4  1)    I have an old Jasmine drive which I cann...             4   \n",
              "5  \\n\\nBack in high school I worked as a lab assi...            12   \n",
              "6  \\n\\nAE is in Dallas...try 214/241-6060 or 214/...             4   \n",
              "7  \\n[stuff deleted]\\n\\nOk, here's the solution t...            10   \n",
              "8  \\n\\n\\nYeah, it's the second one.  And I believ...            10   \n",
              "9  \\nIf a Christian means someone who believes in...            19   \n",
              "\n",
              "                Target Name  \n",
              "0          rec.sport.hockey  \n",
              "1  comp.sys.ibm.pc.hardware  \n",
              "2     talk.politics.mideast  \n",
              "3  comp.sys.ibm.pc.hardware  \n",
              "4     comp.sys.mac.hardware  \n",
              "5           sci.electronics  \n",
              "6     comp.sys.mac.hardware  \n",
              "7          rec.sport.hockey  \n",
              "8          rec.sport.hockey  \n",
              "9        talk.religion.misc  "
            ],
            "text/html": [
              "\n",
              "  <div id=\"df-3579e6e3-e09f-48fb-8a71-d1ee5a45a182\">\n",
              "    <div class=\"colab-df-container\">\n",
              "      <div>\n",
              "<style scoped>\n",
              "    .dataframe tbody tr th:only-of-type {\n",
              "        vertical-align: middle;\n",
              "    }\n",
              "\n",
              "    .dataframe tbody tr th {\n",
              "        vertical-align: top;\n",
              "    }\n",
              "\n",
              "    .dataframe thead th {\n",
              "        text-align: right;\n",
              "    }\n",
              "</style>\n",
              "<table border=\"1\" class=\"dataframe\">\n",
              "  <thead>\n",
              "    <tr style=\"text-align: right;\">\n",
              "      <th></th>\n",
              "      <th>Article</th>\n",
              "      <th>Target Label</th>\n",
              "      <th>Target Name</th>\n",
              "    </tr>\n",
              "  </thead>\n",
              "  <tbody>\n",
              "    <tr>\n",
              "      <th>0</th>\n",
              "      <td>\\n\\nI am sure some bashers of Pens fans are pr...</td>\n",
              "      <td>10</td>\n",
              "      <td>rec.sport.hockey</td>\n",
              "    </tr>\n",
              "    <tr>\n",
              "      <th>1</th>\n",
              "      <td>My brother is in the market for a high-perform...</td>\n",
              "      <td>3</td>\n",
              "      <td>comp.sys.ibm.pc.hardware</td>\n",
              "    </tr>\n",
              "    <tr>\n",
              "      <th>2</th>\n",
              "      <td>\\n\\n\\n\\n\\tFinally you said what you dream abou...</td>\n",
              "      <td>17</td>\n",
              "      <td>talk.politics.mideast</td>\n",
              "    </tr>\n",
              "    <tr>\n",
              "      <th>3</th>\n",
              "      <td>\\nThink!\\n\\nIt's the SCSI card doing the DMA t...</td>\n",
              "      <td>3</td>\n",
              "      <td>comp.sys.ibm.pc.hardware</td>\n",
              "    </tr>\n",
              "    <tr>\n",
              "      <th>4</th>\n",
              "      <td>1)    I have an old Jasmine drive which I cann...</td>\n",
              "      <td>4</td>\n",
              "      <td>comp.sys.mac.hardware</td>\n",
              "    </tr>\n",
              "    <tr>\n",
              "      <th>5</th>\n",
              "      <td>\\n\\nBack in high school I worked as a lab assi...</td>\n",
              "      <td>12</td>\n",
              "      <td>sci.electronics</td>\n",
              "    </tr>\n",
              "    <tr>\n",
              "      <th>6</th>\n",
              "      <td>\\n\\nAE is in Dallas...try 214/241-6060 or 214/...</td>\n",
              "      <td>4</td>\n",
              "      <td>comp.sys.mac.hardware</td>\n",
              "    </tr>\n",
              "    <tr>\n",
              "      <th>7</th>\n",
              "      <td>\\n[stuff deleted]\\n\\nOk, here's the solution t...</td>\n",
              "      <td>10</td>\n",
              "      <td>rec.sport.hockey</td>\n",
              "    </tr>\n",
              "    <tr>\n",
              "      <th>8</th>\n",
              "      <td>\\n\\n\\nYeah, it's the second one.  And I believ...</td>\n",
              "      <td>10</td>\n",
              "      <td>rec.sport.hockey</td>\n",
              "    </tr>\n",
              "    <tr>\n",
              "      <th>9</th>\n",
              "      <td>\\nIf a Christian means someone who believes in...</td>\n",
              "      <td>19</td>\n",
              "      <td>talk.religion.misc</td>\n",
              "    </tr>\n",
              "  </tbody>\n",
              "</table>\n",
              "</div>\n",
              "      <button class=\"colab-df-convert\" onclick=\"convertToInteractive('df-3579e6e3-e09f-48fb-8a71-d1ee5a45a182')\"\n",
              "              title=\"Convert this dataframe to an interactive table.\"\n",
              "              style=\"display:none;\">\n",
              "        \n",
              "  <svg xmlns=\"http://www.w3.org/2000/svg\" height=\"24px\"viewBox=\"0 0 24 24\"\n",
              "       width=\"24px\">\n",
              "    <path d=\"M0 0h24v24H0V0z\" fill=\"none\"/>\n",
              "    <path d=\"M18.56 5.44l.94 2.06.94-2.06 2.06-.94-2.06-.94-.94-2.06-.94 2.06-2.06.94zm-11 1L8.5 8.5l.94-2.06 2.06-.94-2.06-.94L8.5 2.5l-.94 2.06-2.06.94zm10 10l.94 2.06.94-2.06 2.06-.94-2.06-.94-.94-2.06-.94 2.06-2.06.94z\"/><path d=\"M17.41 7.96l-1.37-1.37c-.4-.4-.92-.59-1.43-.59-.52 0-1.04.2-1.43.59L10.3 9.45l-7.72 7.72c-.78.78-.78 2.05 0 2.83L4 21.41c.39.39.9.59 1.41.59.51 0 1.02-.2 1.41-.59l7.78-7.78 2.81-2.81c.8-.78.8-2.07 0-2.86zM5.41 20L4 18.59l7.72-7.72 1.47 1.35L5.41 20z\"/>\n",
              "  </svg>\n",
              "      </button>\n",
              "      \n",
              "  <style>\n",
              "    .colab-df-container {\n",
              "      display:flex;\n",
              "      flex-wrap:wrap;\n",
              "      gap: 12px;\n",
              "    }\n",
              "\n",
              "    .colab-df-convert {\n",
              "      background-color: #E8F0FE;\n",
              "      border: none;\n",
              "      border-radius: 50%;\n",
              "      cursor: pointer;\n",
              "      display: none;\n",
              "      fill: #1967D2;\n",
              "      height: 32px;\n",
              "      padding: 0 0 0 0;\n",
              "      width: 32px;\n",
              "    }\n",
              "\n",
              "    .colab-df-convert:hover {\n",
              "      background-color: #E2EBFA;\n",
              "      box-shadow: 0px 1px 2px rgba(60, 64, 67, 0.3), 0px 1px 3px 1px rgba(60, 64, 67, 0.15);\n",
              "      fill: #174EA6;\n",
              "    }\n",
              "\n",
              "    [theme=dark] .colab-df-convert {\n",
              "      background-color: #3B4455;\n",
              "      fill: #D2E3FC;\n",
              "    }\n",
              "\n",
              "    [theme=dark] .colab-df-convert:hover {\n",
              "      background-color: #434B5C;\n",
              "      box-shadow: 0px 1px 3px 1px rgba(0, 0, 0, 0.15);\n",
              "      filter: drop-shadow(0px 1px 2px rgba(0, 0, 0, 0.3));\n",
              "      fill: #FFFFFF;\n",
              "    }\n",
              "  </style>\n",
              "\n",
              "      <script>\n",
              "        const buttonEl =\n",
              "          document.querySelector('#df-3579e6e3-e09f-48fb-8a71-d1ee5a45a182 button.colab-df-convert');\n",
              "        buttonEl.style.display =\n",
              "          google.colab.kernel.accessAllowed ? 'block' : 'none';\n",
              "\n",
              "        async function convertToInteractive(key) {\n",
              "          const element = document.querySelector('#df-3579e6e3-e09f-48fb-8a71-d1ee5a45a182');\n",
              "          const dataTable =\n",
              "            await google.colab.kernel.invokeFunction('convertToInteractive',\n",
              "                                                     [key], {});\n",
              "          if (!dataTable) return;\n",
              "\n",
              "          const docLinkHtml = 'Like what you see? Visit the ' +\n",
              "            '<a target=\"_blank\" href=https://colab.research.google.com/notebooks/data_table.ipynb>data table notebook</a>'\n",
              "            + ' to learn more about interactive tables.';\n",
              "          element.innerHTML = '';\n",
              "          dataTable['output_type'] = 'display_data';\n",
              "          await google.colab.output.renderOutput(dataTable, element);\n",
              "          const docLink = document.createElement('div');\n",
              "          docLink.innerHTML = docLinkHtml;\n",
              "          element.appendChild(docLink);\n",
              "        }\n",
              "      </script>\n",
              "    </div>\n",
              "  </div>\n",
              "  "
            ]
          },
          "metadata": {},
          "execution_count": 3
        }
      ]
    },
    {
      "cell_type": "markdown",
      "source": [
        "> #### **B) Preprocessing & Normalization**\n",
        "> Apart from the steps we have been covering in the semester so far regarding cleaning text specifically, what are some other steps we should take to ensure data quality that are not text specific (e.g., what should you check for in any dataset?)"
      ],
      "metadata": {
        "id": "xzXrJ53vjfw8"
      }
    },
    {
      "cell_type": "markdown",
      "source": [
        "**Should check for missing data and duplicates!**"
      ],
      "metadata": {
        "id": "X9d7W8P2knso"
      }
    },
    {
      "cell_type": "code",
      "source": [
        "total_nulls = data_df[data_df.Article.str.strip() == ''].shape[0]                              # find the number of documents that are completely blank (i.e, contain only blank spaces)\n",
        "print(\"Empty documents:\", total_nulls)"
      ],
      "metadata": {
        "colab": {
          "base_uri": "https://localhost:8080/"
        },
        "id": "1abfmiCqjyo2",
        "outputId": "39fd5401-c02c-4266-e33b-95ef40042bb6"
      },
      "execution_count": null,
      "outputs": [
        {
          "output_type": "stream",
          "name": "stdout",
          "text": [
            "Empty documents: 515\n"
          ]
        }
      ]
    },
    {
      "cell_type": "code",
      "source": [
        "data_df = data_df[~(data_df.Article.str.strip() == '')]                                        # drop rows where Article is completely blank\n",
        "data_df.shape"
      ],
      "metadata": {
        "colab": {
          "base_uri": "https://localhost:8080/"
        },
        "id": "Hr0SwSs4j4Ld",
        "outputId": "ad4e78a4-92da-4bf9-ffa4-a542774bab46"
      },
      "execution_count": null,
      "outputs": [
        {
          "output_type": "execute_result",
          "data": {
            "text/plain": [
              "(18331, 3)"
            ]
          },
          "metadata": {},
          "execution_count": 5
        }
      ]
    },
    {
      "cell_type": "code",
      "source": [
        "duplicate = data_df[data_df.duplicated()]                                                      # check for duplicated rows\n",
        "print(\"Duplicate Rows :\", len(duplicate))"
      ],
      "metadata": {
        "colab": {
          "base_uri": "https://localhost:8080/"
        },
        "id": "XLWNCYYRkshD",
        "outputId": "e2454afb-788e-417d-9563-2fc44b9344ff"
      },
      "execution_count": null,
      "outputs": [
        {
          "output_type": "stream",
          "name": "stdout",
          "text": [
            "Duplicate Rows : 47\n"
          ]
        }
      ]
    },
    {
      "cell_type": "code",
      "source": [
        "data_df = data_df.drop_duplicates()                                                            # drop duplicated rows\n",
        "data_df.shape "
      ],
      "metadata": {
        "colab": {
          "base_uri": "https://localhost:8080/"
        },
        "id": "BVHQVzJClsVa",
        "outputId": "32501fea-1723-4029-f2bd-6c305c6706c2"
      },
      "execution_count": null,
      "outputs": [
        {
          "output_type": "execute_result",
          "data": {
            "text/plain": [
              "(18284, 3)"
            ]
          },
          "metadata": {},
          "execution_count": 7
        }
      ]
    },
    {
      "cell_type": "markdown",
      "source": [
        "> #### **Normalize the corpus...we'll bring in a function that combines a lot of the preprocessing we've done before...**"
      ],
      "metadata": {
        "id": "nFvnvrOomnB8"
      }
    },
    {
      "cell_type": "code",
      "source": [
        "import nltk\n",
        "nltk.download('stopwords')\n",
        "from nltk.tokenize.toktok import ToktokTokenizer\n",
        "tokenizer = ToktokTokenizer()\n",
        "stopword_list = nltk.corpus.stopwords.words('english')\n",
        "from nltk.stem import WordNetLemmatizer\n",
        "wnl = WordNetLemmatizer()\n",
        "\n",
        "from pprint import pprint\n",
        "import numpy as np\n",
        "import re\n",
        "from bs4 import BeautifulSoup\n",
        "\n",
        "import spacy\n",
        "nlp = spacy.load('en_core_web_sm')                                                                                            # dependencies\n",
        "\n",
        "import unicodedata\n",
        "\n",
        "!pip install contractions\n",
        "import contractions\n",
        "\n",
        "def strip_html_tags(text):\n",
        "    soup = BeautifulSoup(text, \"html.parser\")\n",
        "    [s.extract() for s in soup(['iframe', 'script'])]                                                                         # html parsing\n",
        "    stripped_text = soup.get_text()\n",
        "    stripped_text = re.sub(r'[\\r|\\n|\\r\\n]+', '\\n', stripped_text)\n",
        "    return stripped_text\n",
        "\n",
        "def tokenize_text(text):                                                                                                      # text tokenization\n",
        "    sentences = nltk.sent_tokenize(text)\n",
        "    word_tokens = [nltk.word_tokenize(sentence) for sentence in sentences] \n",
        "    return word_tokens\n",
        "\n",
        "def remove_accented_chars(text):\n",
        "    text = unicodedata.normalize('NFKD', text).encode('ascii', 'ignore').decode('utf-8', 'ignore')                            # accent removal\n",
        "    return text\n",
        "\n",
        "def expand_contractions(text):                                                                                                # expand contractions\n",
        "    expanded_words = []\n",
        "    for word in text.split():\n",
        "        expanded_words.append(contractions.fix(word))\n",
        "        expanded_text = ' '.join(expanded_words)\n",
        "    return expanded_text\n",
        "\n",
        "def remove_special_characters(text, remove_digits=False):                                                                    # special character removal\n",
        "    pattern = r'[^a-zA-z0-9\\s]' if not remove_digits else r'[^a-zA-z\\s]'\n",
        "    text = re.sub(pattern, '', text)\n",
        "    return text\n",
        "\n",
        "def simple_stemmer(text):                                                                                                   # stemmer\n",
        "    ps = nltk.porter.PorterStemmer()\n",
        "    text = ' '.join([ps.stem(word) for word in text.split()])\n",
        "    return text\n",
        "\n",
        "def lemmatize_text(text):\n",
        "    text = nlp(text)                                                                                                        # lemmatizer\n",
        "    text = ' '.join([word.lemma_ if word.lemma_ != '-PRON-' else word.text for word in text])\n",
        "    return text\n",
        "\n",
        "def remove_stopwords(text, is_lower_case=False, stopwords=stopword_list):                                                   # stopword removal\n",
        "    tokens = tokenizer.tokenize(text)\n",
        "    tokens = [token.strip() for token in tokens]\n",
        "    if is_lower_case:\n",
        "        filtered_tokens = [token for token in tokens if token not in stopwords]\n",
        "    else:\n",
        "        filtered_tokens = [token for token in tokens if token.lower() not in stopwords]\n",
        "    filtered_text = ' '.join(filtered_tokens)    \n",
        "    return filtered_text\n",
        "\n",
        "def normalize_corpus(corpus, html_stripping=True, contraction_expansion=True,                                                # define normalize corpus function\n",
        "                     accented_char_removal=True, text_lower_case=True, \n",
        "                     text_lemmatization=True, special_char_removal=True, \n",
        "                     stopword_removal=True, remove_digits=True):\n",
        "    \n",
        "    normalized_corpus = []\n",
        "    # normalize each document in the corpus\n",
        "    for doc in corpus:\n",
        "        # strip HTML\n",
        "        if html_stripping:\n",
        "            doc = strip_html_tags(doc)\n",
        "        # remove accented characters\n",
        "        if accented_char_removal:\n",
        "            doc = remove_accented_chars(doc)\n",
        "        # expand contractions    \n",
        "        if contraction_expansion:\n",
        "            doc = expand_contractions(doc)\n",
        "        # lowercase the text    \n",
        "        if text_lower_case:\n",
        "            doc = doc.lower()\n",
        "        # remove extra newlines\n",
        "        doc = re.sub(r'[\\r|\\n|\\r\\n]+', ' ',doc)\n",
        "        # lemmatize text\n",
        "        if text_lemmatization:\n",
        "            doc = lemmatize_text(doc)\n",
        "        # remove special characters and\\or digits    \n",
        "        if special_char_removal:\n",
        "            # insert spaces between special characters to isolate them    \n",
        "            special_char_pattern = re.compile(r'([{.(-)!}])')\n",
        "            doc = special_char_pattern.sub(\" \\\\1 \", doc)\n",
        "            doc = remove_special_characters(doc, remove_digits=remove_digits)  \n",
        "        # remove extra whitespace\n",
        "        doc = re.sub(' +', ' ', doc)\n",
        "        # remove stopwords\n",
        "        if stopword_removal:\n",
        "            doc = remove_stopwords(doc, is_lower_case=text_lower_case)\n",
        "            \n",
        "        normalized_corpus.append(doc)\n",
        "        \n",
        "    return normalized_corpus"
      ],
      "metadata": {
        "id": "elcqyA-qmwA3"
      },
      "execution_count": null,
      "outputs": []
    },
    {
      "cell_type": "code",
      "source": [
        "norm_corpus = normalize_corpus(corpus=data_df['Article'])                                                       # let's make sure we're using a GPU instance here...took about 11 minutes to run\n",
        "data_df['Clean Article'] = norm_corpus"
      ],
      "metadata": {
        "id": "22FAW0TNm5mS"
      },
      "execution_count": null,
      "outputs": []
    },
    {
      "cell_type": "code",
      "source": [
        "!pip install xlsxwriter"
      ],
      "metadata": {
        "id": "rbRz4fEk4LJ5"
      },
      "execution_count": null,
      "outputs": []
    },
    {
      "cell_type": "code",
      "source": [
        "df = data_df.applymap(lambda x: x.encode('unicode_escape').\n",
        "                 decode('utf-8') if isinstance(x, str) else x)"
      ],
      "metadata": {
        "id": "hFVRbx9-vyne"
      },
      "execution_count": null,
      "outputs": []
    },
    {
      "cell_type": "code",
      "source": [
        "df.to_excel(\"Cleaned_news20.xlsx\")"
      ],
      "metadata": {
        "id": "xTueTgaawLIa"
      },
      "execution_count": null,
      "outputs": []
    },
    {
      "cell_type": "markdown",
      "source": [],
      "metadata": {
        "id": "t5DdxdW_MjRY"
      }
    },
    {
      "cell_type": "markdown",
      "source": [
        "> #### **Read in Cleaned Excel file**"
      ],
      "metadata": {
        "id": "HZzmUZfRMlYB"
      }
    },
    {
      "cell_type": "code",
      "source": [
        "df = pd.read_excel(\"/content/Cleaned_news20.xlsx\")\n",
        "df.head()"
      ],
      "metadata": {
        "colab": {
          "base_uri": "https://localhost:8080/",
          "height": 424
        },
        "id": "75Czy-2yMqjW",
        "outputId": "5733a0dd-788b-4df9-c5f1-988cc198808e"
      },
      "execution_count": 3,
      "outputs": [
        {
          "output_type": "execute_result",
          "data": {
            "text/plain": [
              "   Target Label               Target Name  \\\n",
              "0            10          rec.sport.hockey   \n",
              "1             3  comp.sys.ibm.pc.hardware   \n",
              "2            17     talk.politics.mideast   \n",
              "3             3  comp.sys.ibm.pc.hardware   \n",
              "4             4     comp.sys.mac.hardware   \n",
              "\n",
              "                                             Article  \\\n",
              "0  \\n\\nI am sure some bashers of Pens fans are pr...   \n",
              "1  My brother is in the market for a high-perform...   \n",
              "2  \\n\\n\\n\\n\\tFinally you said what you dream abou...   \n",
              "3  \\nThink!\\n\\nIt's the SCSI card doing the DMA t...   \n",
              "4  1)    I have an old Jasmine drive which I cann...   \n",
              "\n",
              "                                       Clean Article  \n",
              "0  I sure basher pen fan pretty confused lack kin...  \n",
              "1  brother market high performance video card sup...  \n",
              "2  finally say dream mediterranean new area great...  \n",
              "3  think scsi card dma transfer disk scsi card dm...  \n",
              "4  I old jasmine drive I use new system understan...  "
            ],
            "text/html": [
              "\n",
              "  <div id=\"df-2135aa69-22fb-4885-a42a-4fdadc2f064e\">\n",
              "    <div class=\"colab-df-container\">\n",
              "      <div>\n",
              "<style scoped>\n",
              "    .dataframe tbody tr th:only-of-type {\n",
              "        vertical-align: middle;\n",
              "    }\n",
              "\n",
              "    .dataframe tbody tr th {\n",
              "        vertical-align: top;\n",
              "    }\n",
              "\n",
              "    .dataframe thead th {\n",
              "        text-align: right;\n",
              "    }\n",
              "</style>\n",
              "<table border=\"1\" class=\"dataframe\">\n",
              "  <thead>\n",
              "    <tr style=\"text-align: right;\">\n",
              "      <th></th>\n",
              "      <th>Target Label</th>\n",
              "      <th>Target Name</th>\n",
              "      <th>Article</th>\n",
              "      <th>Clean Article</th>\n",
              "    </tr>\n",
              "  </thead>\n",
              "  <tbody>\n",
              "    <tr>\n",
              "      <th>0</th>\n",
              "      <td>10</td>\n",
              "      <td>rec.sport.hockey</td>\n",
              "      <td>\\n\\nI am sure some bashers of Pens fans are pr...</td>\n",
              "      <td>I sure basher pen fan pretty confused lack kin...</td>\n",
              "    </tr>\n",
              "    <tr>\n",
              "      <th>1</th>\n",
              "      <td>3</td>\n",
              "      <td>comp.sys.ibm.pc.hardware</td>\n",
              "      <td>My brother is in the market for a high-perform...</td>\n",
              "      <td>brother market high performance video card sup...</td>\n",
              "    </tr>\n",
              "    <tr>\n",
              "      <th>2</th>\n",
              "      <td>17</td>\n",
              "      <td>talk.politics.mideast</td>\n",
              "      <td>\\n\\n\\n\\n\\tFinally you said what you dream abou...</td>\n",
              "      <td>finally say dream mediterranean new area great...</td>\n",
              "    </tr>\n",
              "    <tr>\n",
              "      <th>3</th>\n",
              "      <td>3</td>\n",
              "      <td>comp.sys.ibm.pc.hardware</td>\n",
              "      <td>\\nThink!\\n\\nIt's the SCSI card doing the DMA t...</td>\n",
              "      <td>think scsi card dma transfer disk scsi card dm...</td>\n",
              "    </tr>\n",
              "    <tr>\n",
              "      <th>4</th>\n",
              "      <td>4</td>\n",
              "      <td>comp.sys.mac.hardware</td>\n",
              "      <td>1)    I have an old Jasmine drive which I cann...</td>\n",
              "      <td>I old jasmine drive I use new system understan...</td>\n",
              "    </tr>\n",
              "  </tbody>\n",
              "</table>\n",
              "</div>\n",
              "      <button class=\"colab-df-convert\" onclick=\"convertToInteractive('df-2135aa69-22fb-4885-a42a-4fdadc2f064e')\"\n",
              "              title=\"Convert this dataframe to an interactive table.\"\n",
              "              style=\"display:none;\">\n",
              "        \n",
              "  <svg xmlns=\"http://www.w3.org/2000/svg\" height=\"24px\"viewBox=\"0 0 24 24\"\n",
              "       width=\"24px\">\n",
              "    <path d=\"M0 0h24v24H0V0z\" fill=\"none\"/>\n",
              "    <path d=\"M18.56 5.44l.94 2.06.94-2.06 2.06-.94-2.06-.94-.94-2.06-.94 2.06-2.06.94zm-11 1L8.5 8.5l.94-2.06 2.06-.94-2.06-.94L8.5 2.5l-.94 2.06-2.06.94zm10 10l.94 2.06.94-2.06 2.06-.94-2.06-.94-.94-2.06-.94 2.06-2.06.94z\"/><path d=\"M17.41 7.96l-1.37-1.37c-.4-.4-.92-.59-1.43-.59-.52 0-1.04.2-1.43.59L10.3 9.45l-7.72 7.72c-.78.78-.78 2.05 0 2.83L4 21.41c.39.39.9.59 1.41.59.51 0 1.02-.2 1.41-.59l7.78-7.78 2.81-2.81c.8-.78.8-2.07 0-2.86zM5.41 20L4 18.59l7.72-7.72 1.47 1.35L5.41 20z\"/>\n",
              "  </svg>\n",
              "      </button>\n",
              "      \n",
              "  <style>\n",
              "    .colab-df-container {\n",
              "      display:flex;\n",
              "      flex-wrap:wrap;\n",
              "      gap: 12px;\n",
              "    }\n",
              "\n",
              "    .colab-df-convert {\n",
              "      background-color: #E8F0FE;\n",
              "      border: none;\n",
              "      border-radius: 50%;\n",
              "      cursor: pointer;\n",
              "      display: none;\n",
              "      fill: #1967D2;\n",
              "      height: 32px;\n",
              "      padding: 0 0 0 0;\n",
              "      width: 32px;\n",
              "    }\n",
              "\n",
              "    .colab-df-convert:hover {\n",
              "      background-color: #E2EBFA;\n",
              "      box-shadow: 0px 1px 2px rgba(60, 64, 67, 0.3), 0px 1px 3px 1px rgba(60, 64, 67, 0.15);\n",
              "      fill: #174EA6;\n",
              "    }\n",
              "\n",
              "    [theme=dark] .colab-df-convert {\n",
              "      background-color: #3B4455;\n",
              "      fill: #D2E3FC;\n",
              "    }\n",
              "\n",
              "    [theme=dark] .colab-df-convert:hover {\n",
              "      background-color: #434B5C;\n",
              "      box-shadow: 0px 1px 3px 1px rgba(0, 0, 0, 0.15);\n",
              "      filter: drop-shadow(0px 1px 2px rgba(0, 0, 0, 0.3));\n",
              "      fill: #FFFFFF;\n",
              "    }\n",
              "  </style>\n",
              "\n",
              "      <script>\n",
              "        const buttonEl =\n",
              "          document.querySelector('#df-2135aa69-22fb-4885-a42a-4fdadc2f064e button.colab-df-convert');\n",
              "        buttonEl.style.display =\n",
              "          google.colab.kernel.accessAllowed ? 'block' : 'none';\n",
              "\n",
              "        async function convertToInteractive(key) {\n",
              "          const element = document.querySelector('#df-2135aa69-22fb-4885-a42a-4fdadc2f064e');\n",
              "          const dataTable =\n",
              "            await google.colab.kernel.invokeFunction('convertToInteractive',\n",
              "                                                     [key], {});\n",
              "          if (!dataTable) return;\n",
              "\n",
              "          const docLinkHtml = 'Like what you see? Visit the ' +\n",
              "            '<a target=\"_blank\" href=https://colab.research.google.com/notebooks/data_table.ipynb>data table notebook</a>'\n",
              "            + ' to learn more about interactive tables.';\n",
              "          element.innerHTML = '';\n",
              "          dataTable['output_type'] = 'display_data';\n",
              "          await google.colab.output.renderOutput(dataTable, element);\n",
              "          const docLink = document.createElement('div');\n",
              "          docLink.innerHTML = docLinkHtml;\n",
              "          element.appendChild(docLink);\n",
              "        }\n",
              "      </script>\n",
              "    </div>\n",
              "  </div>\n",
              "  "
            ]
          },
          "metadata": {},
          "execution_count": 3
        }
      ]
    },
    {
      "cell_type": "markdown",
      "source": [
        "> #### **Do one more check to make sure we don't have any blank documents now that we cleaned the text...**"
      ],
      "metadata": {
        "id": "8D8-ncwpM-Tr"
      }
    },
    {
      "cell_type": "code",
      "source": [
        "df = df.replace(r'^(\\s?)+$', np.nan, regex=True)            # replace blank entries with nans\n",
        "df.info()                                                   # pull up df info"
      ],
      "metadata": {
        "colab": {
          "base_uri": "https://localhost:8080/"
        },
        "id": "KfGYSmPdMvbx",
        "outputId": "48d054a9-0fd2-4472-c1f5-57ec1a2c4ea0"
      },
      "execution_count": 4,
      "outputs": [
        {
          "output_type": "stream",
          "name": "stdout",
          "text": [
            "<class 'pandas.core.frame.DataFrame'>\n",
            "RangeIndex: 18284 entries, 0 to 18283\n",
            "Data columns (total 4 columns):\n",
            " #   Column         Non-Null Count  Dtype \n",
            "---  ------         --------------  ----- \n",
            " 0   Target Label   18284 non-null  int64 \n",
            " 1   Target Name    18284 non-null  object\n",
            " 2   Article        18284 non-null  object\n",
            " 3   Clean Article  18261 non-null  object\n",
            "dtypes: int64(1), object(3)\n",
            "memory usage: 571.5+ KB\n"
          ]
        }
      ]
    },
    {
      "cell_type": "markdown",
      "source": [
        "**We can see that we have some missing data in our Clean Article column (less than 18284); so let's drop those nulls out.**"
      ],
      "metadata": {
        "id": "cPHzXp7LNs5o"
      }
    },
    {
      "cell_type": "code",
      "source": [
        "df = df.dropna().reset_index(drop = True)\n",
        "df.info()"
      ],
      "metadata": {
        "colab": {
          "base_uri": "https://localhost:8080/"
        },
        "id": "yT630Eq8NcrR",
        "outputId": "69e963d1-0426-4e01-f807-c01975a0f3ae"
      },
      "execution_count": 5,
      "outputs": [
        {
          "output_type": "stream",
          "name": "stdout",
          "text": [
            "<class 'pandas.core.frame.DataFrame'>\n",
            "RangeIndex: 18261 entries, 0 to 18260\n",
            "Data columns (total 4 columns):\n",
            " #   Column         Non-Null Count  Dtype \n",
            "---  ------         --------------  ----- \n",
            " 0   Target Label   18261 non-null  int64 \n",
            " 1   Target Name    18261 non-null  object\n",
            " 2   Article        18261 non-null  object\n",
            " 3   Clean Article  18261 non-null  object\n",
            "dtypes: int64(1), object(3)\n",
            "memory usage: 570.8+ KB\n"
          ]
        }
      ]
    },
    {
      "cell_type": "markdown",
      "source": [
        "## **2) Building Train and Test Sets**\n",
        "\n",
        "Our next step in developing a text classification model is to divide out our data into a training and test set. We'll use 66% of our data to train, and the remaining third as a test set."
      ],
      "metadata": {
        "id": "a0X1YKTeN9oe"
      }
    },
    {
      "cell_type": "code",
      "source": [
        "train_corpus, test_corpus, train_label_nums, test_label_nums, train_label_names, test_label_names =\\\n",
        "                                 train_test_split(np.array(df['Clean Article']), np.array(df['Target Label']),\n",
        "                                                       np.array(df['Target Name']), test_size=0.33, random_state=42)\n",
        "\n",
        "train_corpus.shape, test_corpus.shape"
      ],
      "metadata": {
        "colab": {
          "base_uri": "https://localhost:8080/"
        },
        "id": "L-y7UeBiPExY",
        "outputId": "c9de0628-05fc-41c2-fbca-d3d537c26b5f"
      },
      "execution_count": 6,
      "outputs": [
        {
          "output_type": "execute_result",
          "data": {
            "text/plain": [
              "((12234,), (6027,))"
            ]
          },
          "metadata": {},
          "execution_count": 6
        }
      ]
    },
    {
      "cell_type": "markdown",
      "source": [
        "**Let's examine the distribution of news article categories across the training and test sets**"
      ],
      "metadata": {
        "id": "zSZJpPP3Pi9g"
      }
    },
    {
      "cell_type": "code",
      "source": [
        "trd = dict(Counter(train_label_names))                                                      # create training dictionary of labels\n",
        "tsd = dict(Counter(test_label_names))                                                       # create test set dictionary of labels\n",
        "\n",
        "(pd.DataFrame([[key, trd[key], tsd[key]] for key in trd],                                   # display as dataframe\n",
        "             columns=['Target Label', 'Train Count', 'Test Count'])\n",
        ".sort_values(by=['Train Count', 'Test Count'],\n",
        "             ascending=False))"
      ],
      "metadata": {
        "colab": {
          "base_uri": "https://localhost:8080/",
          "height": 676
        },
        "id": "kU4azBBxPoD2",
        "outputId": "afb3c2b9-a13e-42fb-c8e3-69aafa2e21b3"
      },
      "execution_count": 7,
      "outputs": [
        {
          "output_type": "execute_result",
          "data": {
            "text/plain": [
              "                Target Label  Train Count  Test Count\n",
              "13          rec.sport.hockey          670         304\n",
              "15            comp.windows.x          667         297\n",
              "8            rec.motorcycles          657         310\n",
              "9                  sci.crypt          651         311\n",
              "17   comp.os.ms-windows.misc          647         296\n",
              "14    soc.religion.christian          645         329\n",
              "11           sci.electronics          639         316\n",
              "18  comp.sys.ibm.pc.hardware          637         325\n",
              "3      comp.sys.mac.hardware          637         289\n",
              "12                   sci.med          632         326\n",
              "5               misc.forsale          630         314\n",
              "7                  rec.autos          629         306\n",
              "16                 sci.space          628         324\n",
              "0         rec.sport.baseball          625         327\n",
              "19             comp.graphics          616         336\n",
              "2      talk.politics.mideast          599         318\n",
              "1         talk.politics.guns          593         293\n",
              "4                alt.atheism          513         266\n",
              "10        talk.politics.misc          503         252\n",
              "6         talk.religion.misc          416         188"
            ],
            "text/html": [
              "\n",
              "  <div id=\"df-87f04065-5436-49cb-84d7-f6722a8f7211\">\n",
              "    <div class=\"colab-df-container\">\n",
              "      <div>\n",
              "<style scoped>\n",
              "    .dataframe tbody tr th:only-of-type {\n",
              "        vertical-align: middle;\n",
              "    }\n",
              "\n",
              "    .dataframe tbody tr th {\n",
              "        vertical-align: top;\n",
              "    }\n",
              "\n",
              "    .dataframe thead th {\n",
              "        text-align: right;\n",
              "    }\n",
              "</style>\n",
              "<table border=\"1\" class=\"dataframe\">\n",
              "  <thead>\n",
              "    <tr style=\"text-align: right;\">\n",
              "      <th></th>\n",
              "      <th>Target Label</th>\n",
              "      <th>Train Count</th>\n",
              "      <th>Test Count</th>\n",
              "    </tr>\n",
              "  </thead>\n",
              "  <tbody>\n",
              "    <tr>\n",
              "      <th>13</th>\n",
              "      <td>rec.sport.hockey</td>\n",
              "      <td>670</td>\n",
              "      <td>304</td>\n",
              "    </tr>\n",
              "    <tr>\n",
              "      <th>15</th>\n",
              "      <td>comp.windows.x</td>\n",
              "      <td>667</td>\n",
              "      <td>297</td>\n",
              "    </tr>\n",
              "    <tr>\n",
              "      <th>8</th>\n",
              "      <td>rec.motorcycles</td>\n",
              "      <td>657</td>\n",
              "      <td>310</td>\n",
              "    </tr>\n",
              "    <tr>\n",
              "      <th>9</th>\n",
              "      <td>sci.crypt</td>\n",
              "      <td>651</td>\n",
              "      <td>311</td>\n",
              "    </tr>\n",
              "    <tr>\n",
              "      <th>17</th>\n",
              "      <td>comp.os.ms-windows.misc</td>\n",
              "      <td>647</td>\n",
              "      <td>296</td>\n",
              "    </tr>\n",
              "    <tr>\n",
              "      <th>14</th>\n",
              "      <td>soc.religion.christian</td>\n",
              "      <td>645</td>\n",
              "      <td>329</td>\n",
              "    </tr>\n",
              "    <tr>\n",
              "      <th>11</th>\n",
              "      <td>sci.electronics</td>\n",
              "      <td>639</td>\n",
              "      <td>316</td>\n",
              "    </tr>\n",
              "    <tr>\n",
              "      <th>18</th>\n",
              "      <td>comp.sys.ibm.pc.hardware</td>\n",
              "      <td>637</td>\n",
              "      <td>325</td>\n",
              "    </tr>\n",
              "    <tr>\n",
              "      <th>3</th>\n",
              "      <td>comp.sys.mac.hardware</td>\n",
              "      <td>637</td>\n",
              "      <td>289</td>\n",
              "    </tr>\n",
              "    <tr>\n",
              "      <th>12</th>\n",
              "      <td>sci.med</td>\n",
              "      <td>632</td>\n",
              "      <td>326</td>\n",
              "    </tr>\n",
              "    <tr>\n",
              "      <th>5</th>\n",
              "      <td>misc.forsale</td>\n",
              "      <td>630</td>\n",
              "      <td>314</td>\n",
              "    </tr>\n",
              "    <tr>\n",
              "      <th>7</th>\n",
              "      <td>rec.autos</td>\n",
              "      <td>629</td>\n",
              "      <td>306</td>\n",
              "    </tr>\n",
              "    <tr>\n",
              "      <th>16</th>\n",
              "      <td>sci.space</td>\n",
              "      <td>628</td>\n",
              "      <td>324</td>\n",
              "    </tr>\n",
              "    <tr>\n",
              "      <th>0</th>\n",
              "      <td>rec.sport.baseball</td>\n",
              "      <td>625</td>\n",
              "      <td>327</td>\n",
              "    </tr>\n",
              "    <tr>\n",
              "      <th>19</th>\n",
              "      <td>comp.graphics</td>\n",
              "      <td>616</td>\n",
              "      <td>336</td>\n",
              "    </tr>\n",
              "    <tr>\n",
              "      <th>2</th>\n",
              "      <td>talk.politics.mideast</td>\n",
              "      <td>599</td>\n",
              "      <td>318</td>\n",
              "    </tr>\n",
              "    <tr>\n",
              "      <th>1</th>\n",
              "      <td>talk.politics.guns</td>\n",
              "      <td>593</td>\n",
              "      <td>293</td>\n",
              "    </tr>\n",
              "    <tr>\n",
              "      <th>4</th>\n",
              "      <td>alt.atheism</td>\n",
              "      <td>513</td>\n",
              "      <td>266</td>\n",
              "    </tr>\n",
              "    <tr>\n",
              "      <th>10</th>\n",
              "      <td>talk.politics.misc</td>\n",
              "      <td>503</td>\n",
              "      <td>252</td>\n",
              "    </tr>\n",
              "    <tr>\n",
              "      <th>6</th>\n",
              "      <td>talk.religion.misc</td>\n",
              "      <td>416</td>\n",
              "      <td>188</td>\n",
              "    </tr>\n",
              "  </tbody>\n",
              "</table>\n",
              "</div>\n",
              "      <button class=\"colab-df-convert\" onclick=\"convertToInteractive('df-87f04065-5436-49cb-84d7-f6722a8f7211')\"\n",
              "              title=\"Convert this dataframe to an interactive table.\"\n",
              "              style=\"display:none;\">\n",
              "        \n",
              "  <svg xmlns=\"http://www.w3.org/2000/svg\" height=\"24px\"viewBox=\"0 0 24 24\"\n",
              "       width=\"24px\">\n",
              "    <path d=\"M0 0h24v24H0V0z\" fill=\"none\"/>\n",
              "    <path d=\"M18.56 5.44l.94 2.06.94-2.06 2.06-.94-2.06-.94-.94-2.06-.94 2.06-2.06.94zm-11 1L8.5 8.5l.94-2.06 2.06-.94-2.06-.94L8.5 2.5l-.94 2.06-2.06.94zm10 10l.94 2.06.94-2.06 2.06-.94-2.06-.94-.94-2.06-.94 2.06-2.06.94z\"/><path d=\"M17.41 7.96l-1.37-1.37c-.4-.4-.92-.59-1.43-.59-.52 0-1.04.2-1.43.59L10.3 9.45l-7.72 7.72c-.78.78-.78 2.05 0 2.83L4 21.41c.39.39.9.59 1.41.59.51 0 1.02-.2 1.41-.59l7.78-7.78 2.81-2.81c.8-.78.8-2.07 0-2.86zM5.41 20L4 18.59l7.72-7.72 1.47 1.35L5.41 20z\"/>\n",
              "  </svg>\n",
              "      </button>\n",
              "      \n",
              "  <style>\n",
              "    .colab-df-container {\n",
              "      display:flex;\n",
              "      flex-wrap:wrap;\n",
              "      gap: 12px;\n",
              "    }\n",
              "\n",
              "    .colab-df-convert {\n",
              "      background-color: #E8F0FE;\n",
              "      border: none;\n",
              "      border-radius: 50%;\n",
              "      cursor: pointer;\n",
              "      display: none;\n",
              "      fill: #1967D2;\n",
              "      height: 32px;\n",
              "      padding: 0 0 0 0;\n",
              "      width: 32px;\n",
              "    }\n",
              "\n",
              "    .colab-df-convert:hover {\n",
              "      background-color: #E2EBFA;\n",
              "      box-shadow: 0px 1px 2px rgba(60, 64, 67, 0.3), 0px 1px 3px 1px rgba(60, 64, 67, 0.15);\n",
              "      fill: #174EA6;\n",
              "    }\n",
              "\n",
              "    [theme=dark] .colab-df-convert {\n",
              "      background-color: #3B4455;\n",
              "      fill: #D2E3FC;\n",
              "    }\n",
              "\n",
              "    [theme=dark] .colab-df-convert:hover {\n",
              "      background-color: #434B5C;\n",
              "      box-shadow: 0px 1px 3px 1px rgba(0, 0, 0, 0.15);\n",
              "      filter: drop-shadow(0px 1px 2px rgba(0, 0, 0, 0.3));\n",
              "      fill: #FFFFFF;\n",
              "    }\n",
              "  </style>\n",
              "\n",
              "      <script>\n",
              "        const buttonEl =\n",
              "          document.querySelector('#df-87f04065-5436-49cb-84d7-f6722a8f7211 button.colab-df-convert');\n",
              "        buttonEl.style.display =\n",
              "          google.colab.kernel.accessAllowed ? 'block' : 'none';\n",
              "\n",
              "        async function convertToInteractive(key) {\n",
              "          const element = document.querySelector('#df-87f04065-5436-49cb-84d7-f6722a8f7211');\n",
              "          const dataTable =\n",
              "            await google.colab.kernel.invokeFunction('convertToInteractive',\n",
              "                                                     [key], {});\n",
              "          if (!dataTable) return;\n",
              "\n",
              "          const docLinkHtml = 'Like what you see? Visit the ' +\n",
              "            '<a target=\"_blank\" href=https://colab.research.google.com/notebooks/data_table.ipynb>data table notebook</a>'\n",
              "            + ' to learn more about interactive tables.';\n",
              "          element.innerHTML = '';\n",
              "          dataTable['output_type'] = 'display_data';\n",
              "          await google.colab.output.renderOutput(dataTable, element);\n",
              "          const docLink = document.createElement('div');\n",
              "          docLink.innerHTML = docLinkHtml;\n",
              "          element.appendChild(docLink);\n",
              "        }\n",
              "      </script>\n",
              "    </div>\n",
              "  </div>\n",
              "  "
            ]
          },
          "metadata": {},
          "execution_count": 7
        }
      ]
    },
    {
      "cell_type": "markdown",
      "source": [
        "**Are the distributions of each category between the training and the test set roughly what you'd expect given a 66-33 split on the data? Which category has the most observations, which has the least?**"
      ],
      "metadata": {
        "id": "NFw6zS4nQGkc"
      }
    },
    {
      "cell_type": "markdown",
      "source": [
        "Yes, all have roughly the same ratio of observations between the training to test set/roughly the same distribution of categories amongst the training and test set. Rec.sport.hockey has the greatest number of observations, ralk.religion.misc has the least -- though there isn't a huge class imbalance."
      ],
      "metadata": {
        "id": "s3Jcb6DIQpsl"
      }
    },
    {
      "cell_type": "markdown",
      "source": [
        "## **3) Classification with Bag of Words Features**\n",
        "> #### **Feature Engineering using Bag of Words Modeling**"
      ],
      "metadata": {
        "id": "SOBsry_uQ9oj"
      }
    },
    {
      "cell_type": "code",
      "source": [
        "cv = CountVectorizer(binary=False, min_df=0.0, max_df=1.0)                        # set parameters of BoW \n",
        "cv_train_features = cv.fit_transform(train_corpus)                                # fit model to training corpus, build BOW features on train articles"
      ],
      "metadata": {
        "id": "lb0ay3kSQfEV"
      },
      "execution_count": 8,
      "outputs": []
    },
    {
      "cell_type": "code",
      "source": [
        "cv_test_features = cv.transform(test_corpus)                                      # transform test articles to BOW features"
      ],
      "metadata": {
        "id": "7h82N3LNSJ4m"
      },
      "execution_count": 9,
      "outputs": []
    },
    {
      "cell_type": "markdown",
      "source": [
        "> #### **Fit Classifiers to BoW Features; Evaluate 5-fold Cross-Validated Accuracy**"
      ],
      "metadata": {
        "id": "IDGER5dwSjjZ"
      }
    },
    {
      "cell_type": "markdown",
      "source": [
        "**Naive Multinomial Bayes**"
      ],
      "metadata": {
        "id": "_UvIsqAmS0Om"
      }
    },
    {
      "cell_type": "code",
      "source": [
        "from sklearn.naive_bayes import MultinomialNB"
      ],
      "metadata": {
        "id": "pDwTHwmD3XTD"
      },
      "execution_count": 10,
      "outputs": []
    },
    {
      "cell_type": "code",
      "source": [
        "mnb = MultinomialNB(alpha=1)                                                              # set model parameters\n",
        "mnb.fit(cv_train_features, train_label_names)                                             # fit model to training data features & labels (x,y)\n",
        "\n",
        "mnb_bow_cv_scores = cross_val_score(mnb, cv_train_features, train_label_names, cv=5)      # run 5-fold cross-validation\n",
        "mnb_bow_cv_mean_score = np.mean(mnb_bow_cv_scores)                                        # compute average cross-validated accuracy\n",
        "\n",
        "print('CV Accuracy (5-fold):', mnb_bow_cv_scores)                                         # print 5-fold accuracy\n",
        "print('Mean CV Accuracy:', mnb_bow_cv_mean_score)                                         # print average accuracy\n",
        "\n",
        "mnb_bow_test_score = mnb.score(cv_test_features, test_label_names)                        # calculate test set accuracy\n",
        "print('Test Accuracy:', mnb_bow_test_score)                                               # print test set accuracy"
      ],
      "metadata": {
        "colab": {
          "base_uri": "https://localhost:8080/"
        },
        "id": "EbpBy0-aSybj",
        "outputId": "662e9dc6-cb21-4e62-d884-7dbdcfb8b5b3"
      },
      "execution_count": 11,
      "outputs": [
        {
          "output_type": "stream",
          "name": "stdout",
          "text": [
            "CV Accuracy (5-fold): [0.67919902 0.67061708 0.67674704 0.68532897 0.66557645]\n",
            "Mean CV Accuracy: 0.6754937128280628\n",
            "Test Accuracy: 0.6943753111000498\n"
          ]
        }
      ]
    },
    {
      "cell_type": "markdown",
      "source": [
        "**Not great, but let's establish our baseline based on our majority class. How can we calculate that?**"
      ],
      "metadata": {
        "id": "bMgcruRETs6T"
      }
    },
    {
      "cell_type": "markdown",
      "source": [
        "Total observations of majority class divided by all observations"
      ],
      "metadata": {
        "id": "nX5RIyhnT3vR"
      }
    },
    {
      "cell_type": "code",
      "source": [
        "print(\"Basline Accuracy = \", (670+304)/len(df))"
      ],
      "metadata": {
        "colab": {
          "base_uri": "https://localhost:8080/"
        },
        "id": "6u3Vvg8zT9AI",
        "outputId": "99babf0b-8638-4410-b3ce-33fe1a6f6ada"
      },
      "execution_count": null,
      "outputs": [
        {
          "output_type": "stream",
          "name": "stdout",
          "text": [
            "Basline Accuracy =  0.05333771425442199\n"
          ]
        }
      ]
    },
    {
      "cell_type": "markdown",
      "source": [
        "**Logistic Regression** -- took about 3 minutes to run using regular runtime; consider switching to GPU instance"
      ],
      "metadata": {
        "id": "IHV03lKnUaBZ"
      }
    },
    {
      "cell_type": "code",
      "source": [
        "from sklearn.linear_model import LogisticRegression"
      ],
      "metadata": {
        "id": "zEGWcHuQ3a2a"
      },
      "execution_count": null,
      "outputs": []
    },
    {
      "cell_type": "code",
      "source": [
        "lr = LogisticRegression(penalty='l2', max_iter=100, C=1, random_state=42)                     # set model parameters\n",
        "lr.fit(cv_train_features, train_label_names)                                                  # fit model to training data features & labels (x,y)\n",
        "\n",
        "lr_bow_cv_scores = cross_val_score(lr, cv_train_features, train_label_names, cv=5)            # run 5-fold cross-validation\n",
        "lr_bow_cv_mean_score = np.mean(lr_bow_cv_scores)                                              # compute average cross-validated accuracy\n",
        "\n",
        "print('CV Accuracy (5-fold):', lr_bow_cv_scores)                                              # print 5-fold accuracy\n",
        "print('Mean CV Accuracy:', lr_bow_cv_mean_score)                                              # print avg accuracy\n",
        "\n",
        "\n",
        "lr_bow_test_score = lr.score(cv_test_features, test_label_names)                              # compute test set accuracy\n",
        "print('Test Accuracy:', lr_bow_test_score)                                                    # print test set accuracy"
      ],
      "metadata": {
        "colab": {
          "base_uri": "https://localhost:8080/"
        },
        "id": "i31shbeXUcIp",
        "outputId": "ce5ff2ec-c033-493a-ea0d-c487d1520f8e"
      },
      "execution_count": null,
      "outputs": [
        {
          "output_type": "stream",
          "name": "stdout",
          "text": [
            "CV Accuracy (5-fold): [0.70126686 0.67020842 0.69718022 0.67184307 0.66721177]\n",
            "Mean CV Accuracy: 0.6815420688005169\n",
            "Test Accuracy: 0.6898954703832753\n"
          ]
        }
      ]
    },
    {
      "cell_type": "markdown",
      "source": [
        "**Was there a considerable difference in performance, yes or no? In your opinion, does the difference in performance outweigh the difference in training time?**"
      ],
      "metadata": {
        "id": "hmKWjT8GVxXc"
      }
    },
    {
      "cell_type": "markdown",
      "source": [],
      "metadata": {
        "id": "d8WAFqnrV-tb"
      }
    },
    {
      "cell_type": "markdown",
      "source": [
        "**Support Vector Machines**"
      ],
      "metadata": {
        "id": "RzknRsJbWBwt"
      }
    },
    {
      "cell_type": "code",
      "source": [
        "from sklearn.svm import LinearSVC"
      ],
      "metadata": {
        "id": "65xdUZXD3c4H"
      },
      "execution_count": null,
      "outputs": []
    },
    {
      "cell_type": "code",
      "source": [
        "svm = LinearSVC(penalty='l2', C=1, random_state=42)                                                   # set model parameters\n",
        "svm.fit(cv_train_features, train_label_names)                                                         # fit model to training features and labels (x,y)\n",
        "\n",
        "svm_bow_cv_scores = cross_val_score(svm, cv_train_features, train_label_names, cv=5)                  # run 5-fold cross-validation\n",
        "svm_bow_cv_mean_score = np.mean(svm_bow_cv_scores)                                                    # compute average cross-validated accuracy\n",
        "\n",
        "print('CV Accuracy (5-fold):', svm_bow_cv_scores)                                                     # print 5-fold accuracy\n",
        "print('Mean CV Accuracy:', svm_bow_cv_mean_score)                                                     # print avg accuracy\n",
        "\n",
        "svm_bow_test_score = svm.score(cv_test_features, test_label_names)                                    # compute test set accuracy\n",
        "print('Test Accuracy:', svm_bow_test_score)                                                           # print test set accuracy"
      ],
      "metadata": {
        "colab": {
          "base_uri": "https://localhost:8080/"
        },
        "id": "9MOsIceqWBHb",
        "outputId": "dd652b65-55a3-4a83-ff75-5aa34f11c495"
      },
      "execution_count": null,
      "outputs": [
        {
          "output_type": "stream",
          "name": "stdout",
          "text": [
            "CV Accuracy (5-fold): [0.6546792  0.64609726 0.66693911 0.6411933  0.64022895]\n",
            "Mean CV Accuracy: 0.649827562643663\n",
            "Test Accuracy: 0.6537249045959848\n"
          ]
        }
      ]
    },
    {
      "cell_type": "markdown",
      "source": [
        "**The SVM trained considerably faster than the logistic regression; how does tha accuracy compare?**"
      ],
      "metadata": {
        "id": "6ce6c-yXWphu"
      }
    },
    {
      "cell_type": "markdown",
      "source": [],
      "metadata": {
        "id": "2H6_xzzUWx3L"
      }
    },
    {
      "cell_type": "markdown",
      "source": [
        "**Random Forest Classifier** - took about 30 seconds to train"
      ],
      "metadata": {
        "id": "XowykQr3Wz9k"
      }
    },
    {
      "cell_type": "code",
      "source": [
        "from sklearn.ensemble import RandomForestClassifier"
      ],
      "metadata": {
        "id": "WWUEptTC3fJl"
      },
      "execution_count": null,
      "outputs": []
    },
    {
      "cell_type": "code",
      "source": [
        "rfc = RandomForestClassifier(n_estimators=10, random_state=42)                                   # set model parameters\n",
        "rfc.fit(cv_train_features, train_label_names)                                                    # fit model to training features and labels (x,y)\n",
        "\n",
        "rfc_bow_cv_scores = cross_val_score(rfc, cv_train_features, train_label_names, cv=5)             # run 5-fold cross-validation\n",
        "rfc_bow_cv_mean_score = np.mean(rfc_bow_cv_scores)                                               # compute average cross-validated accuracy\n",
        "\n",
        "print('CV Accuracy (5-fold):', rfc_bow_cv_scores)                                                # print 5-fold accuracy\n",
        "print('Mean CV Accuracy:', rfc_bow_cv_mean_score)                                                # print avg accuracy\n",
        "\n",
        "rfc_bow_test_score = rfc.score(cv_test_features, test_label_names)                               # compute test set accuracy\n",
        "print('Test Accuracy:', rfc_bow_test_score)                                                      # print test set accuracy"
      ],
      "metadata": {
        "colab": {
          "base_uri": "https://localhost:8080/"
        },
        "id": "VZLjt76TWzfd",
        "outputId": "4ed55b57-8f88-429d-fd17-46b022ca1fc7"
      },
      "execution_count": null,
      "outputs": [
        {
          "output_type": "stream",
          "name": "stdout",
          "text": [
            "CV Accuracy (5-fold): [0.53780139 0.51246424 0.52881079 0.53126277 0.49632052]\n",
            "Mean CV Accuracy: 0.5213319428298573\n",
            "Test Accuracy: 0.5314418450306952\n"
          ]
        }
      ]
    },
    {
      "cell_type": "markdown",
      "source": [
        "**Gradient Boosting Machines** -- Took ~10 minutes to run"
      ],
      "metadata": {
        "id": "ebFXvyeCu5po"
      }
    },
    {
      "cell_type": "code",
      "source": [
        "from sklearn.ensemble import GradientBoostingClassifier"
      ],
      "metadata": {
        "id": "S8XaPfD13hrm"
      },
      "execution_count": null,
      "outputs": []
    },
    {
      "cell_type": "code",
      "source": [
        "gbc = GradientBoostingClassifier(n_estimators=10, random_state=42)\n",
        "gbc.fit(cv_train_features, train_label_names)\n",
        "\n",
        "gbc_bow_cv_scores = cross_val_score(gbc, cv_train_features, train_label_names, cv=5)\n",
        "gbc_bow_cv_mean_score = np.mean(gbc_bow_cv_scores)\n",
        "\n",
        "print('CV Accuracy (5-fold):', gbc_bow_cv_scores)\n",
        "print('Mean CV Accuracy:', gbc_bow_cv_mean_score)\n",
        "\n",
        "gbc_bow_test_score = gbc.score(cv_test_features, test_label_names)\n",
        "print('Test Accuracy:', gbc_bow_test_score)"
      ],
      "metadata": {
        "colab": {
          "base_uri": "https://localhost:8080/"
        },
        "id": "6fLPFpOPu_B0",
        "outputId": "ca3de486-12a8-4b3b-c91c-33f8df21d08a"
      },
      "execution_count": null,
      "outputs": [
        {
          "output_type": "stream",
          "name": "stdout",
          "text": [
            "CV Accuracy (5-fold): [0.55537393 0.53943604 0.5500613  0.57335513 0.54415372]\n",
            "Mean CV Accuracy: 0.552476024006568\n",
            "Test Accuracy: 0.549195287871246\n"
          ]
        }
      ]
    },
    {
      "cell_type": "markdown",
      "source": [
        "**Which of the models had the best performance in correctly classifying article labels; which had the worst? Let's display the test set accuracies for each model in a table below:**"
      ],
      "metadata": {
        "id": "ZJkctEmlwhwE"
      }
    },
    {
      "cell_type": "code",
      "source": [
        "models = gbc_bow_test_score, rfc_bow_test_score, svm_bow_test_score, lr_bow_test_score, mnb_bow_test_score\n",
        "\n",
        "pd.DataFrame(data = models,\n",
        "             index = [\"GBC\", \"RFC\", \"SVM\", \"LR\", \"MNB\"],\n",
        "             columns = [\"Test Set Accuracy\"])"
      ],
      "metadata": {
        "colab": {
          "base_uri": "https://localhost:8080/",
          "height": 206
        },
        "id": "Zf1JMrcWwuwC",
        "outputId": "fe09ca6c-8bbc-421e-d0b9-e90c7934f320"
      },
      "execution_count": null,
      "outputs": [
        {
          "output_type": "execute_result",
          "data": {
            "text/plain": [
              "     Test Set Accuracy\n",
              "GBC           0.549195\n",
              "RFC           0.531442\n",
              "SVM           0.653725\n",
              "LR            0.689895\n",
              "MNB           0.694375"
            ],
            "text/html": [
              "\n",
              "  <div id=\"df-c352f4ef-514e-4601-896f-6b1d98b0e913\">\n",
              "    <div class=\"colab-df-container\">\n",
              "      <div>\n",
              "<style scoped>\n",
              "    .dataframe tbody tr th:only-of-type {\n",
              "        vertical-align: middle;\n",
              "    }\n",
              "\n",
              "    .dataframe tbody tr th {\n",
              "        vertical-align: top;\n",
              "    }\n",
              "\n",
              "    .dataframe thead th {\n",
              "        text-align: right;\n",
              "    }\n",
              "</style>\n",
              "<table border=\"1\" class=\"dataframe\">\n",
              "  <thead>\n",
              "    <tr style=\"text-align: right;\">\n",
              "      <th></th>\n",
              "      <th>Test Set Accuracy</th>\n",
              "    </tr>\n",
              "  </thead>\n",
              "  <tbody>\n",
              "    <tr>\n",
              "      <th>GBC</th>\n",
              "      <td>0.549195</td>\n",
              "    </tr>\n",
              "    <tr>\n",
              "      <th>RFC</th>\n",
              "      <td>0.531442</td>\n",
              "    </tr>\n",
              "    <tr>\n",
              "      <th>SVM</th>\n",
              "      <td>0.653725</td>\n",
              "    </tr>\n",
              "    <tr>\n",
              "      <th>LR</th>\n",
              "      <td>0.689895</td>\n",
              "    </tr>\n",
              "    <tr>\n",
              "      <th>MNB</th>\n",
              "      <td>0.694375</td>\n",
              "    </tr>\n",
              "  </tbody>\n",
              "</table>\n",
              "</div>\n",
              "      <button class=\"colab-df-convert\" onclick=\"convertToInteractive('df-c352f4ef-514e-4601-896f-6b1d98b0e913')\"\n",
              "              title=\"Convert this dataframe to an interactive table.\"\n",
              "              style=\"display:none;\">\n",
              "        \n",
              "  <svg xmlns=\"http://www.w3.org/2000/svg\" height=\"24px\"viewBox=\"0 0 24 24\"\n",
              "       width=\"24px\">\n",
              "    <path d=\"M0 0h24v24H0V0z\" fill=\"none\"/>\n",
              "    <path d=\"M18.56 5.44l.94 2.06.94-2.06 2.06-.94-2.06-.94-.94-2.06-.94 2.06-2.06.94zm-11 1L8.5 8.5l.94-2.06 2.06-.94-2.06-.94L8.5 2.5l-.94 2.06-2.06.94zm10 10l.94 2.06.94-2.06 2.06-.94-2.06-.94-.94-2.06-.94 2.06-2.06.94z\"/><path d=\"M17.41 7.96l-1.37-1.37c-.4-.4-.92-.59-1.43-.59-.52 0-1.04.2-1.43.59L10.3 9.45l-7.72 7.72c-.78.78-.78 2.05 0 2.83L4 21.41c.39.39.9.59 1.41.59.51 0 1.02-.2 1.41-.59l7.78-7.78 2.81-2.81c.8-.78.8-2.07 0-2.86zM5.41 20L4 18.59l7.72-7.72 1.47 1.35L5.41 20z\"/>\n",
              "  </svg>\n",
              "      </button>\n",
              "      \n",
              "  <style>\n",
              "    .colab-df-container {\n",
              "      display:flex;\n",
              "      flex-wrap:wrap;\n",
              "      gap: 12px;\n",
              "    }\n",
              "\n",
              "    .colab-df-convert {\n",
              "      background-color: #E8F0FE;\n",
              "      border: none;\n",
              "      border-radius: 50%;\n",
              "      cursor: pointer;\n",
              "      display: none;\n",
              "      fill: #1967D2;\n",
              "      height: 32px;\n",
              "      padding: 0 0 0 0;\n",
              "      width: 32px;\n",
              "    }\n",
              "\n",
              "    .colab-df-convert:hover {\n",
              "      background-color: #E2EBFA;\n",
              "      box-shadow: 0px 1px 2px rgba(60, 64, 67, 0.3), 0px 1px 3px 1px rgba(60, 64, 67, 0.15);\n",
              "      fill: #174EA6;\n",
              "    }\n",
              "\n",
              "    [theme=dark] .colab-df-convert {\n",
              "      background-color: #3B4455;\n",
              "      fill: #D2E3FC;\n",
              "    }\n",
              "\n",
              "    [theme=dark] .colab-df-convert:hover {\n",
              "      background-color: #434B5C;\n",
              "      box-shadow: 0px 1px 3px 1px rgba(0, 0, 0, 0.15);\n",
              "      filter: drop-shadow(0px 1px 2px rgba(0, 0, 0, 0.3));\n",
              "      fill: #FFFFFF;\n",
              "    }\n",
              "  </style>\n",
              "\n",
              "      <script>\n",
              "        const buttonEl =\n",
              "          document.querySelector('#df-c352f4ef-514e-4601-896f-6b1d98b0e913 button.colab-df-convert');\n",
              "        buttonEl.style.display =\n",
              "          google.colab.kernel.accessAllowed ? 'block' : 'none';\n",
              "\n",
              "        async function convertToInteractive(key) {\n",
              "          const element = document.querySelector('#df-c352f4ef-514e-4601-896f-6b1d98b0e913');\n",
              "          const dataTable =\n",
              "            await google.colab.kernel.invokeFunction('convertToInteractive',\n",
              "                                                     [key], {});\n",
              "          if (!dataTable) return;\n",
              "\n",
              "          const docLinkHtml = 'Like what you see? Visit the ' +\n",
              "            '<a target=\"_blank\" href=https://colab.research.google.com/notebooks/data_table.ipynb>data table notebook</a>'\n",
              "            + ' to learn more about interactive tables.';\n",
              "          element.innerHTML = '';\n",
              "          dataTable['output_type'] = 'display_data';\n",
              "          await google.colab.output.renderOutput(dataTable, element);\n",
              "          const docLink = document.createElement('div');\n",
              "          docLink.innerHTML = docLinkHtml;\n",
              "          element.appendChild(docLink);\n",
              "        }\n",
              "      </script>\n",
              "    </div>\n",
              "  </div>\n",
              "  "
            ]
          },
          "metadata": {},
          "execution_count": 18
        }
      ]
    },
    {
      "cell_type": "markdown",
      "source": [],
      "metadata": {
        "id": "y5cSL2Pkx37E"
      }
    },
    {
      "cell_type": "markdown",
      "source": [
        "## **4) TF-IDF Feature Weights**\n",
        "\n",
        "Clearly none of the models achieved great performance in classifying the topics/categories of the news articles; but remember, BoW models produce very sparse representations of 0s and 1s best on term frequencies within and amongst documents. We can try to construct more representative vectors by weighting words by their term frequency-inverse document frequency. Let's implement it and then retrain our models."
      ],
      "metadata": {
        "id": "Vb66pAZXx4eM"
      }
    },
    {
      "cell_type": "code",
      "source": [
        "from sklearn.feature_extraction.text import TfidfVectorizer\n",
        "\n",
        "tv = TfidfVectorizer(use_idf=True, min_df=0.0, max_df=1.0)                                    # set parameters of Tfidf Vectorizer\n",
        "tv_train_features = tv.fit_transform(train_corpus)                                            # fit to training corpus to produce tfidf weights"
      ],
      "metadata": {
        "id": "Zd2CrNLQyw3T"
      },
      "execution_count": null,
      "outputs": []
    },
    {
      "cell_type": "code",
      "source": [
        "tv_test_features = tv.transform(test_corpus)                                                  # transform test articles into features"
      ],
      "metadata": {
        "id": "fKK5vDYazQU1"
      },
      "execution_count": null,
      "outputs": []
    },
    {
      "cell_type": "markdown",
      "source": [
        "**Mutlinomial Naive Bayes**"
      ],
      "metadata": {
        "id": "UpUgzrUqzFs4"
      }
    },
    {
      "cell_type": "code",
      "source": [
        "mnb = MultinomialNB(alpha=1)                                                                # set model parameters\n",
        "mnb.fit(tv_train_features, train_label_names)                                               # fit model to training data features & labels (x,y)\n",
        "\n",
        "mnb_tfidf_cv_scores = cross_val_score(mnb, tv_train_features, train_label_names, cv=5)      # run 5-fold cross-validation\n",
        "mnb_tfidf_cv_mean_score = np.mean(mnb_tfidf_cv_scores)                                      # compute average cross-validated accuracy\n",
        "\n",
        "print('CV Accuracy (5-fold):', mnb_tfidf_cv_scores)                                         # print 5-fold accuracy\n",
        "print('Mean CV Accuracy:', mnb_tfidf_cv_mean_score)                                         # print average accuracy\n",
        "\n",
        "mnb_tfidf_test_score = mnb.score(tv_test_features, test_label_names)                        # calculate test set accuracy\n",
        "print('Test Accuracy:', mnb_tfidf_test_score) "
      ],
      "metadata": {
        "colab": {
          "base_uri": "https://localhost:8080/"
        },
        "id": "c0KE2-aUzJlb",
        "outputId": "4f61a51f-c450-4add-db04-865535f1d64d"
      },
      "execution_count": null,
      "outputs": [
        {
          "output_type": "stream",
          "name": "stdout",
          "text": [
            "CV Accuracy (5-fold): [0.72456069 0.71148345 0.72496935 0.72496935 0.71136549]\n",
            "Mean CV Accuracy: 0.7194696661622138\n",
            "Test Accuracy: 0.7237431557989049\n"
          ]
        }
      ]
    },
    {
      "cell_type": "markdown",
      "source": [
        "**Logistic Regression**"
      ],
      "metadata": {
        "id": "jT5XfXMz0dwh"
      }
    },
    {
      "cell_type": "code",
      "source": [
        "lr = LogisticRegression(penalty='l2', max_iter=100, C=1, random_state=42, n_jobs=-1)                          # set n_jobs to -1 to run all CPUs in parallel\n",
        "lr.fit(tv_train_features, train_label_names)\n",
        "\n",
        "lr_tfidf_cv_scores = cross_val_score(lr, tv_train_features, train_label_names, cv=5, n_jobs=-1)\n",
        "lr_tfidf_cv_mean_score = np.mean(lr_tfidf_cv_scores)\n",
        "\n",
        "print('CV Accuracy (5-fold):', lr_tfidf_cv_scores)\n",
        "print('Mean CV Accuracy:', lr_tfidf_cv_mean_score)\n",
        "\n",
        "lr_tfidf_test_score = lr.score(tv_test_features, test_label_names)\n",
        "print('Test Accuracy:', lr_tfidf_test_score)"
      ],
      "metadata": {
        "colab": {
          "base_uri": "https://localhost:8080/"
        },
        "id": "VwBCTesM0igW",
        "outputId": "dd15c5fa-0485-420e-b179-8bf77ccde4ce"
      },
      "execution_count": null,
      "outputs": [
        {
          "output_type": "stream",
          "name": "stdout",
          "text": [
            "CV Accuracy (5-fold): [0.75112383 0.74008991 0.74826318 0.74744585 0.73916599]\n",
            "Mean CV Accuracy: 0.7452177495697001\n",
            "Test Accuracy: 0.7469719595155135\n"
          ]
        }
      ]
    },
    {
      "cell_type": "markdown",
      "source": [
        "**Support Vector Machines**"
      ],
      "metadata": {
        "id": "raTs8mT90pjf"
      }
    },
    {
      "cell_type": "code",
      "source": [
        "svm = LinearSVC(penalty='l2', C=1, random_state=42)\n",
        "svm.fit(tv_train_features, train_label_names)\n",
        "\n",
        "svm_tfidf_cv_scores = cross_val_score(svm, tv_train_features, train_label_names, cv=5)\n",
        "svm_tfidf_cv_mean_score = np.mean(svm_tfidf_cv_scores)\n",
        "\n",
        "print('CV Accuracy (5-fold):', svm_tfidf_cv_scores)\n",
        "print('Mean CV Accuracy:', svm_tfidf_cv_mean_score)\n",
        "\n",
        "svm_tfidf_test_score = svm.score(tv_test_features, test_label_names)\n",
        "print('Test Accuracy:', svm_tfidf_test_score)"
      ],
      "metadata": {
        "colab": {
          "base_uri": "https://localhost:8080/"
        },
        "id": "75GkZjSj0slo",
        "outputId": "5edd5c10-3604-4a96-bae7-b2e061c6d997"
      },
      "execution_count": null,
      "outputs": [
        {
          "output_type": "stream",
          "name": "stdout",
          "text": [
            "CV Accuracy (5-fold): [0.76910503 0.74948917 0.76011443 0.76665304 0.75143091]\n",
            "Mean CV Accuracy: 0.759358514990405\n",
            "Test Accuracy: 0.7638958022233283\n"
          ]
        }
      ]
    },
    {
      "cell_type": "markdown",
      "source": [
        "**Random Forest Classifier**"
      ],
      "metadata": {
        "id": "DI1QEspr295P"
      }
    },
    {
      "cell_type": "code",
      "source": [
        "rfc = RandomForestClassifier(n_estimators=10, random_state=42)\n",
        "rfc.fit(tv_train_features, train_label_names)\n",
        "\n",
        "rfc_tfidf_cv_scores = cross_val_score(rfc, tv_train_features, train_label_names, cv=5)\n",
        "rfc_tfidf_cv_mean_score = np.mean(rfc_tfidf_cv_scores)\n",
        "\n",
        "print('CV Accuracy (5-fold):', rfc_tfidf_cv_scores)\n",
        "print('Mean CV Accuracy:', rfc_tfidf_cv_mean_score)\n",
        "\n",
        "rfc_tfidf_test_score = rfc.score(tv_test_features, test_label_names)\n",
        "print('Test Accuracy:', rfc_tfidf_test_score)"
      ],
      "metadata": {
        "colab": {
          "base_uri": "https://localhost:8080/"
        },
        "id": "IAxcpRF63mqH",
        "outputId": "edb109ba-ac32-43c3-8bf7-244e3329e367"
      },
      "execution_count": null,
      "outputs": [
        {
          "output_type": "stream",
          "name": "stdout",
          "text": [
            "CV Accuracy (5-fold): [0.5230895  0.53984471 0.53902738 0.545566   0.52044154]\n",
            "Mean CV Accuracy: 0.5335938244002619\n",
            "Test Accuracy: 0.536917205906753\n"
          ]
        }
      ]
    },
    {
      "cell_type": "markdown",
      "source": [
        "**Gradient Boosting Classifier** -- run outside of class because this guy is real slow to train (took 10 min)"
      ],
      "metadata": {
        "id": "XQ66bs3F31EU"
      }
    },
    {
      "cell_type": "code",
      "source": [
        "gbc = GradientBoostingClassifier(n_estimators=10, random_state=42)\n",
        "gbc.fit(tv_train_features, train_label_names)\n",
        "\n",
        "gbc_tfidf_cv_scores = cross_val_score(gbc, tv_train_features, train_label_names, cv=5)\n",
        "gbc_tfidf_cv_mean_score = np.mean(gbc_tfidf_cv_scores)\n",
        "\n",
        "print('CV Accuracy (5-fold):', gbc_tfidf_cv_scores)\n",
        "print('Mean CV Accuracy:', gbc_tfidf_cv_mean_score)\n",
        "\n",
        "gbc_tfidf_test_score = gbc.score(tv_test_features, test_label_names)\n",
        "print('Test Accuracy:', gbc_tfidf_test_score)"
      ],
      "metadata": {
        "colab": {
          "base_uri": "https://localhost:8080/"
        },
        "id": "Q5zP0b4v3x4l",
        "outputId": "e29f22bf-675e-4958-ef41-a8b697517472"
      },
      "execution_count": null,
      "outputs": [
        {
          "output_type": "stream",
          "name": "stdout",
          "text": [
            "CV Accuracy (5-fold): [0.56272987 0.53248876 0.55864324 0.56967716 0.54292723]\n",
            "Mean CV Accuracy: 0.5532932511016042\n",
            "Test Accuracy: 0.5437199269951883\n"
          ]
        }
      ]
    },
    {
      "cell_type": "markdown",
      "source": [
        "**Overall, did you see an improvement in classifier performance using the TF-IDF feature vectors over the basic bag of words feature vectors?**\n",
        "\n",
        "Let's display our model results in another dataframe, but we'll add a bit more detail this time and display the CV and Test scores for both the Bag of Words term frequencies (TF) and TF-IDF."
      ],
      "metadata": {
        "id": "lW_pWkRB33dB"
      }
    },
    {
      "cell_type": "markdown",
      "source": [],
      "metadata": {
        "id": "1P_byrfX6Fum"
      }
    },
    {
      "cell_type": "code",
      "source": [
        "pd.DataFrame([['Naive Bayes', mnb_bow_cv_mean_score, mnb_bow_test_score, \n",
        "               mnb_tfidf_cv_mean_score, mnb_tfidf_test_score],\n",
        "              ['Logistic Regression', lr_bow_cv_mean_score, lr_bow_test_score, \n",
        "               lr_tfidf_cv_mean_score, lr_tfidf_test_score],\n",
        "              ['Linear SVM', svm_bow_cv_mean_score, svm_bow_test_score, \n",
        "               svm_tfidf_cv_mean_score, svm_tfidf_test_score],\n",
        "              ['Random Forest', rfc_bow_cv_mean_score, rfc_bow_test_score, \n",
        "               rfc_tfidf_cv_mean_score, rfc_tfidf_test_score],\n",
        "              ['Gradient Boosted Machines', gbc_bow_cv_mean_score, gbc_bow_test_score, \n",
        "               gbc_tfidf_cv_mean_score, gbc_tfidf_test_score]],\n",
        "             columns=['Model', 'CV Score (TF)', 'Test Score (TF)', 'CV Score (TF-IDF)', 'Test Score (TF-IDF)'],\n",
        "             ).T"
      ],
      "metadata": {
        "colab": {
          "base_uri": "https://localhost:8080/",
          "height": 206
        },
        "id": "c7_UhsBX4VSZ",
        "outputId": "49b2d46d-a87a-4180-fdfc-11a30fa9c33c"
      },
      "execution_count": null,
      "outputs": [
        {
          "output_type": "execute_result",
          "data": {
            "text/plain": [
              "                               0                    1           2  \\\n",
              "Model                Naive Bayes  Logistic Regression  Linear SVM   \n",
              "CV Score (TF)           0.675494             0.681542    0.649828   \n",
              "Test Score (TF)         0.694375             0.689895    0.653725   \n",
              "CV Score (TF-IDF)        0.71947             0.745218    0.759359   \n",
              "Test Score (TF-IDF)     0.723743             0.746972    0.763896   \n",
              "\n",
              "                                 3                          4  \n",
              "Model                Random Forest  Gradient Boosted Machines  \n",
              "CV Score (TF)             0.521332                   0.552476  \n",
              "Test Score (TF)           0.531442                   0.549195  \n",
              "CV Score (TF-IDF)         0.533594                   0.553293  \n",
              "Test Score (TF-IDF)       0.536917                    0.54372  "
            ],
            "text/html": [
              "\n",
              "  <div id=\"df-4f8c7acd-71ea-462d-a1e5-3a1a06bf87d9\">\n",
              "    <div class=\"colab-df-container\">\n",
              "      <div>\n",
              "<style scoped>\n",
              "    .dataframe tbody tr th:only-of-type {\n",
              "        vertical-align: middle;\n",
              "    }\n",
              "\n",
              "    .dataframe tbody tr th {\n",
              "        vertical-align: top;\n",
              "    }\n",
              "\n",
              "    .dataframe thead th {\n",
              "        text-align: right;\n",
              "    }\n",
              "</style>\n",
              "<table border=\"1\" class=\"dataframe\">\n",
              "  <thead>\n",
              "    <tr style=\"text-align: right;\">\n",
              "      <th></th>\n",
              "      <th>0</th>\n",
              "      <th>1</th>\n",
              "      <th>2</th>\n",
              "      <th>3</th>\n",
              "      <th>4</th>\n",
              "    </tr>\n",
              "  </thead>\n",
              "  <tbody>\n",
              "    <tr>\n",
              "      <th>Model</th>\n",
              "      <td>Naive Bayes</td>\n",
              "      <td>Logistic Regression</td>\n",
              "      <td>Linear SVM</td>\n",
              "      <td>Random Forest</td>\n",
              "      <td>Gradient Boosted Machines</td>\n",
              "    </tr>\n",
              "    <tr>\n",
              "      <th>CV Score (TF)</th>\n",
              "      <td>0.675494</td>\n",
              "      <td>0.681542</td>\n",
              "      <td>0.649828</td>\n",
              "      <td>0.521332</td>\n",
              "      <td>0.552476</td>\n",
              "    </tr>\n",
              "    <tr>\n",
              "      <th>Test Score (TF)</th>\n",
              "      <td>0.694375</td>\n",
              "      <td>0.689895</td>\n",
              "      <td>0.653725</td>\n",
              "      <td>0.531442</td>\n",
              "      <td>0.549195</td>\n",
              "    </tr>\n",
              "    <tr>\n",
              "      <th>CV Score (TF-IDF)</th>\n",
              "      <td>0.71947</td>\n",
              "      <td>0.745218</td>\n",
              "      <td>0.759359</td>\n",
              "      <td>0.533594</td>\n",
              "      <td>0.553293</td>\n",
              "    </tr>\n",
              "    <tr>\n",
              "      <th>Test Score (TF-IDF)</th>\n",
              "      <td>0.723743</td>\n",
              "      <td>0.746972</td>\n",
              "      <td>0.763896</td>\n",
              "      <td>0.536917</td>\n",
              "      <td>0.54372</td>\n",
              "    </tr>\n",
              "  </tbody>\n",
              "</table>\n",
              "</div>\n",
              "      <button class=\"colab-df-convert\" onclick=\"convertToInteractive('df-4f8c7acd-71ea-462d-a1e5-3a1a06bf87d9')\"\n",
              "              title=\"Convert this dataframe to an interactive table.\"\n",
              "              style=\"display:none;\">\n",
              "        \n",
              "  <svg xmlns=\"http://www.w3.org/2000/svg\" height=\"24px\"viewBox=\"0 0 24 24\"\n",
              "       width=\"24px\">\n",
              "    <path d=\"M0 0h24v24H0V0z\" fill=\"none\"/>\n",
              "    <path d=\"M18.56 5.44l.94 2.06.94-2.06 2.06-.94-2.06-.94-.94-2.06-.94 2.06-2.06.94zm-11 1L8.5 8.5l.94-2.06 2.06-.94-2.06-.94L8.5 2.5l-.94 2.06-2.06.94zm10 10l.94 2.06.94-2.06 2.06-.94-2.06-.94-.94-2.06-.94 2.06-2.06.94z\"/><path d=\"M17.41 7.96l-1.37-1.37c-.4-.4-.92-.59-1.43-.59-.52 0-1.04.2-1.43.59L10.3 9.45l-7.72 7.72c-.78.78-.78 2.05 0 2.83L4 21.41c.39.39.9.59 1.41.59.51 0 1.02-.2 1.41-.59l7.78-7.78 2.81-2.81c.8-.78.8-2.07 0-2.86zM5.41 20L4 18.59l7.72-7.72 1.47 1.35L5.41 20z\"/>\n",
              "  </svg>\n",
              "      </button>\n",
              "      \n",
              "  <style>\n",
              "    .colab-df-container {\n",
              "      display:flex;\n",
              "      flex-wrap:wrap;\n",
              "      gap: 12px;\n",
              "    }\n",
              "\n",
              "    .colab-df-convert {\n",
              "      background-color: #E8F0FE;\n",
              "      border: none;\n",
              "      border-radius: 50%;\n",
              "      cursor: pointer;\n",
              "      display: none;\n",
              "      fill: #1967D2;\n",
              "      height: 32px;\n",
              "      padding: 0 0 0 0;\n",
              "      width: 32px;\n",
              "    }\n",
              "\n",
              "    .colab-df-convert:hover {\n",
              "      background-color: #E2EBFA;\n",
              "      box-shadow: 0px 1px 2px rgba(60, 64, 67, 0.3), 0px 1px 3px 1px rgba(60, 64, 67, 0.15);\n",
              "      fill: #174EA6;\n",
              "    }\n",
              "\n",
              "    [theme=dark] .colab-df-convert {\n",
              "      background-color: #3B4455;\n",
              "      fill: #D2E3FC;\n",
              "    }\n",
              "\n",
              "    [theme=dark] .colab-df-convert:hover {\n",
              "      background-color: #434B5C;\n",
              "      box-shadow: 0px 1px 3px 1px rgba(0, 0, 0, 0.15);\n",
              "      filter: drop-shadow(0px 1px 2px rgba(0, 0, 0, 0.3));\n",
              "      fill: #FFFFFF;\n",
              "    }\n",
              "  </style>\n",
              "\n",
              "      <script>\n",
              "        const buttonEl =\n",
              "          document.querySelector('#df-4f8c7acd-71ea-462d-a1e5-3a1a06bf87d9 button.colab-df-convert');\n",
              "        buttonEl.style.display =\n",
              "          google.colab.kernel.accessAllowed ? 'block' : 'none';\n",
              "\n",
              "        async function convertToInteractive(key) {\n",
              "          const element = document.querySelector('#df-4f8c7acd-71ea-462d-a1e5-3a1a06bf87d9');\n",
              "          const dataTable =\n",
              "            await google.colab.kernel.invokeFunction('convertToInteractive',\n",
              "                                                     [key], {});\n",
              "          if (!dataTable) return;\n",
              "\n",
              "          const docLinkHtml = 'Like what you see? Visit the ' +\n",
              "            '<a target=\"_blank\" href=https://colab.research.google.com/notebooks/data_table.ipynb>data table notebook</a>'\n",
              "            + ' to learn more about interactive tables.';\n",
              "          element.innerHTML = '';\n",
              "          dataTable['output_type'] = 'display_data';\n",
              "          await google.colab.output.renderOutput(dataTable, element);\n",
              "          const docLink = document.createElement('div');\n",
              "          docLink.innerHTML = docLinkHtml;\n",
              "          element.appendChild(docLink);\n",
              "        }\n",
              "      </script>\n",
              "    </div>\n",
              "  </div>\n",
              "  "
            ]
          },
          "metadata": {},
          "execution_count": 29
        }
      ]
    },
    {
      "cell_type": "markdown",
      "source": [
        "**Which model and method of feature engineering produced the highest test set and CV accuracies?**"
      ],
      "metadata": {
        "id": "VcQq0USw6HMt"
      }
    },
    {
      "cell_type": "markdown",
      "source": [
        "Linear SVM"
      ],
      "metadata": {
        "id": "LZuUoSYJ6OyT"
      }
    },
    {
      "cell_type": "markdown",
      "source": [
        "## **5) Word Embeddings with GloVe** \n",
        "\n",
        "We've tried two more traditional approaches for vectorizing our corpus; now let's try a more modern method and utilize some pretrained GloVe embeddings to represent our documents in vector space, to see if we can further improve document classification accuracy..."
      ],
      "metadata": {
        "id": "FWreY7678OYo"
      }
    },
    {
      "cell_type": "code",
      "source": [
        "!pip install spacy\n",
        "\n",
        "try: \n",
        "  spacy.load('en_core_web_lg')\n",
        "except:\n",
        "  !python -m spacy download en_core_web_lg   \n",
        "\n",
        "import spacy\n",
        "nlp = spacy.load('en_core_web_lg')                                                                      # get spacy installed, imported and load glove embeddings model"
      ],
      "metadata": {
        "id": "8Rss0G0C997z"
      },
      "execution_count": null,
      "outputs": []
    },
    {
      "cell_type": "markdown",
      "source": [
        "*Took about 4 minutes to produce word embeddings for training and test set*"
      ],
      "metadata": {
        "id": "FST4elhhAdRJ"
      }
    },
    {
      "cell_type": "code",
      "source": [
        "train_nlp = [nlp(item) for item in train_corpus]                                                        # fit glove embeddings model to training set\n",
        "train_glove_features = np.array([item.vector for item in train_nlp])                                    # assign training features to array\n",
        "\n",
        "test_nlp = [nlp(item) for item in test_corpus]                                                          # fit glove embeddings model to test set\n",
        "test_glove_features = np.array([item.vector for item in test_nlp])                                      # assign test geatures to array"
      ],
      "metadata": {
        "id": "8kA6O8Py9Omf"
      },
      "execution_count": null,
      "outputs": []
    },
    {
      "cell_type": "markdown",
      "source": [
        "**Now let's retrain the Linear SVM (best performing) with the GloVe Embeddings to see if the accuracy improves:**"
      ],
      "metadata": {
        "id": "86T3yFv6-qrH"
      }
    },
    {
      "cell_type": "code",
      "source": [
        "svm = LinearSVC(penalty='l2', C=1, random_state=42)\n",
        "svm.fit(train_glove_features, train_label_names)\n",
        "\n",
        "svm_glove_cv_scores = cross_val_score(svm, train_glove_features, train_label_names, cv=5)\n",
        "svm_glove_cv_mean_score = np.mean(svm_glove_cv_scores)\n",
        "\n",
        "print('CV Accuracy (5-fold):', svm_glove_cv_scores)\n",
        "print('Mean CV Accuracy:', svm_glove_cv_mean_score)\n",
        "\n",
        "svm_glove_test_score = svm.score(test_glove_features, test_label_names)\n",
        "print('Test Accuracy:', svm_glove_test_score)"
      ],
      "metadata": {
        "colab": {
          "base_uri": "https://localhost:8080/"
        },
        "id": "1eTr7k0b-ye6",
        "outputId": "91865e86-ecce-48d1-dd7e-9153b85ae2c2"
      },
      "execution_count": null,
      "outputs": [
        {
          "output_type": "stream",
          "name": "stdout",
          "text": [
            "CV Accuracy (5-fold): [0.58684103 0.56763384 0.6040049  0.6040049  0.56173344]\n",
            "Mean CV Accuracy: 0.5848436234934495\n",
            "Test Accuracy: 0.5591504894640783\n"
          ]
        }
      ]
    },
    {
      "cell_type": "markdown",
      "source": [
        "**Did accuracy improve using word embeddings? Yes or No? Is this surprising?**"
      ],
      "metadata": {
        "id": "n3xNwt-hCEAR"
      }
    },
    {
      "cell_type": "markdown",
      "source": [
        "Accuracy actually decreased using word embeddings; this is perhaps initally surprising but sometimes traditional methods will outperform more modern methods. Increasing complexity of the word/document representations is not a guarantee better results every time -- so it's good to keep in mind that we don't always have to hit every problem with our biggest hammer."
      ],
      "metadata": {
        "id": "fEGbQAMjCPjb"
      }
    },
    {
      "cell_type": "markdown",
      "source": [],
      "metadata": {
        "id": "GaBOMr8YCu74"
      }
    },
    {
      "cell_type": "markdown",
      "source": [
        "## **6) Model Tuning**\n",
        "\n",
        "Let's take our best performing model with TF-IDF features and perform some tuning. We can do this automatically using cross-validation grid searching to compare different parameters impact on cross-validated accuracy."
      ],
      "metadata": {
        "id": "XaGfu5viDJ0k"
      }
    },
    {
      "cell_type": "code",
      "source": [
        "from sklearn.pipeline import Pipeline\n",
        "from sklearn.model_selection import GridSearchCV\n",
        "\n",
        "svm_pipeline = Pipeline([('tfidf', TfidfVectorizer()),\n",
        "                        ('svm', LinearSVC(random_state=42))                                                 # set pipeline to use tf-idf features with SVM model\n",
        "                       ])\n",
        "\n",
        "param_grid = {'tfidf__ngram_range': [(1, 1), (1, 2)],                                                       # set parameter value range for grid to search\n",
        "              'svm__C': [0.01, 0.1, 1, 5]\n",
        "}\n",
        "\n",
        "gs_svm = GridSearchCV(svm_pipeline, param_grid, cv=5, verbose=2)                                            # set parameters of cross-validated grid search\n",
        "gs_svm = gs_svm.fit(train_corpus, train_label_names)                                                        # fit on training data"
      ],
      "metadata": {
        "colab": {
          "base_uri": "https://localhost:8080/"
        },
        "id": "SYsL_WdODb11",
        "outputId": "05107c19-54cd-4311-afce-31dec700acd8"
      },
      "execution_count": null,
      "outputs": [
        {
          "output_type": "stream",
          "name": "stdout",
          "text": [
            "Fitting 5 folds for each of 8 candidates, totalling 40 fits\n",
            "[CV] END .............svm__C=0.01, tfidf__ngram_range=(1, 1); total time=   1.5s\n",
            "[CV] END .............svm__C=0.01, tfidf__ngram_range=(1, 1); total time=   1.4s\n",
            "[CV] END .............svm__C=0.01, tfidf__ngram_range=(1, 1); total time=   1.5s\n",
            "[CV] END .............svm__C=0.01, tfidf__ngram_range=(1, 1); total time=   1.4s\n",
            "[CV] END .............svm__C=0.01, tfidf__ngram_range=(1, 1); total time=   1.3s\n",
            "[CV] END .............svm__C=0.01, tfidf__ngram_range=(1, 2); total time=   6.0s\n",
            "[CV] END .............svm__C=0.01, tfidf__ngram_range=(1, 2); total time=   6.7s\n",
            "[CV] END .............svm__C=0.01, tfidf__ngram_range=(1, 2); total time=   5.6s\n",
            "[CV] END .............svm__C=0.01, tfidf__ngram_range=(1, 2); total time=   5.5s\n",
            "[CV] END .............svm__C=0.01, tfidf__ngram_range=(1, 2); total time=   6.1s\n",
            "[CV] END ..............svm__C=0.1, tfidf__ngram_range=(1, 1); total time=   1.3s\n",
            "[CV] END ..............svm__C=0.1, tfidf__ngram_range=(1, 1); total time=   1.3s\n",
            "[CV] END ..............svm__C=0.1, tfidf__ngram_range=(1, 1); total time=   1.4s\n",
            "[CV] END ..............svm__C=0.1, tfidf__ngram_range=(1, 1); total time=   1.4s\n",
            "[CV] END ..............svm__C=0.1, tfidf__ngram_range=(1, 1); total time=   1.3s\n",
            "[CV] END ..............svm__C=0.1, tfidf__ngram_range=(1, 2); total time=   5.9s\n",
            "[CV] END ..............svm__C=0.1, tfidf__ngram_range=(1, 2); total time=   6.9s\n",
            "[CV] END ..............svm__C=0.1, tfidf__ngram_range=(1, 2); total time=   5.9s\n",
            "[CV] END ..............svm__C=0.1, tfidf__ngram_range=(1, 2); total time=   5.9s\n",
            "[CV] END ..............svm__C=0.1, tfidf__ngram_range=(1, 2); total time=   6.0s\n",
            "[CV] END ................svm__C=1, tfidf__ngram_range=(1, 1); total time=   1.5s\n",
            "[CV] END ................svm__C=1, tfidf__ngram_range=(1, 1); total time=   1.6s\n",
            "[CV] END ................svm__C=1, tfidf__ngram_range=(1, 1); total time=   1.6s\n",
            "[CV] END ................svm__C=1, tfidf__ngram_range=(1, 1); total time=   1.6s\n",
            "[CV] END ................svm__C=1, tfidf__ngram_range=(1, 1); total time=   1.5s\n",
            "[CV] END ................svm__C=1, tfidf__ngram_range=(1, 2); total time=   6.8s\n",
            "[CV] END ................svm__C=1, tfidf__ngram_range=(1, 2); total time=   6.6s\n",
            "[CV] END ................svm__C=1, tfidf__ngram_range=(1, 2); total time=   6.9s\n",
            "[CV] END ................svm__C=1, tfidf__ngram_range=(1, 2); total time=   6.6s\n",
            "[CV] END ................svm__C=1, tfidf__ngram_range=(1, 2); total time=   6.5s\n",
            "[CV] END ................svm__C=5, tfidf__ngram_range=(1, 1); total time=   2.3s\n",
            "[CV] END ................svm__C=5, tfidf__ngram_range=(1, 1); total time=   2.3s\n",
            "[CV] END ................svm__C=5, tfidf__ngram_range=(1, 1); total time=   2.9s\n",
            "[CV] END ................svm__C=5, tfidf__ngram_range=(1, 1); total time=   2.4s\n",
            "[CV] END ................svm__C=5, tfidf__ngram_range=(1, 1); total time=   2.3s\n",
            "[CV] END ................svm__C=5, tfidf__ngram_range=(1, 2); total time=  10.5s\n",
            "[CV] END ................svm__C=5, tfidf__ngram_range=(1, 2); total time=   8.6s\n",
            "[CV] END ................svm__C=5, tfidf__ngram_range=(1, 2); total time=   8.9s\n",
            "[CV] END ................svm__C=5, tfidf__ngram_range=(1, 2); total time=  11.0s\n",
            "[CV] END ................svm__C=5, tfidf__ngram_range=(1, 2); total time=  10.5s\n"
          ]
        }
      ]
    },
    {
      "cell_type": "markdown",
      "source": [
        "**If we want to see the parameters of the best performing models**"
      ],
      "metadata": {
        "id": "jMcOxJbuEN7E"
      }
    },
    {
      "cell_type": "code",
      "source": [
        "gs_svm.best_estimator_.get_params()"
      ],
      "metadata": {
        "colab": {
          "base_uri": "https://localhost:8080/"
        },
        "id": "6vM-SGlHET4B",
        "outputId": "55a2450a-c3a3-458c-c5f7-e8117d51b687"
      },
      "execution_count": null,
      "outputs": [
        {
          "output_type": "execute_result",
          "data": {
            "text/plain": [
              "{'memory': None,\n",
              " 'steps': [('tfidf', TfidfVectorizer(ngram_range=(1, 2))),\n",
              "  ('svm', LinearSVC(C=5, random_state=42))],\n",
              " 'verbose': False,\n",
              " 'tfidf': TfidfVectorizer(ngram_range=(1, 2)),\n",
              " 'svm': LinearSVC(C=5, random_state=42),\n",
              " 'tfidf__analyzer': 'word',\n",
              " 'tfidf__binary': False,\n",
              " 'tfidf__decode_error': 'strict',\n",
              " 'tfidf__dtype': numpy.float64,\n",
              " 'tfidf__encoding': 'utf-8',\n",
              " 'tfidf__input': 'content',\n",
              " 'tfidf__lowercase': True,\n",
              " 'tfidf__max_df': 1.0,\n",
              " 'tfidf__max_features': None,\n",
              " 'tfidf__min_df': 1,\n",
              " 'tfidf__ngram_range': (1, 2),\n",
              " 'tfidf__norm': 'l2',\n",
              " 'tfidf__preprocessor': None,\n",
              " 'tfidf__smooth_idf': True,\n",
              " 'tfidf__stop_words': None,\n",
              " 'tfidf__strip_accents': None,\n",
              " 'tfidf__sublinear_tf': False,\n",
              " 'tfidf__token_pattern': '(?u)\\\\b\\\\w\\\\w+\\\\b',\n",
              " 'tfidf__tokenizer': None,\n",
              " 'tfidf__use_idf': True,\n",
              " 'tfidf__vocabulary': None,\n",
              " 'svm__C': 5,\n",
              " 'svm__class_weight': None,\n",
              " 'svm__dual': True,\n",
              " 'svm__fit_intercept': True,\n",
              " 'svm__intercept_scaling': 1,\n",
              " 'svm__loss': 'squared_hinge',\n",
              " 'svm__max_iter': 1000,\n",
              " 'svm__multi_class': 'ovr',\n",
              " 'svm__penalty': 'l2',\n",
              " 'svm__random_state': 42,\n",
              " 'svm__tol': 0.0001,\n",
              " 'svm__verbose': 0}"
            ]
          },
          "metadata": {},
          "execution_count": 36
        }
      ]
    },
    {
      "cell_type": "markdown",
      "source": [
        "**Let's check out that test set accuracy to see our best performing model's accuracy. How much of a lift did we get from grid searching?**"
      ],
      "metadata": {
        "id": "XYK7eUEdEUlf"
      }
    },
    {
      "cell_type": "code",
      "source": [
        "best_svm_test_score = gs_svm.score(test_corpus, test_label_names)\n",
        "print('Test Accuracy :', best_svm_test_score)"
      ],
      "metadata": {
        "colab": {
          "base_uri": "https://localhost:8080/"
        },
        "id": "ASaWkX0qEdTn",
        "outputId": "af2dfc1c-8e75-478f-889c-aa3061baa32b"
      },
      "execution_count": null,
      "outputs": [
        {
          "output_type": "stream",
          "name": "stdout",
          "text": [
            "Test Accuracy : 0.783142525302804\n"
          ]
        }
      ]
    },
    {
      "cell_type": "markdown",
      "source": [
        "About a 2% bump in accuracy which is pretty substantial!"
      ],
      "metadata": {
        "id": "wM3lsxA2EjL0"
      }
    },
    {
      "cell_type": "markdown",
      "source": [
        "## **7) Model Performance Evaluation**\n",
        "\n",
        "For our final step, let's examine some other metrics of classification performance: precision, recall, and f1-score. Remember, accuracy isn't the only metric that matters, and it doesn't tell the whole story. We can examine the precision, recall, and f-1 for each individual class to see which categories were most accurately predicted!"
      ],
      "metadata": {
        "id": "ca-DUAsdE3Ox"
      }
    },
    {
      "cell_type": "code",
      "source": [
        "from sklearn.model_selection import cross_validate\n",
        "from sklearn.model_selection import cross_val_predict\n",
        "from sklearn.metrics import classification_report, confusion_matrix\n",
        "import sklearn.metrics as metrics"
      ],
      "metadata": {
        "id": "9Qn1KNV8FbRP"
      },
      "execution_count": null,
      "outputs": []
    },
    {
      "cell_type": "code",
      "source": [
        "def get_metrics(true_labels, predicted_labels): \n",
        "    print('Accuracy:', np.round(\n",
        "                        metrics.accuracy_score(true_labels, \n",
        "                                               predicted_labels),\n",
        "                        4))\n",
        "    print('Precision:', np.round(\n",
        "                        metrics.precision_score(true_labels, \n",
        "                                               predicted_labels,\n",
        "                                               average='weighted'),\n",
        "                        4))\n",
        "    print('Recall:', np.round(\n",
        "                        metrics.recall_score(true_labels, \n",
        "                                               predicted_labels,\n",
        "                                               average='weighted'),\n",
        "                        4))\n",
        "    print('F1 Score:', np.round(\n",
        "                        metrics.f1_score(true_labels, \n",
        "                                               predicted_labels,\n",
        "                                               average='weighted'),\n",
        "                        4))\n",
        "\n",
        "def display_classification_report(true_labels, predicted_labels, classes=[1,0]):\n",
        "\n",
        "    report = metrics.classification_report(y_true=true_labels, \n",
        "                                           y_pred=predicted_labels, \n",
        "                                           labels=classes) \n",
        "    print(report)\n",
        "\n",
        "def display_confusion_matrix(true_labels, predicted_labels, classes=[1,0]):\n",
        "    \n",
        "    total_classes = len(classes)\n",
        "    level_labels = [total_classes*[0], list(range(total_classes))]\n",
        "\n",
        "    cm = metrics.confusion_matrix(y_true=true_labels, y_pred=predicted_labels, \n",
        "                                  labels=classes)\n",
        "    cm_frame = pd.DataFrame(data=cm, \n",
        "                            columns=pd.MultiIndex(levels=[['Predicted:'], classes], \n",
        "                                                  labels=level_labels), \n",
        "                            index=pd.MultiIndex(levels=[['Actual:'], classes], \n",
        "                                                labels=level_labels)) \n",
        "    print(cm_frame) "
      ],
      "metadata": {
        "id": "STF3Zvg-GCQj"
      },
      "execution_count": null,
      "outputs": []
    },
    {
      "cell_type": "code",
      "source": [
        "svm_predictions = gs_svm.predict(test_corpus)\n",
        "unique_classes = list(set(test_label_names))\n",
        "\n",
        "get_metrics(test_label_names, svm_predictions)"
      ],
      "metadata": {
        "colab": {
          "base_uri": "https://localhost:8080/"
        },
        "id": "pALIgZzfH8jl",
        "outputId": "2bec52a6-5a2e-4faa-adcb-d3dac60d9ddc"
      },
      "execution_count": null,
      "outputs": [
        {
          "output_type": "stream",
          "name": "stdout",
          "text": [
            "Accuracy: 0.7831\n",
            "Precision: 0.7812\n",
            "Recall: 0.7831\n",
            "F1 Score: 0.7811\n"
          ]
        }
      ]
    },
    {
      "cell_type": "code",
      "source": [
        "display_classification_report(test_label_names, svm_predictions, classes = unique_classes)"
      ],
      "metadata": {
        "colab": {
          "base_uri": "https://localhost:8080/"
        },
        "id": "RDOMlC6UJUZn",
        "outputId": "32164867-f78c-43b6-f41c-659b7a1b5271"
      },
      "execution_count": null,
      "outputs": [
        {
          "output_type": "stream",
          "name": "stdout",
          "text": [
            "                          precision    recall  f1-score   support\n",
            "\n",
            "            misc.forsale       0.76      0.79      0.78       314\n",
            "               rec.autos       0.74      0.81      0.78       306\n",
            "comp.sys.ibm.pc.hardware       0.71      0.71      0.71       325\n",
            "         rec.motorcycles       0.78      0.78      0.78       310\n",
            "           comp.graphics       0.77      0.73      0.75       336\n",
            "               sci.space       0.85      0.84      0.84       324\n",
            "   comp.sys.mac.hardware       0.75      0.79      0.77       289\n",
            "               sci.crypt       0.87      0.84      0.85       311\n",
            "      talk.politics.misc       0.73      0.70      0.72       252\n",
            "   talk.politics.mideast       0.87      0.83      0.85       318\n",
            " comp.os.ms-windows.misc       0.74      0.74      0.74       296\n",
            "      talk.religion.misc       0.58      0.40      0.47       188\n",
            "                 sci.med       0.83      0.84      0.84       326\n",
            "         sci.electronics       0.73      0.75      0.74       316\n",
            "        rec.sport.hockey       0.88      0.93      0.90       304\n",
            "          comp.windows.x       0.82      0.87      0.85       297\n",
            "      rec.sport.baseball       0.87      0.87      0.87       327\n",
            "  soc.religion.christian       0.76      0.85      0.80       329\n",
            "             alt.atheism       0.71      0.62      0.66       266\n",
            "      talk.politics.guns       0.75      0.76      0.76       293\n",
            "\n",
            "                accuracy                           0.78      6027\n",
            "               macro avg       0.78      0.77      0.77      6027\n",
            "            weighted avg       0.78      0.78      0.78      6027\n",
            "\n"
          ]
        }
      ]
    },
    {
      "cell_type": "markdown",
      "source": [
        "**Let's make the assumption that there's roughly equal cost to false positives or negatives for any given class; but we have uneven class distribution. What is the metric we should care most about then amongst accuracy, recall, precision, and f1-score?**"
      ],
      "metadata": {
        "id": "hpKAjswrJtaJ"
      }
    },
    {
      "cell_type": "markdown",
      "source": [
        "F-1 score"
      ],
      "metadata": {
        "id": "Bg8i4ccQJ8fK"
      }
    },
    {
      "cell_type": "markdown",
      "source": [
        "**With that in mind, which class did the model best predict, and which did it worst predict?**"
      ],
      "metadata": {
        "id": "FiMLajWQJ_Ol"
      }
    },
    {
      "cell_type": "markdown",
      "source": [
        "Best = Hockey\n",
        "\n",
        "\n",
        "Worst = Miscellanious Religion, followed by Atheism\n",
        "\n",
        "Perhaps the model is confusing these two labels/topics"
      ],
      "metadata": {
        "id": "UgVGyWlbKGlh"
      }
    },
    {
      "cell_type": "markdown",
      "source": [
        "**Let's produce a confusion matrix to examine where the model was making mistakes...**"
      ],
      "metadata": {
        "id": "p72Uf_yhKkqH"
      }
    },
    {
      "cell_type": "code",
      "source": [
        "label_data_map = {v:k for k, v in data_labels_map.items()}\n",
        "label_map_df = pd.DataFrame(list(label_data_map.items()), columns=['Label Name', 'Label Number'])\n",
        "label_map_df"
      ],
      "metadata": {
        "colab": {
          "base_uri": "https://localhost:8080/",
          "height": 676
        },
        "id": "42AyESJFKqlp",
        "outputId": "ecdad291-191d-4d14-8e41-470de45a958d"
      },
      "execution_count": null,
      "outputs": [
        {
          "output_type": "execute_result",
          "data": {
            "text/plain": [
              "                  Label Name  Label Number\n",
              "0                alt.atheism             0\n",
              "1              comp.graphics             1\n",
              "2    comp.os.ms-windows.misc             2\n",
              "3   comp.sys.ibm.pc.hardware             3\n",
              "4      comp.sys.mac.hardware             4\n",
              "5             comp.windows.x             5\n",
              "6               misc.forsale             6\n",
              "7                  rec.autos             7\n",
              "8            rec.motorcycles             8\n",
              "9         rec.sport.baseball             9\n",
              "10          rec.sport.hockey            10\n",
              "11                 sci.crypt            11\n",
              "12           sci.electronics            12\n",
              "13                   sci.med            13\n",
              "14                 sci.space            14\n",
              "15    soc.religion.christian            15\n",
              "16        talk.politics.guns            16\n",
              "17     talk.politics.mideast            17\n",
              "18        talk.politics.misc            18\n",
              "19        talk.religion.misc            19"
            ],
            "text/html": [
              "\n",
              "  <div id=\"df-03ef257c-d6e6-4e21-aea1-a96623b96855\">\n",
              "    <div class=\"colab-df-container\">\n",
              "      <div>\n",
              "<style scoped>\n",
              "    .dataframe tbody tr th:only-of-type {\n",
              "        vertical-align: middle;\n",
              "    }\n",
              "\n",
              "    .dataframe tbody tr th {\n",
              "        vertical-align: top;\n",
              "    }\n",
              "\n",
              "    .dataframe thead th {\n",
              "        text-align: right;\n",
              "    }\n",
              "</style>\n",
              "<table border=\"1\" class=\"dataframe\">\n",
              "  <thead>\n",
              "    <tr style=\"text-align: right;\">\n",
              "      <th></th>\n",
              "      <th>Label Name</th>\n",
              "      <th>Label Number</th>\n",
              "    </tr>\n",
              "  </thead>\n",
              "  <tbody>\n",
              "    <tr>\n",
              "      <th>0</th>\n",
              "      <td>alt.atheism</td>\n",
              "      <td>0</td>\n",
              "    </tr>\n",
              "    <tr>\n",
              "      <th>1</th>\n",
              "      <td>comp.graphics</td>\n",
              "      <td>1</td>\n",
              "    </tr>\n",
              "    <tr>\n",
              "      <th>2</th>\n",
              "      <td>comp.os.ms-windows.misc</td>\n",
              "      <td>2</td>\n",
              "    </tr>\n",
              "    <tr>\n",
              "      <th>3</th>\n",
              "      <td>comp.sys.ibm.pc.hardware</td>\n",
              "      <td>3</td>\n",
              "    </tr>\n",
              "    <tr>\n",
              "      <th>4</th>\n",
              "      <td>comp.sys.mac.hardware</td>\n",
              "      <td>4</td>\n",
              "    </tr>\n",
              "    <tr>\n",
              "      <th>5</th>\n",
              "      <td>comp.windows.x</td>\n",
              "      <td>5</td>\n",
              "    </tr>\n",
              "    <tr>\n",
              "      <th>6</th>\n",
              "      <td>misc.forsale</td>\n",
              "      <td>6</td>\n",
              "    </tr>\n",
              "    <tr>\n",
              "      <th>7</th>\n",
              "      <td>rec.autos</td>\n",
              "      <td>7</td>\n",
              "    </tr>\n",
              "    <tr>\n",
              "      <th>8</th>\n",
              "      <td>rec.motorcycles</td>\n",
              "      <td>8</td>\n",
              "    </tr>\n",
              "    <tr>\n",
              "      <th>9</th>\n",
              "      <td>rec.sport.baseball</td>\n",
              "      <td>9</td>\n",
              "    </tr>\n",
              "    <tr>\n",
              "      <th>10</th>\n",
              "      <td>rec.sport.hockey</td>\n",
              "      <td>10</td>\n",
              "    </tr>\n",
              "    <tr>\n",
              "      <th>11</th>\n",
              "      <td>sci.crypt</td>\n",
              "      <td>11</td>\n",
              "    </tr>\n",
              "    <tr>\n",
              "      <th>12</th>\n",
              "      <td>sci.electronics</td>\n",
              "      <td>12</td>\n",
              "    </tr>\n",
              "    <tr>\n",
              "      <th>13</th>\n",
              "      <td>sci.med</td>\n",
              "      <td>13</td>\n",
              "    </tr>\n",
              "    <tr>\n",
              "      <th>14</th>\n",
              "      <td>sci.space</td>\n",
              "      <td>14</td>\n",
              "    </tr>\n",
              "    <tr>\n",
              "      <th>15</th>\n",
              "      <td>soc.religion.christian</td>\n",
              "      <td>15</td>\n",
              "    </tr>\n",
              "    <tr>\n",
              "      <th>16</th>\n",
              "      <td>talk.politics.guns</td>\n",
              "      <td>16</td>\n",
              "    </tr>\n",
              "    <tr>\n",
              "      <th>17</th>\n",
              "      <td>talk.politics.mideast</td>\n",
              "      <td>17</td>\n",
              "    </tr>\n",
              "    <tr>\n",
              "      <th>18</th>\n",
              "      <td>talk.politics.misc</td>\n",
              "      <td>18</td>\n",
              "    </tr>\n",
              "    <tr>\n",
              "      <th>19</th>\n",
              "      <td>talk.religion.misc</td>\n",
              "      <td>19</td>\n",
              "    </tr>\n",
              "  </tbody>\n",
              "</table>\n",
              "</div>\n",
              "      <button class=\"colab-df-convert\" onclick=\"convertToInteractive('df-03ef257c-d6e6-4e21-aea1-a96623b96855')\"\n",
              "              title=\"Convert this dataframe to an interactive table.\"\n",
              "              style=\"display:none;\">\n",
              "        \n",
              "  <svg xmlns=\"http://www.w3.org/2000/svg\" height=\"24px\"viewBox=\"0 0 24 24\"\n",
              "       width=\"24px\">\n",
              "    <path d=\"M0 0h24v24H0V0z\" fill=\"none\"/>\n",
              "    <path d=\"M18.56 5.44l.94 2.06.94-2.06 2.06-.94-2.06-.94-.94-2.06-.94 2.06-2.06.94zm-11 1L8.5 8.5l.94-2.06 2.06-.94-2.06-.94L8.5 2.5l-.94 2.06-2.06.94zm10 10l.94 2.06.94-2.06 2.06-.94-2.06-.94-.94-2.06-.94 2.06-2.06.94z\"/><path d=\"M17.41 7.96l-1.37-1.37c-.4-.4-.92-.59-1.43-.59-.52 0-1.04.2-1.43.59L10.3 9.45l-7.72 7.72c-.78.78-.78 2.05 0 2.83L4 21.41c.39.39.9.59 1.41.59.51 0 1.02-.2 1.41-.59l7.78-7.78 2.81-2.81c.8-.78.8-2.07 0-2.86zM5.41 20L4 18.59l7.72-7.72 1.47 1.35L5.41 20z\"/>\n",
              "  </svg>\n",
              "      </button>\n",
              "      \n",
              "  <style>\n",
              "    .colab-df-container {\n",
              "      display:flex;\n",
              "      flex-wrap:wrap;\n",
              "      gap: 12px;\n",
              "    }\n",
              "\n",
              "    .colab-df-convert {\n",
              "      background-color: #E8F0FE;\n",
              "      border: none;\n",
              "      border-radius: 50%;\n",
              "      cursor: pointer;\n",
              "      display: none;\n",
              "      fill: #1967D2;\n",
              "      height: 32px;\n",
              "      padding: 0 0 0 0;\n",
              "      width: 32px;\n",
              "    }\n",
              "\n",
              "    .colab-df-convert:hover {\n",
              "      background-color: #E2EBFA;\n",
              "      box-shadow: 0px 1px 2px rgba(60, 64, 67, 0.3), 0px 1px 3px 1px rgba(60, 64, 67, 0.15);\n",
              "      fill: #174EA6;\n",
              "    }\n",
              "\n",
              "    [theme=dark] .colab-df-convert {\n",
              "      background-color: #3B4455;\n",
              "      fill: #D2E3FC;\n",
              "    }\n",
              "\n",
              "    [theme=dark] .colab-df-convert:hover {\n",
              "      background-color: #434B5C;\n",
              "      box-shadow: 0px 1px 3px 1px rgba(0, 0, 0, 0.15);\n",
              "      filter: drop-shadow(0px 1px 2px rgba(0, 0, 0, 0.3));\n",
              "      fill: #FFFFFF;\n",
              "    }\n",
              "  </style>\n",
              "\n",
              "      <script>\n",
              "        const buttonEl =\n",
              "          document.querySelector('#df-03ef257c-d6e6-4e21-aea1-a96623b96855 button.colab-df-convert');\n",
              "        buttonEl.style.display =\n",
              "          google.colab.kernel.accessAllowed ? 'block' : 'none';\n",
              "\n",
              "        async function convertToInteractive(key) {\n",
              "          const element = document.querySelector('#df-03ef257c-d6e6-4e21-aea1-a96623b96855');\n",
              "          const dataTable =\n",
              "            await google.colab.kernel.invokeFunction('convertToInteractive',\n",
              "                                                     [key], {});\n",
              "          if (!dataTable) return;\n",
              "\n",
              "          const docLinkHtml = 'Like what you see? Visit the ' +\n",
              "            '<a target=\"_blank\" href=https://colab.research.google.com/notebooks/data_table.ipynb>data table notebook</a>'\n",
              "            + ' to learn more about interactive tables.';\n",
              "          element.innerHTML = '';\n",
              "          dataTable['output_type'] = 'display_data';\n",
              "          await google.colab.output.renderOutput(dataTable, element);\n",
              "          const docLink = document.createElement('div');\n",
              "          docLink.innerHTML = docLinkHtml;\n",
              "          element.appendChild(docLink);\n",
              "        }\n",
              "      </script>\n",
              "    </div>\n",
              "  </div>\n",
              "  "
            ]
          },
          "metadata": {},
          "execution_count": 52
        }
      ]
    },
    {
      "cell_type": "code",
      "source": [
        "import seaborn as sns\n",
        "conf = confusion_matrix(test_label_names, svm_predictions)\n",
        "\n",
        "sns.heatmap(conf, annot=True, fmt='g')\n",
        "sns.set(rc={'figure.figsize':(20,20)})\n",
        "plt.xlabel('Predicted Class')\n",
        "plt.ylabel('Actual Class')\n",
        "plt.show()"
      ],
      "metadata": {
        "colab": {
          "base_uri": "https://localhost:8080/",
          "height": 611
        },
        "id": "Xy4AEcXOLuBG",
        "outputId": "45ef8077-8b9f-462f-c45e-cb4ae4f5527c"
      },
      "execution_count": null,
      "outputs": [
        {
          "output_type": "display_data",
          "data": {
            "text/plain": [
              "<Figure size 864x720 with 2 Axes>"
            ],
            "image/png": "[encoded data removed]"
          },
          "metadata": {}
        }
      ]
    },
    {
      "cell_type": "markdown",
      "source": [
        "**Which two categories were most commonly missclassified as one another? Does it make sense that these two categories could be mislabeled as one another, why or why not?**"
      ],
      "metadata": {
        "id": "9XElXkTeMvzJ"
      }
    },
    {
      "cell_type": "code",
      "source": [
        "label_map_df[label_map_df['Label Number'].isin([15, 19])]"
      ],
      "metadata": {
        "colab": {
          "base_uri": "https://localhost:8080/",
          "height": 112
        },
        "id": "IXrB0XGfNFIi",
        "outputId": "f76ba3ad-490b-4ee6-cf38-ed3ab6e092fe"
      },
      "execution_count": null,
      "outputs": [
        {
          "output_type": "execute_result",
          "data": {
            "text/plain": [
              "                Label Name  Label Number\n",
              "15  soc.religion.christian            15\n",
              "19      talk.religion.misc            19"
            ],
            "text/html": [
              "\n",
              "  <div id=\"df-a5147b03-726b-4829-8a60-18cd16436b76\">\n",
              "    <div class=\"colab-df-container\">\n",
              "      <div>\n",
              "<style scoped>\n",
              "    .dataframe tbody tr th:only-of-type {\n",
              "        vertical-align: middle;\n",
              "    }\n",
              "\n",
              "    .dataframe tbody tr th {\n",
              "        vertical-align: top;\n",
              "    }\n",
              "\n",
              "    .dataframe thead th {\n",
              "        text-align: right;\n",
              "    }\n",
              "</style>\n",
              "<table border=\"1\" class=\"dataframe\">\n",
              "  <thead>\n",
              "    <tr style=\"text-align: right;\">\n",
              "      <th></th>\n",
              "      <th>Label Name</th>\n",
              "      <th>Label Number</th>\n",
              "    </tr>\n",
              "  </thead>\n",
              "  <tbody>\n",
              "    <tr>\n",
              "      <th>15</th>\n",
              "      <td>soc.religion.christian</td>\n",
              "      <td>15</td>\n",
              "    </tr>\n",
              "    <tr>\n",
              "      <th>19</th>\n",
              "      <td>talk.religion.misc</td>\n",
              "      <td>19</td>\n",
              "    </tr>\n",
              "  </tbody>\n",
              "</table>\n",
              "</div>\n",
              "      <button class=\"colab-df-convert\" onclick=\"convertToInteractive('df-a5147b03-726b-4829-8a60-18cd16436b76')\"\n",
              "              title=\"Convert this dataframe to an interactive table.\"\n",
              "              style=\"display:none;\">\n",
              "        \n",
              "  <svg xmlns=\"http://www.w3.org/2000/svg\" height=\"24px\"viewBox=\"0 0 24 24\"\n",
              "       width=\"24px\">\n",
              "    <path d=\"M0 0h24v24H0V0z\" fill=\"none\"/>\n",
              "    <path d=\"M18.56 5.44l.94 2.06.94-2.06 2.06-.94-2.06-.94-.94-2.06-.94 2.06-2.06.94zm-11 1L8.5 8.5l.94-2.06 2.06-.94-2.06-.94L8.5 2.5l-.94 2.06-2.06.94zm10 10l.94 2.06.94-2.06 2.06-.94-2.06-.94-.94-2.06-.94 2.06-2.06.94z\"/><path d=\"M17.41 7.96l-1.37-1.37c-.4-.4-.92-.59-1.43-.59-.52 0-1.04.2-1.43.59L10.3 9.45l-7.72 7.72c-.78.78-.78 2.05 0 2.83L4 21.41c.39.39.9.59 1.41.59.51 0 1.02-.2 1.41-.59l7.78-7.78 2.81-2.81c.8-.78.8-2.07 0-2.86zM5.41 20L4 18.59l7.72-7.72 1.47 1.35L5.41 20z\"/>\n",
              "  </svg>\n",
              "      </button>\n",
              "      \n",
              "  <style>\n",
              "    .colab-df-container {\n",
              "      display:flex;\n",
              "      flex-wrap:wrap;\n",
              "      gap: 12px;\n",
              "    }\n",
              "\n",
              "    .colab-df-convert {\n",
              "      background-color: #E8F0FE;\n",
              "      border: none;\n",
              "      border-radius: 50%;\n",
              "      cursor: pointer;\n",
              "      display: none;\n",
              "      fill: #1967D2;\n",
              "      height: 32px;\n",
              "      padding: 0 0 0 0;\n",
              "      width: 32px;\n",
              "    }\n",
              "\n",
              "    .colab-df-convert:hover {\n",
              "      background-color: #E2EBFA;\n",
              "      box-shadow: 0px 1px 2px rgba(60, 64, 67, 0.3), 0px 1px 3px 1px rgba(60, 64, 67, 0.15);\n",
              "      fill: #174EA6;\n",
              "    }\n",
              "\n",
              "    [theme=dark] .colab-df-convert {\n",
              "      background-color: #3B4455;\n",
              "      fill: #D2E3FC;\n",
              "    }\n",
              "\n",
              "    [theme=dark] .colab-df-convert:hover {\n",
              "      background-color: #434B5C;\n",
              "      box-shadow: 0px 1px 3px 1px rgba(0, 0, 0, 0.15);\n",
              "      filter: drop-shadow(0px 1px 2px rgba(0, 0, 0, 0.3));\n",
              "      fill: #FFFFFF;\n",
              "    }\n",
              "  </style>\n",
              "\n",
              "      <script>\n",
              "        const buttonEl =\n",
              "          document.querySelector('#df-a5147b03-726b-4829-8a60-18cd16436b76 button.colab-df-convert');\n",
              "        buttonEl.style.display =\n",
              "          google.colab.kernel.accessAllowed ? 'block' : 'none';\n",
              "\n",
              "        async function convertToInteractive(key) {\n",
              "          const element = document.querySelector('#df-a5147b03-726b-4829-8a60-18cd16436b76');\n",
              "          const dataTable =\n",
              "            await google.colab.kernel.invokeFunction('convertToInteractive',\n",
              "                                                     [key], {});\n",
              "          if (!dataTable) return;\n",
              "\n",
              "          const docLinkHtml = 'Like what you see? Visit the ' +\n",
              "            '<a target=\"_blank\" href=https://colab.research.google.com/notebooks/data_table.ipynb>data table notebook</a>'\n",
              "            + ' to learn more about interactive tables.';\n",
              "          element.innerHTML = '';\n",
              "          dataTable['output_type'] = 'display_data';\n",
              "          await google.colab.output.renderOutput(dataTable, element);\n",
              "          const docLink = document.createElement('div');\n",
              "          docLink.innerHTML = docLinkHtml;\n",
              "          element.appendChild(docLink);\n",
              "        }\n",
              "      </script>\n",
              "    </div>\n",
              "  </div>\n",
              "  "
            ]
          },
          "metadata": {},
          "execution_count": 60
        }
      ]
    },
    {
      "cell_type": "markdown",
      "source": [
        "Religious texts being miscategorized; likely sharing lots of simialr words"
      ],
      "metadata": {
        "id": "Ur3_wOluM5l7"
      }
    }
  ]
}
