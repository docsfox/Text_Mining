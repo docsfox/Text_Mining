{
  "cells": [
    {
      "cell_type": "markdown",
      "id": "cc68569f",
      "metadata": {
        "id": "cc68569f"
      },
      "source": [
        "# **In-Class Assignment: Feature Engineering Part 2: Word Embeddings**\n",
        "## *IS 5150*\n",
        "## Name: Key\n",
        "\n",
        "In this notebook we will cover several models used for feature engineering word embeddings for text, so that we can better represent word meaning in our texts.\n",
        "\n",
        "In this example we will use the *King James Bible* from the gutenberg corpus as a large sample that we can use to train a word-embedding model. Training word-embedding models is pretty computationally expesnive, and time-consuming. So, I'm going to show you how to access a GPU instance from google colab and you will run this notebook outside of class :)\n",
        "\n",
        "While I want you to understand how word-embedding models can be trained, we'll also play around with some pretrained models as well, which oftentimes can work quite well out of the box and can save time and effort. We'll apply those pretrained models to our toy corpus from P1 and then extend it to our document clustering.\n",
        "\n",
        "## **1) Getting Set up**\n",
        "\n",
        "Let's get started with reading in our required libraries and packages:"
      ]
    },
    {
      "cell_type": "code",
      "execution_count": null,
      "id": "0320b81a",
      "metadata": {
        "id": "0320b81a"
      },
      "outputs": [],
      "source": [
        "import nltk\n",
        "nltk.download('stopwords')\n",
        "nltk.download('gutenberg')\n",
        "nltk.download('punkt')\n",
        "from nltk.corpus import gutenberg\n",
        "\n",
        "from string import punctuation\n",
        "from urllib import request\n",
        "from bs4 import BeautifulSoup\n",
        "\n",
        "import numpy as np\n",
        "import pandas as pd\n",
        "import re\n",
        "\n",
        "wpt = nltk.WordPunctTokenizer()                                               # assign wordpunctokenizer to wpt\n",
        "stop_words = nltk.corpus.stopwords.words('english')                           # bring in stopwords from nltk"
      ]
    },
    {
      "cell_type": "code",
      "source": [
        "url = \"https://gutenberg.org/files/10/10-h/10-h.htm\"\n",
        "response = request.urlopen(url)\n",
        "\n",
        "raw = response.read().decode('utf-8-sig')\n",
        "raw\n",
        "print(raw.find(\"1:1\"), \":\", raw.rfind(\"END OF THE PROJECT GUTENBERG\"))"
      ],
      "metadata": {
        "colab": {
          "base_uri": "https://localhost:8080/"
        },
        "id": "TYF8iQDZj4C_",
        "outputId": "0cab646c-da40-4dc6-9050-cd84e238d0c7"
      },
      "id": "TYF8iQDZj4C_",
      "execution_count": null,
      "outputs": [
        {
          "output_type": "stream",
          "name": "stdout",
          "text": [
            "10282 : 4634877\n"
          ]
        }
      ]
    },
    {
      "cell_type": "code",
      "source": [
        "raw = raw[10282:4634877]"
      ],
      "metadata": {
        "id": "ibdBWcj3kS_F"
      },
      "id": "ibdBWcj3kS_F",
      "execution_count": null,
      "outputs": []
    },
    {
      "cell_type": "markdown",
      "source": [
        "> #### **A) Define Normalize Document Function**\n",
        "\n"
      ],
      "metadata": {
        "id": "VG8rwMKdDPJh"
      },
      "id": "VG8rwMKdDPJh"
    },
    {
      "cell_type": "code",
      "source": [
        "def normalize_document(doc):\n",
        "    soup = BeautifulSoup(doc, 'html.parser')\n",
        "    [s.extract() for s in soup(['iframe', 'script'])]\n",
        "    doc = soup.get_text()\n",
        "    doc = re.sub(r'[^a-zA-Z\\.\\s]', '', doc)\n",
        "    doc = doc.lower()\n",
        "    doc = doc.strip()\n",
        "    tokens = wpt.tokenize(doc)                                                   # tokenize document\n",
        "    filtered_tokens = [token for token in tokens if token not in stop_words]     # filter out stopwords from document\n",
        "    doc = ' '.join(filtered_tokens)                                              # re-create doucment from filtered tokens\n",
        "    return doc"
      ],
      "metadata": {
        "id": "bAxdOKY5DDBG"
      },
      "id": "bAxdOKY5DDBG",
      "execution_count": null,
      "outputs": []
    },
    {
      "cell_type": "markdown",
      "id": "887acc3a",
      "metadata": {
        "id": "887acc3a"
      },
      "source": [
        "> #### **B) Apply Normalization Function, tokenize the sentences, then remove punctation**"
      ]
    },
    {
      "cell_type": "code",
      "source": [
        "norm_bible = normalize_document(raw)"
      ],
      "metadata": {
        "id": "aVcOLy5TgyMG"
      },
      "id": "aVcOLy5TgyMG",
      "execution_count": null,
      "outputs": []
    },
    {
      "cell_type": "code",
      "execution_count": null,
      "id": "5307341b",
      "metadata": {
        "colab": {
          "base_uri": "https://localhost:8080/"
        },
        "id": "5307341b",
        "outputId": "ef29e12b-e5e4-4dd7-b9d3-b6f8efff5dfa"
      },
      "outputs": [
        {
          "output_type": "execute_result",
          "data": {
            "text/plain": [
              "['beginning god created heaven earth  ',\n",
              " 'earth without form void darkness upon face deep  ',\n",
              " 'spirit god moved upon face waters  ',\n",
              " 'god said let light light  ',\n",
              " 'god saw light good god divided light darkness  ']"
            ]
          },
          "metadata": {},
          "execution_count": 86
        }
      ],
      "source": [
        "punkt_st = nltk.tokenize.PunktSentenceTokenizer()\n",
        "norm_sents = punkt_st.tokenize(norm_bible)\n",
        "def remove_punc(string):\n",
        "    punc = '''!()-[]{};:'\"\\, <>./?@#$%^&*_~'''\n",
        "    for ele in string:  \n",
        "        if ele in punc:  \n",
        "            string = string.replace(ele, \" \") \n",
        "    return string\n",
        " \n",
        "norm_sents = [remove_punc(i) for i in norm_sents]\n",
        "norm_sents[0:5]"
      ]
    },
    {
      "cell_type": "markdown",
      "id": "735ae97e",
      "metadata": {
        "id": "735ae97e"
      },
      "source": [
        "## **2) Training a Word2Vec Model for Word Embeddings**"
      ]
    },
    {
      "cell_type": "markdown",
      "id": "a1a77038",
      "metadata": {
        "id": "a1a77038"
      },
      "source": [
        "### Continuous Bag of Words (CBOW) Model \n",
        "\n",
        "Let's first try implementing this method from scratch to understand how the model works; it involves five primary steps:\n",
        "1. Building the corpus vocabulary\n",
        "2. Building a CBOW (context, target) generator\n",
        "3. Building the CBOW model archicture\n",
        "4. Training the model\n",
        "5. Getting the word embeddings!\n"
      ]
    },
    {
      "cell_type": "markdown",
      "id": "ba9f7aad",
      "metadata": {
        "id": "ba9f7aad"
      },
      "source": [
        "> #### **A) Building corpus vocab**\n",
        "> The first step in this process is separating out the text into the vocabulary, which consists of all the unique words in the text. We will need to bring in some new libraries that are often used in NLP and machine learning, including`tensorflow`."
      ]
    },
    {
      "cell_type": "code",
      "execution_count": null,
      "id": "b26bf008",
      "metadata": {
        "id": "b26bf008"
      },
      "outputs": [],
      "source": [
        "from keras.preprocessing import text\n",
        "from keras.utils import np_utils\n",
        "from keras.preprocessing import sequence \n",
        "\n",
        "from tensorflow.keras.preprocessing.sequence import pad_sequences"
      ]
    },
    {
      "cell_type": "code",
      "execution_count": null,
      "id": "64e02377",
      "metadata": {
        "id": "64e02377"
      },
      "outputs": [],
      "source": [
        "tokenizer = text.Tokenizer() \n",
        "tokenizer.fit_on_texts(norm_sents)                                                        # tokenize norm_bible text\n",
        "word2id = tokenizer.word_index                                                            # store word index numbers"
      ]
    },
    {
      "cell_type": "code",
      "execution_count": null,
      "id": "d7738da4",
      "metadata": {
        "id": "d7738da4"
      },
      "outputs": [],
      "source": [
        "word2id['PAD'] = 0\n",
        "id2word = {v:k for k, v in word2id.items()}                                               # create dictionary of words with their index numbers\n",
        "\n",
        "wids = [[word2id[w] for w in text.text_to_word_sequence(doc)] for doc in norm_sents]      # create list of lists of word sequences for each sentence in norm_bible, represented by word index number"
      ]
    },
    {
      "cell_type": "markdown",
      "source": [
        "**Let's take a step back and see what each of these variables contain...**"
      ],
      "metadata": {
        "id": "nx8PhwsWKGmh"
      },
      "id": "nx8PhwsWKGmh"
    },
    {
      "cell_type": "code",
      "execution_count": null,
      "id": "88decd47",
      "metadata": {
        "colab": {
          "base_uri": "https://localhost:8080/"
        },
        "id": "88decd47",
        "outputId": "9d3aa491-e762-4b94-e0ff-445f81ff0f56"
      },
      "outputs": [
        {
          "output_type": "stream",
          "name": "stdout",
          "text": [
            "Vocab Size: 12568\n",
            "\n",
            "Vocab Sample: [('shall', 1), ('unto', 2), ('lord', 3), ('thou', 4), ('thy', 5), ('god', 6), ('said', 7), ('ye', 8), ('thee', 9), ('upon', 10)]\n"
          ]
        }
      ],
      "source": [
        "vocab_size = len(word2id)\n",
        "embed_size = 100\n",
        "window_size = 2                                                                           # context window size, how many words surrounding target word are taken into account\n",
        "\n",
        "print('Vocab Size:', vocab_size)\n",
        "print('\\nVocab Sample:', list(word2id.items())[:10])"
      ]
    },
    {
      "cell_type": "markdown",
      "source": [
        "**What does it mean to have a window size of 2?**"
      ],
      "metadata": {
        "id": "h2vrnTb8KV1h"
      },
      "id": "h2vrnTb8KV1h"
    },
    {
      "cell_type": "markdown",
      "source": [],
      "metadata": {
        "id": "lXYRtgTZKb35"
      },
      "id": "lXYRtgTZKb35"
    },
    {
      "cell_type": "markdown",
      "id": "a017dafd",
      "metadata": {
        "id": "a017dafd"
      },
      "source": [
        "> #### **B) Building CBOW (Context, Target) Generator**"
      ]
    },
    {
      "cell_type": "code",
      "execution_count": null,
      "id": "f3f8fb12",
      "metadata": {
        "id": "f3f8fb12"
      },
      "outputs": [],
      "source": [
        "def generate_context_word_pairs(corpus, window_size, vocab_size):\n",
        "    context_length = window_size*2                                                                    # context is 2 words to either side of the target word\n",
        "    for words in corpus:                                                                              # for each word in corpus...\n",
        "        sentence_length = len(words)                                                                  # set the sentence length to the length of words\n",
        "        for index, word in enumerate(words):                                                          # assign numeric value for each word, use as index\n",
        "            context_words = []                                                                        # create list for context_words\n",
        "            label_word = []                                                                           # create list of label words \n",
        "            start = index - window_size                                                               # set the start to be 2 left of the index (window)\n",
        "            end = index + window_size + 1                                                             # set the end to be the 3 right of the index\n",
        "\n",
        "            context_words.append([words[i]                                                            # fill in the context words for each word in the corpus between start, end\n",
        "                                 for i in range(start, end)                                                   \n",
        "                                 if 0 <= i < sentence_length\n",
        "                                 and i != index])\n",
        "            label_word.append(word)                                                                   # add word label to each word\n",
        "            \n",
        "            x = pad_sequences(context_words, maxlen = context_length)                                 # save context words to x\n",
        "            y = np_utils.to_categorical(label_word, vocab_size)                                       # save associated target word to y\n",
        "            yield(x, y)"
      ]
    },
    {
      "cell_type": "markdown",
      "source": [
        "**Now let's apply our context word pair generator to a sample of our first 10 words from our corpus to see a) what it does and b) that it worked.**"
      ],
      "metadata": {
        "id": "Z19_gFShMFCS"
      },
      "id": "Z19_gFShMFCS"
    },
    {
      "cell_type": "code",
      "execution_count": null,
      "id": "9d11293b",
      "metadata": {
        "colab": {
          "base_uri": "https://localhost:8080/"
        },
        "id": "9d11293b",
        "outputId": "0e6266dd-426d-4b67-a4fb-557bccb54447"
      },
      "outputs": [
        {
          "output_type": "stream",
          "name": "stdout",
          "text": [
            "Context (X): ['beginning', 'god', 'heaven', 'earth'] -> Target (Y): created\n",
            "Context (X): ['earth', 'without', 'void', 'darkness'] -> Target (Y): form\n",
            "Context (X): ['without', 'form', 'darkness', 'upon'] -> Target (Y): void\n",
            "Context (X): ['form', 'void', 'upon', 'face'] -> Target (Y): darkness\n",
            "Context (X): ['void', 'darkness', 'face', 'deep'] -> Target (Y): upon\n",
            "Context (X): ['spirit', 'god', 'upon', 'face'] -> Target (Y): moved\n",
            "Context (X): ['god', 'moved', 'face', 'waters'] -> Target (Y): upon\n",
            "Context (X): ['god', 'said', 'light', 'light'] -> Target (Y): let\n",
            "Context (X): ['god', 'saw', 'good', 'god'] -> Target (Y): light\n",
            "Context (X): ['saw', 'light', 'god', 'divided'] -> Target (Y): good\n"
          ]
        }
      ],
      "source": [
        "i = 0\n",
        "for x, y in generate_context_word_pairs(corpus = wids, window_size=window_size, vocab_size=vocab_size):                   # set corpus to word sequences from norm_bible\n",
        "    if 0 not in x[0]:                                                                                                     # window size is 2, vocab_size is vocab_size\n",
        "        print('Context (X):', [id2word[w] for w in x[0]], '-> Target (Y):', id2word[np.argwhere(y[0])[0][0]])             # start at word 0, end at word 9\n",
        "        if i == 9:\n",
        "            break\n",
        "        i += 1"
      ]
    },
    {
      "cell_type": "markdown",
      "id": "ab8295a6",
      "metadata": {
        "id": "ab8295a6"
      },
      "source": [
        "**Let's check in a make sure we understand the components here: What is the window size and how do you know? What is the relationship between the context words (X) and the target word (Y)?**"
      ]
    },
    {
      "cell_type": "markdown",
      "id": "07c18ff9",
      "metadata": {
        "id": "07c18ff9"
      },
      "source": []
    },
    {
      "cell_type": "markdown",
      "id": "4aca7dd3",
      "metadata": {
        "id": "4aca7dd3"
      },
      "source": [
        "> #### **C) Build the CBOW Architecture**\n",
        "\n",
        "This step is a brief venture into some deep learning to utilize Word2Vec to training word embeddings...The CBoW archictecture can be broken down into:\n",
        "\n",
        "1. An embedding layer (where our context words are pass in as inputs) → word weights/embeddings are randomly initialized\n",
        "2. A lambda layer → average the word embeddings\n",
        "3. Dense softmax layer → predicts the target word\n",
        "\n",
        "We match the predicted target against the actual target word and compute the error/loss using a metric called `categorical_crossentropy` then perform back propagation with each epoch (full run through) of our model...\n",
        "\n",
        "We will then take the learned weights from this word prediction task and use them as our word embeddings!\n"
      ]
    },
    {
      "cell_type": "code",
      "execution_count": null,
      "id": "381421ad",
      "metadata": {
        "id": "381421ad"
      },
      "outputs": [],
      "source": [
        "import keras.backend as K\n",
        "from keras.models import Sequential\n",
        "from keras.layers import Dense, Embedding, Lambda"
      ]
    },
    {
      "cell_type": "code",
      "execution_count": null,
      "id": "0d1300c9",
      "metadata": {
        "colab": {
          "base_uri": "https://localhost:8080/"
        },
        "id": "0d1300c9",
        "outputId": "56e32d76-d8ab-4d6b-b715-1b284a7145cc"
      },
      "outputs": [
        {
          "output_type": "stream",
          "name": "stdout",
          "text": [
            "Model: \"sequential\"\n",
            "_________________________________________________________________\n",
            " Layer (type)                Output Shape              Param #   \n",
            "=================================================================\n",
            " embedding (Embedding)       (None, 4, 100)            1256800   \n",
            "                                                                 \n",
            " lambda (Lambda)             (None, 100)               0         \n",
            "                                                                 \n",
            " dense (Dense)               (None, 12568)             1269368   \n",
            "                                                                 \n",
            "=================================================================\n",
            "Total params: 2,526,168\n",
            "Trainable params: 2,526,168\n",
            "Non-trainable params: 0\n",
            "_________________________________________________________________\n",
            "None\n"
          ]
        }
      ],
      "source": [
        "cbow = Sequential()\n",
        "cbow.add(Embedding(input_dim = vocab_size, output_dim = embed_size, input_length = window_size*2)) #what are these inputs?\n",
        "cbow.add(Lambda(lambda x: K.mean(x, axis = 1), output_shape = (embed_size,)))\n",
        "cbow.add(Dense(vocab_size, activation = 'softmax'))\n",
        "cbow.compile(loss = 'categorical_crossentropy', optimizer = 'rmsprop')\n",
        "\n",
        "print(cbow.summary())"
      ]
    },
    {
      "cell_type": "markdown",
      "id": "9acfec53",
      "metadata": {
        "id": "9acfec53"
      },
      "source": [
        "**Examining the output shape, do any of these values look familiar? Let's talk them through.**"
      ]
    },
    {
      "cell_type": "markdown",
      "source": [
        "Number of parameters for embedding is our vocab*length of the embedding (100 dimensional vector generated for 12,568 words) = 1256800 parameters\n",
        "\n",
        "Dense embeddings is our 1256800 + our vocab size = 1269368 parameters"
      ],
      "metadata": {
        "id": "HbcPSwBPN37Y"
      },
      "id": "HbcPSwBPN37Y"
    },
    {
      "cell_type": "markdown",
      "id": "fba8f02c",
      "metadata": {
        "id": "fba8f02c"
      },
      "source": [
        "> #### **D) Train the model (for a few epochs)**\n",
        "> So here's the step I'll have you guys do outside of class, because this is going to take some time to train. Click the *Runtime* menu above, and select the option to *Change runtime type* and select the *GPU* option. Once you do that, you'll need to rerun the above cells (it will start a new session) and then go ahead and kick off training. This might take like 2 hours or so...so go watch a movie or work on something else and leave this running. The joys of training complex models!"
      ]
    },
    {
      "cell_type": "code",
      "execution_count": null,
      "id": "50cc7afe",
      "metadata": {
        "id": "50cc7afe"
      },
      "outputs": [],
      "source": [
        "%%time \n",
        "\n",
        "for epoch in range(1,4):\n",
        "    loss = 0.\n",
        "    i = 0\n",
        "    for x, y in generate_context_word_pairs(corpus = wids, window_size=window_size, vocab_size=vocab_size):\n",
        "        i +=1\n",
        "        loss += cbow.train_on_batch(x, y)\n",
        "        if i % 1000 == 0:\n",
        "            print('Processed {} (context, word) pairs'.format(i))\n",
        "    print('Epoch:', epoch, '\\tloss:', loss)\n",
        "    print()"
      ]
    },
    {
      "cell_type": "markdown",
      "source": [
        "**How many epochs did you try? How long did it take to train your word embeddings model (approximately)?**"
      ],
      "metadata": {
        "id": "LQZk1otrOtiX"
      },
      "id": "LQZk1otrOtiX"
    },
    {
      "cell_type": "markdown",
      "source": [],
      "metadata": {
        "id": "ruq1ap3qOz7E"
      },
      "id": "ruq1ap3qOz7E"
    },
    {
      "cell_type": "markdown",
      "source": [
        "> #### **D) Get the word embeddings!**\n",
        "> First we need to grab the weights for each word, this is a stored parameter from `cbow`. We'll put these in a dataframe with the word labels."
      ],
      "metadata": {
        "id": "NBofpiu2PsqL"
      },
      "id": "NBofpiu2PsqL"
    },
    {
      "cell_type": "code",
      "source": [
        "weights = cbow.get_weights()[0]                                                       # assign the learned weights to weights\n",
        "weights = weights[1:]                                                                 # skip first token (start token)\n",
        "print(weights.shape)                                                                  \n",
        "\n",
        "pd.DataFrame(weights, index=list(id2word.values())[1:]).head()                        # show weights with an index of their associated word in a dataframe"
      ],
      "metadata": {
        "colab": {
          "base_uri": "https://localhost:8080/",
          "height": 253
        },
        "id": "u-cPNTeYK3Mn",
        "outputId": "3303ac67-8662-45a8-cd04-6010f24a04f8"
      },
      "id": "u-cPNTeYK3Mn",
      "execution_count": null,
      "outputs": [
        {
          "output_type": "stream",
          "name": "stdout",
          "text": [
            "(12424, 100)\n"
          ]
        },
        {
          "output_type": "execute_result",
          "data": {
            "text/plain": [
              "            0         1         2         3         4         5         6   \\\n",
              "unto -2.225993  1.836853 -2.139887  2.332495  2.521954  2.330496  1.994589   \n",
              "lord -2.094536  1.208111 -1.631965  2.294956  2.034759  2.110713  1.470994   \n",
              "thou -2.195787  1.390423 -0.992899  1.667964  1.882289  1.678031  1.706572   \n",
              "thy  -1.972255  1.715160 -1.518969  2.246659  2.919665  2.136470  1.953492   \n",
              "god  -1.715338  1.667849 -1.840582  2.053854  2.124584  2.042527  1.806484   \n",
              "\n",
              "            7         8         9   ...        90        91        92  \\\n",
              "unto -2.196422  2.202455 -3.290952  ... -2.140275  2.486768 -2.024182   \n",
              "lord -1.469401  1.640498 -3.007893  ... -1.876751  1.854104 -1.896520   \n",
              "thou -1.234614  1.665073 -2.381890  ... -1.462752  1.346579 -1.431353   \n",
              "thy  -1.889781  1.949519 -2.168549  ... -1.365229  2.232424 -1.892115   \n",
              "god  -1.725023  1.626154 -2.430135  ... -1.958262  2.158954 -1.274948   \n",
              "\n",
              "            93        94        95        96        97        98        99  \n",
              "unto -2.103471  2.749426 -2.713324 -2.357984 -1.937865 -2.598071 -2.320647  \n",
              "lord -1.561776  2.313528 -2.473743 -1.994769 -1.605738 -2.586857 -2.296040  \n",
              "thou -1.584383  1.895967 -2.021400 -1.506778 -1.573882 -1.572761 -1.298905  \n",
              "thy  -1.188689  2.284404 -2.141016 -2.175881 -1.882793 -2.142578 -1.911173  \n",
              "god  -1.591822  1.991377 -2.022995 -1.847375 -1.176561 -1.868503 -1.906206  \n",
              "\n",
              "[5 rows x 100 columns]"
            ],
            "text/html": [
              "\n",
              "  <div id=\"df-3cfcb2cf-a390-4542-a407-5cc46fab8244\">\n",
              "    <div class=\"colab-df-container\">\n",
              "      <div>\n",
              "<style scoped>\n",
              "    .dataframe tbody tr th:only-of-type {\n",
              "        vertical-align: middle;\n",
              "    }\n",
              "\n",
              "    .dataframe tbody tr th {\n",
              "        vertical-align: top;\n",
              "    }\n",
              "\n",
              "    .dataframe thead th {\n",
              "        text-align: right;\n",
              "    }\n",
              "</style>\n",
              "<table border=\"1\" class=\"dataframe\">\n",
              "  <thead>\n",
              "    <tr style=\"text-align: right;\">\n",
              "      <th></th>\n",
              "      <th>0</th>\n",
              "      <th>1</th>\n",
              "      <th>2</th>\n",
              "      <th>3</th>\n",
              "      <th>4</th>\n",
              "      <th>5</th>\n",
              "      <th>6</th>\n",
              "      <th>7</th>\n",
              "      <th>8</th>\n",
              "      <th>9</th>\n",
              "      <th>...</th>\n",
              "      <th>90</th>\n",
              "      <th>91</th>\n",
              "      <th>92</th>\n",
              "      <th>93</th>\n",
              "      <th>94</th>\n",
              "      <th>95</th>\n",
              "      <th>96</th>\n",
              "      <th>97</th>\n",
              "      <th>98</th>\n",
              "      <th>99</th>\n",
              "    </tr>\n",
              "  </thead>\n",
              "  <tbody>\n",
              "    <tr>\n",
              "      <th>unto</th>\n",
              "      <td>-2.225993</td>\n",
              "      <td>1.836853</td>\n",
              "      <td>-2.139887</td>\n",
              "      <td>2.332495</td>\n",
              "      <td>2.521954</td>\n",
              "      <td>2.330496</td>\n",
              "      <td>1.994589</td>\n",
              "      <td>-2.196422</td>\n",
              "      <td>2.202455</td>\n",
              "      <td>-3.290952</td>\n",
              "      <td>...</td>\n",
              "      <td>-2.140275</td>\n",
              "      <td>2.486768</td>\n",
              "      <td>-2.024182</td>\n",
              "      <td>-2.103471</td>\n",
              "      <td>2.749426</td>\n",
              "      <td>-2.713324</td>\n",
              "      <td>-2.357984</td>\n",
              "      <td>-1.937865</td>\n",
              "      <td>-2.598071</td>\n",
              "      <td>-2.320647</td>\n",
              "    </tr>\n",
              "    <tr>\n",
              "      <th>lord</th>\n",
              "      <td>-2.094536</td>\n",
              "      <td>1.208111</td>\n",
              "      <td>-1.631965</td>\n",
              "      <td>2.294956</td>\n",
              "      <td>2.034759</td>\n",
              "      <td>2.110713</td>\n",
              "      <td>1.470994</td>\n",
              "      <td>-1.469401</td>\n",
              "      <td>1.640498</td>\n",
              "      <td>-3.007893</td>\n",
              "      <td>...</td>\n",
              "      <td>-1.876751</td>\n",
              "      <td>1.854104</td>\n",
              "      <td>-1.896520</td>\n",
              "      <td>-1.561776</td>\n",
              "      <td>2.313528</td>\n",
              "      <td>-2.473743</td>\n",
              "      <td>-1.994769</td>\n",
              "      <td>-1.605738</td>\n",
              "      <td>-2.586857</td>\n",
              "      <td>-2.296040</td>\n",
              "    </tr>\n",
              "    <tr>\n",
              "      <th>thou</th>\n",
              "      <td>-2.195787</td>\n",
              "      <td>1.390423</td>\n",
              "      <td>-0.992899</td>\n",
              "      <td>1.667964</td>\n",
              "      <td>1.882289</td>\n",
              "      <td>1.678031</td>\n",
              "      <td>1.706572</td>\n",
              "      <td>-1.234614</td>\n",
              "      <td>1.665073</td>\n",
              "      <td>-2.381890</td>\n",
              "      <td>...</td>\n",
              "      <td>-1.462752</td>\n",
              "      <td>1.346579</td>\n",
              "      <td>-1.431353</td>\n",
              "      <td>-1.584383</td>\n",
              "      <td>1.895967</td>\n",
              "      <td>-2.021400</td>\n",
              "      <td>-1.506778</td>\n",
              "      <td>-1.573882</td>\n",
              "      <td>-1.572761</td>\n",
              "      <td>-1.298905</td>\n",
              "    </tr>\n",
              "    <tr>\n",
              "      <th>thy</th>\n",
              "      <td>-1.972255</td>\n",
              "      <td>1.715160</td>\n",
              "      <td>-1.518969</td>\n",
              "      <td>2.246659</td>\n",
              "      <td>2.919665</td>\n",
              "      <td>2.136470</td>\n",
              "      <td>1.953492</td>\n",
              "      <td>-1.889781</td>\n",
              "      <td>1.949519</td>\n",
              "      <td>-2.168549</td>\n",
              "      <td>...</td>\n",
              "      <td>-1.365229</td>\n",
              "      <td>2.232424</td>\n",
              "      <td>-1.892115</td>\n",
              "      <td>-1.188689</td>\n",
              "      <td>2.284404</td>\n",
              "      <td>-2.141016</td>\n",
              "      <td>-2.175881</td>\n",
              "      <td>-1.882793</td>\n",
              "      <td>-2.142578</td>\n",
              "      <td>-1.911173</td>\n",
              "    </tr>\n",
              "    <tr>\n",
              "      <th>god</th>\n",
              "      <td>-1.715338</td>\n",
              "      <td>1.667849</td>\n",
              "      <td>-1.840582</td>\n",
              "      <td>2.053854</td>\n",
              "      <td>2.124584</td>\n",
              "      <td>2.042527</td>\n",
              "      <td>1.806484</td>\n",
              "      <td>-1.725023</td>\n",
              "      <td>1.626154</td>\n",
              "      <td>-2.430135</td>\n",
              "      <td>...</td>\n",
              "      <td>-1.958262</td>\n",
              "      <td>2.158954</td>\n",
              "      <td>-1.274948</td>\n",
              "      <td>-1.591822</td>\n",
              "      <td>1.991377</td>\n",
              "      <td>-2.022995</td>\n",
              "      <td>-1.847375</td>\n",
              "      <td>-1.176561</td>\n",
              "      <td>-1.868503</td>\n",
              "      <td>-1.906206</td>\n",
              "    </tr>\n",
              "  </tbody>\n",
              "</table>\n",
              "<p>5 rows × 100 columns</p>\n",
              "</div>\n",
              "      <button class=\"colab-df-convert\" onclick=\"convertToInteractive('df-3cfcb2cf-a390-4542-a407-5cc46fab8244')\"\n",
              "              title=\"Convert this dataframe to an interactive table.\"\n",
              "              style=\"display:none;\">\n",
              "        \n",
              "  <svg xmlns=\"http://www.w3.org/2000/svg\" height=\"24px\"viewBox=\"0 0 24 24\"\n",
              "       width=\"24px\">\n",
              "    <path d=\"M0 0h24v24H0V0z\" fill=\"none\"/>\n",
              "    <path d=\"M18.56 5.44l.94 2.06.94-2.06 2.06-.94-2.06-.94-.94-2.06-.94 2.06-2.06.94zm-11 1L8.5 8.5l.94-2.06 2.06-.94-2.06-.94L8.5 2.5l-.94 2.06-2.06.94zm10 10l.94 2.06.94-2.06 2.06-.94-2.06-.94-.94-2.06-.94 2.06-2.06.94z\"/><path d=\"M17.41 7.96l-1.37-1.37c-.4-.4-.92-.59-1.43-.59-.52 0-1.04.2-1.43.59L10.3 9.45l-7.72 7.72c-.78.78-.78 2.05 0 2.83L4 21.41c.39.39.9.59 1.41.59.51 0 1.02-.2 1.41-.59l7.78-7.78 2.81-2.81c.8-.78.8-2.07 0-2.86zM5.41 20L4 18.59l7.72-7.72 1.47 1.35L5.41 20z\"/>\n",
              "  </svg>\n",
              "      </button>\n",
              "      \n",
              "  <style>\n",
              "    .colab-df-container {\n",
              "      display:flex;\n",
              "      flex-wrap:wrap;\n",
              "      gap: 12px;\n",
              "    }\n",
              "\n",
              "    .colab-df-convert {\n",
              "      background-color: #E8F0FE;\n",
              "      border: none;\n",
              "      border-radius: 50%;\n",
              "      cursor: pointer;\n",
              "      display: none;\n",
              "      fill: #1967D2;\n",
              "      height: 32px;\n",
              "      padding: 0 0 0 0;\n",
              "      width: 32px;\n",
              "    }\n",
              "\n",
              "    .colab-df-convert:hover {\n",
              "      background-color: #E2EBFA;\n",
              "      box-shadow: 0px 1px 2px rgba(60, 64, 67, 0.3), 0px 1px 3px 1px rgba(60, 64, 67, 0.15);\n",
              "      fill: #174EA6;\n",
              "    }\n",
              "\n",
              "    [theme=dark] .colab-df-convert {\n",
              "      background-color: #3B4455;\n",
              "      fill: #D2E3FC;\n",
              "    }\n",
              "\n",
              "    [theme=dark] .colab-df-convert:hover {\n",
              "      background-color: #434B5C;\n",
              "      box-shadow: 0px 1px 3px 1px rgba(0, 0, 0, 0.15);\n",
              "      filter: drop-shadow(0px 1px 2px rgba(0, 0, 0, 0.3));\n",
              "      fill: #FFFFFF;\n",
              "    }\n",
              "  </style>\n",
              "\n",
              "      <script>\n",
              "        const buttonEl =\n",
              "          document.querySelector('#df-3cfcb2cf-a390-4542-a407-5cc46fab8244 button.colab-df-convert');\n",
              "        buttonEl.style.display =\n",
              "          google.colab.kernel.accessAllowed ? 'block' : 'none';\n",
              "\n",
              "        async function convertToInteractive(key) {\n",
              "          const element = document.querySelector('#df-3cfcb2cf-a390-4542-a407-5cc46fab8244');\n",
              "          const dataTable =\n",
              "            await google.colab.kernel.invokeFunction('convertToInteractive',\n",
              "                                                     [key], {});\n",
              "          if (!dataTable) return;\n",
              "\n",
              "          const docLinkHtml = 'Like what you see? Visit the ' +\n",
              "            '<a target=\"_blank\" href=https://colab.research.google.com/notebooks/data_table.ipynb>data table notebook</a>'\n",
              "            + ' to learn more about interactive tables.';\n",
              "          element.innerHTML = '';\n",
              "          dataTable['output_type'] = 'display_data';\n",
              "          await google.colab.output.renderOutput(dataTable, element);\n",
              "          const docLink = document.createElement('div');\n",
              "          docLink.innerHTML = docLinkHtml;\n",
              "          element.appendChild(docLink);\n",
              "        }\n",
              "      </script>\n",
              "    </div>\n",
              "  </div>\n",
              "  "
            ]
          },
          "metadata": {},
          "execution_count": 19
        }
      ]
    },
    {
      "cell_type": "markdown",
      "source": [
        "**Similar to how we examined the distance between document vectors in the previous assignment using cosine similarity to cluster similar documents, now we'll use another distance metric, euclidean distance, to find words with similar word vectors based on the weights above.**"
      ],
      "metadata": {
        "id": "H4lJaqfGQUOi"
      },
      "id": "H4lJaqfGQUOi"
    },
    {
      "cell_type": "code",
      "source": [
        "from sklearn.metrics.pairwise import euclidean_distances\n",
        "\n",
        "distance_matrix = euclidean_distances(weights)                                                # create a distance matrix based on the distance between words vectors\n",
        "print(distance_matrix.shape)\n",
        "\n",
        "\n",
        "similar_words = {search_term: [id2word[idx]\n",
        "                               for idx in distance_matrix[word2id[search_term]-1].\n",
        "                               argsort()[1:6]+1]\n",
        "                                  for search_term in ['god', 'jesus', 'noah',\n",
        "                                                      'egypt', 'john', 'moses', 'famine']}    # find the top 5 words most similar to the following terms:\n",
        "similar_words"
      ],
      "metadata": {
        "colab": {
          "base_uri": "https://localhost:8080/"
        },
        "id": "HqBsuY41pe6A",
        "outputId": "65eea10e-241f-4794-b05d-e3d68ba6f368"
      },
      "id": "HqBsuY41pe6A",
      "execution_count": null,
      "outputs": [
        {
          "output_type": "stream",
          "name": "stdout",
          "text": [
            "(12424, 12424)\n"
          ]
        },
        {
          "output_type": "execute_result",
          "data": {
            "text/plain": [
              "{'egypt': ['woman', 'gone', 'could', 'sheep', 'iniquity'],\n",
              " 'famine': ['draw', 'vision', 'widow', 'streets', 'waste'],\n",
              " 'god': ['also', 'ye', 'man', 'great', 'even'],\n",
              " 'jesus': ['dead', 'spirit', 'saw', 'time', 'gave'],\n",
              " 'john': ['peter', 'followed', 'entered', 'must', 'disciples'],\n",
              " 'moses': ['departed', 'well', 'truth', 'body', 'certain'],\n",
              " 'noah': ['divide', 'fish', 'harlot', 'air', 'likeness']}"
            ]
          },
          "metadata": {},
          "execution_count": 21
        }
      ]
    },
    {
      "cell_type": "markdown",
      "source": [
        "**Some of these make sense together -- famine, waste; jesus, spirit, but a lot of them don't. What would be the pros and cons of training our word embeddings model for a greater number of epochs?**"
      ],
      "metadata": {
        "id": "bndZfqP9q2d7"
      },
      "id": "bndZfqP9q2d7"
    },
    {
      "cell_type": "markdown",
      "source": [],
      "metadata": {
        "id": "AnWwRNalRXrW"
      },
      "id": "AnWwRNalRXrW"
    },
    {
      "cell_type": "markdown",
      "source": [
        "## **3) Pretrained Word Embeddings - Word2vec**\n",
        "\n",
        "While it's useful to know how word embedding models are developed, both from a learning stand point and in case you ever want to train your own, often times it's sufficient to use a pretrained model, to save yourself a lot of time and effort.\n",
        "\n",
        "Let's check out one of the pretrained word2vec models from `gensim`."
      ],
      "metadata": {
        "id": "U-fpLZArRZ35"
      },
      "id": "U-fpLZArRZ35"
    },
    {
      "cell_type": "code",
      "source": [
        "from gensim.models import word2vec\n",
        "\n",
        "wpt = nltk.WordPunctTokenizer()\n",
        "tokenized_corpus = [wpt.tokenize(document) for document in norm_sents]"
      ],
      "metadata": {
        "id": "tSWRYBuL0sln"
      },
      "id": "tSWRYBuL0sln",
      "execution_count": null,
      "outputs": []
    },
    {
      "cell_type": "markdown",
      "source": [
        "> #### **A) Set the Word2Vec Parameters**"
      ],
      "metadata": {
        "id": "W73h3LBcSAlu"
      },
      "id": "W73h3LBcSAlu"
    },
    {
      "cell_type": "code",
      "source": [
        "feature_size = 100   # word vector dimensionality\n",
        "window_context = 30  # context window size\n",
        "min_word_count = 1   # minium word word\n",
        "sample = 1e-3        # down-sample setting for frequent words\n",
        "\n",
        "w2v_model = word2vec.Word2Vec(tokenized_corpus, size = feature_size, \n",
        "                             window = window_context, min_count = min_word_count, sample = sample, iter = 50) # in jupyter notebooks use vector_size and epochs \n",
        "\n",
        "similar_words = {search_term: [item[0]\n",
        "                        for item in w2v_model.wv.most_similar([search_term],\n",
        "                                                                        topn=5)]\n",
        "                              for search_term in ['god', 'jesus', 'noah',\n",
        "                                                      'egypt', 'john', 'moses', 'famine']}"
      ],
      "metadata": {
        "id": "jAJUPmuD04I2"
      },
      "id": "jAJUPmuD04I2",
      "execution_count": null,
      "outputs": []
    },
    {
      "cell_type": "code",
      "source": [
        "similar_words"
      ],
      "metadata": {
        "colab": {
          "base_uri": "https://localhost:8080/"
        },
        "id": "X5TW70MZ2auv",
        "outputId": "a520baf8-f649-4511-d167-bbd4f873dac5"
      },
      "id": "X5TW70MZ2auv",
      "execution_count": null,
      "outputs": [
        {
          "output_type": "execute_result",
          "data": {
            "text/plain": [
              "{'god': ['lord', 'reasonable', 'worldly', 'rebellion', 'promised'],\n",
              " 'jesus': ['peter', 'messias', 'apelles', 'epaenetus', 'impotent'],\n",
              " 'noah': ['shem', 'japheth', 'ham', 'noahs', 'enoch'],\n",
              " 'egypt': ['pharaoh', 'egyptians', 'bondage', 'pharaohs', 'rod'],\n",
              " 'john': ['baptist', 'james', 'reasoned', 'andrew', 'tetrarch'],\n",
              " 'moses': ['congregation', 'aaron', 'joshua', 'children', 'sinai'],\n",
              " 'famine': ['pestilence', 'noisome', 'blasting', 'mildew', 'overtaketh']}"
            ]
          },
          "metadata": {},
          "execution_count": 49
        }
      ]
    },
    {
      "cell_type": "markdown",
      "source": [
        "**How does the Gensim word2vec compare with the model you trained? How might the number of epochs influence these differences?**"
      ],
      "metadata": {
        "id": "rtHfCRQo2udz"
      },
      "id": "rtHfCRQo2udz"
    },
    {
      "cell_type": "markdown",
      "source": [],
      "metadata": {
        "id": "4FN03I5hSW6A"
      },
      "id": "4FN03I5hSW6A"
    },
    {
      "cell_type": "markdown",
      "source": [
        "> #### **B) Produce a lower-dimensional plot of the word-embeddings to visualize word similarity**"
      ],
      "metadata": {
        "id": "T9vwDwYISaM8"
      },
      "id": "T9vwDwYISaM8"
    },
    {
      "cell_type": "code",
      "source": [
        "from sklearn.manifold import TSNE\n",
        "import matplotlib.pyplot as plt\n",
        "\n",
        "words = sum([[k] + v for k, v in similar_words.items()], [])                                                # extract word labels, assign to words\n",
        "wvs = w2v_model.wv[words]                                                                                   # save word vectors for each word\n",
        "\n",
        "tsne = TSNE(n_components=2, random_state=0, n_iter=10000, perplexity=2)                                     # apply TSNE to reduce dimensionality to 2\n",
        "np.set_printoptions(suppress=True)                                                                          \n",
        "T = tsne.fit_transform(wvs)                                                                                 # fit TSNE to word vectors\n",
        "labels = words                                                                                              # assign words to labels\n",
        "\n",
        "plt.figure(figsize=(16,10))                                                                                 # set figuresize\n",
        "plt.scatter(T[:,0], T[:,1], c='orange', edgecolors='r')                                                     # plot the 2 dimension word vectors using scatterplot \n",
        "for label, x, y in zip(labels, T[:,0], T[:,1]):                                                             # apply word labels to data points\n",
        "    plt.annotate(label, xy=(x+1, y+1), xytext=(0,0), textcoords='offset points')"
      ],
      "metadata": {
        "colab": {
          "base_uri": "https://localhost:8080/",
          "height": 661
        },
        "id": "E9wODvnH07by",
        "outputId": "db18f7cb-ac89-4f58-bafb-855e484c7563"
      },
      "id": "E9wODvnH07by",
      "execution_count": null,
      "outputs": [
        {
          "output_type": "stream",
          "name": "stderr",
          "text": [
            "/usr/local/lib/python3.7/dist-packages/sklearn/manifold/_t_sne.py:783: FutureWarning: The default initialization in TSNE will change from 'random' to 'pca' in 1.2.\n",
            "  FutureWarning,\n",
            "/usr/local/lib/python3.7/dist-packages/sklearn/manifold/_t_sne.py:793: FutureWarning: The default learning rate in TSNE will change from 200.0 to 'auto' in 1.2.\n",
            "  FutureWarning,\n"
          ]
        },
        {
          "output_type": "display_data",
          "data": {
            "text/plain": [
              "<Figure size 1152x720 with 1 Axes>"
            ],
            "image/png": "[encoded data removed]"
          },
          "metadata": {
            "needs_background": "light"
          }
        }
      ]
    },
    {
      "cell_type": "markdown",
      "source": [
        "> **What words clustered together? Are any of the clusterings sensible?**"
      ],
      "metadata": {
        "id": "6fIrGE0cTtpV"
      },
      "id": "6fIrGE0cTtpV"
    },
    {
      "cell_type": "markdown",
      "source": [],
      "metadata": {
        "id": "FN3209rAT1LY"
      },
      "id": "FN3209rAT1LY"
    },
    {
      "cell_type": "markdown",
      "source": [
        "> #### **C) Applying Word2Vec Features to Document Clustering Task**\n",
        "\n",
        "> **Let's bring in our toy corpus from Part 1 and apply the gensim word2vec model to produce word embeddings for our new vocab set.**"
      ],
      "metadata": {
        "id": "SSWCfaLQ4DgC"
      },
      "id": "SSWCfaLQ4DgC"
    },
    {
      "cell_type": "code",
      "source": [
        "corpus = ['The sky is blue 12 and beautiful.',\n",
        "          'Love this blue and beautiful sky!',\n",
        "          'The quick brown fox jumps over the lazy dog.',\n",
        "          \"A king's breakfast has sausages, ham, bacon, eggs, toast, and beans.\",\n",
        "          'I love green eggs, ham, sausages and bacon!',\n",
        "          'The brown fox is quick and the blue dog is lazy!',\n",
        "          'The sky is very blue and the sky is very beautiful today',\n",
        "          'The dog is lazy but the brown fox is quick'\n",
        "]\n",
        "\n",
        "labels = ['weather', 'weather', 'animal', 'food', 'food', 'animal', 'weather', 'animal']\n",
        "\n",
        "corpus = np.array(corpus)\n",
        "corpus_df = pd.DataFrame({'Document': corpus, 'Category':labels})\n",
        "\n",
        "normalize_corpus = np.vectorize(normalize_document)  \n",
        "norm_corpus = normalize_corpus(corpus)"
      ],
      "metadata": {
        "id": "WeTUeMqW4NIV"
      },
      "id": "WeTUeMqW4NIV",
      "execution_count": null,
      "outputs": []
    },
    {
      "cell_type": "code",
      "source": [
        "norm_corpus = [remove_punc(i) for i in norm_corpus]\n",
        "norm_corpus"
      ],
      "metadata": {
        "colab": {
          "base_uri": "https://localhost:8080/"
        },
        "id": "sb9s2RpApcbA",
        "outputId": "b4dc3202-1c8a-4715-fa12-0f2ed4fae0c7"
      },
      "id": "sb9s2RpApcbA",
      "execution_count": null,
      "outputs": [
        {
          "output_type": "execute_result",
          "data": {
            "text/plain": [
              "['sky blue beautiful  ',\n",
              " 'love blue beautiful sky',\n",
              " 'quick brown fox jumps lazy dog  ',\n",
              " 'kings breakfast sausages ham bacon eggs toast beans  ',\n",
              " 'love green eggs ham sausages bacon',\n",
              " 'brown fox quick blue dog lazy',\n",
              " 'sky blue sky beautiful today',\n",
              " 'dog lazy brown fox quick']"
            ]
          },
          "metadata": {},
          "execution_count": 71
        }
      ]
    },
    {
      "cell_type": "code",
      "source": [
        "tokenized_corpus = [wpt.tokenize(document) for document in norm_corpus]                                             # tokenize corpus\n",
        "\n",
        "feature_size = 10                                                                                                   # set word2vec parameters\n",
        "window_context = 10\n",
        "min_word_count = 1\n",
        "sample = 1e-3"
      ],
      "metadata": {
        "id": "N5U53bXx4biU"
      },
      "id": "N5U53bXx4biU",
      "execution_count": null,
      "outputs": []
    },
    {
      "cell_type": "code",
      "source": [
        "w2v_model = word2vec.Word2Vec(tokenized_corpus, size=feature_size, window=window_context, min_count=min_word_count, sample=sample, iter=100) # fit word2vec to corpus"
      ],
      "metadata": {
        "colab": {
          "base_uri": "https://localhost:8080/"
        },
        "id": "pkXc_btv4p6X",
        "outputId": "a22c89a7-d4c1-4cc7-f31c-d231264797f1"
      },
      "id": "pkXc_btv4p6X",
      "execution_count": null,
      "outputs": [
        {
          "output_type": "stream",
          "name": "stderr",
          "text": [
            "WARNING:gensim.models.base_any2vec:consider setting layer size to a multiple of 4 for greater performance\n"
          ]
        }
      ]
    },
    {
      "cell_type": "code",
      "source": [
        "from sklearn.manifold import TSNE\n",
        "words = w2v_model.wv.index2word\n",
        "wvs = w2v_model.wv[words]\n",
        "tsne = TSNE(n_components=2, random_state=0, n_iter=5000, perplexity=2)\n",
        "np.set_printoptions(suppress=True)\n",
        "T = tsne.fit_transform(wvs)\n",
        "labels = words\n",
        "plt.figure(figsize=(12,6))\n",
        "plt.scatter(T[:,0], T[:,1], c='orange', edgecolors='r')\n",
        "for label, x, y in zip(labels, T[:,0], T[:,1]):\n",
        "  plt.annotate(label, xy=(x+1, y+1), xytext=(0,0), textcoords='offset points')                                          # produce 2 dimensional scatterplot of word embeddings\n",
        "\n"
      ],
      "metadata": {
        "colab": {
          "base_uri": "https://localhost:8080/",
          "height": 443
        },
        "id": "97wEgBBa43Ua",
        "outputId": "82a817de-bd61-4025-fec4-08c228c3b31a"
      },
      "id": "97wEgBBa43Ua",
      "execution_count": null,
      "outputs": [
        {
          "output_type": "stream",
          "name": "stderr",
          "text": [
            "/usr/local/lib/python3.7/dist-packages/sklearn/manifold/_t_sne.py:783: FutureWarning: The default initialization in TSNE will change from 'random' to 'pca' in 1.2.\n",
            "  FutureWarning,\n",
            "/usr/local/lib/python3.7/dist-packages/sklearn/manifold/_t_sne.py:793: FutureWarning: The default learning rate in TSNE will change from 200.0 to 'auto' in 1.2.\n",
            "  FutureWarning,\n"
          ]
        },
        {
          "output_type": "display_data",
          "data": {
            "text/plain": [
              "<Figure size 864x432 with 1 Axes>"
            ],
            "image/png": "[encoded data removed]"
          },
          "metadata": {
            "needs_background": "light"
          }
        }
      ]
    },
    {
      "cell_type": "markdown",
      "source": [
        "**Which if any clusters of words make sense, semantically? Which do not?**"
      ],
      "metadata": {
        "id": "Gnc5fHUAWJpv"
      },
      "id": "Gnc5fHUAWJpv"
    },
    {
      "cell_type": "markdown",
      "source": [],
      "metadata": {
        "id": "fKxE-SG8WfG2"
      },
      "id": "fKxE-SG8WfG2"
    },
    {
      "cell_type": "markdown",
      "source": [
        "**Now we need to create two functions to create average word vectors across all documents so that each word has an average vector value; then we will create a average word vectorizer, so that each document has an average vector across all words in each document...**"
      ],
      "metadata": {
        "id": "R-szpBWG-4Dh"
      },
      "id": "R-szpBWG-4Dh"
    },
    {
      "cell_type": "code",
      "source": [
        "w2v_model.wv['sky']                                             # produce the weights for one word, \"sky\""
      ],
      "metadata": {
        "colab": {
          "base_uri": "https://localhost:8080/"
        },
        "id": "dyJDLVMu6DvC",
        "outputId": "0317b124-590b-4312-fbe6-0b3bc97b003b"
      },
      "id": "dyJDLVMu6DvC",
      "execution_count": null,
      "outputs": [
        {
          "output_type": "execute_result",
          "data": {
            "text/plain": [
              "array([ 0.03142487, -0.02623807,  0.04057728,  0.0303534 , -0.00462514,\n",
              "        0.01968556, -0.01655265,  0.02726672,  0.00124269, -0.04227021],\n",
              "      dtype=float32)"
            ]
          },
          "metadata": {},
          "execution_count": 75
        }
      ]
    },
    {
      "cell_type": "code",
      "source": [
        "def average_word_vectors(words, model, vocabulary, num_features):\n",
        "  feature_vector = np.zeros((num_features,), dtype='float64')\n",
        "  nwords= 0.\n",
        "\n",
        "  for word in words:\n",
        "    if word in vocabulary:\n",
        "      nwords = nwords + 1.\n",
        "      feature_vector = np.add(feature_vector, model[word])\n",
        "  if nwords:\n",
        "    feature_vector = np.divide(feature_vector, nwords)\n",
        "  return feature_vector                                                                                                       # return average word vector\n",
        "\n",
        "\n",
        "def average_word_vectorizer(corpus, model, num_features):\n",
        "  vocabulary = set(model.wv.index2word)\n",
        "  features = [average_word_vectors(tokenized_sentence, model, vocabulary, num_features) for tokenized_sentence in corpus]     # return averge vector for each document in corpus\n",
        "  return np.array(features)\n",
        "\n",
        "\n",
        "w2v_feature_array = average_word_vectorizer(corpus = tokenized_corpus, model=w2v_model, num_features = feature_size)          # create array of document vectors\n",
        "pd.DataFrame(w2v_feature_array)"
      ],
      "metadata": {
        "colab": {
          "base_uri": "https://localhost:8080/",
          "height": 335
        },
        "id": "eGpADuI86IOj",
        "outputId": "f5466900-477f-4e7f-fbb1-2ef879730235"
      },
      "id": "eGpADuI86IOj",
      "execution_count": null,
      "outputs": [
        {
          "output_type": "stream",
          "name": "stderr",
          "text": [
            "/usr/local/lib/python3.7/dist-packages/ipykernel_launcher.py:8: DeprecationWarning: Call to deprecated `__getitem__` (Method will be removed in 4.0.0, use self.wv.__getitem__() instead).\n",
            "  \n"
          ]
        },
        {
          "output_type": "execute_result",
          "data": {
            "text/plain": [
              "          0         1         2         3         4         5         6  \\\n",
              "0  0.000778 -0.019157  0.011116  0.014205  0.013862  0.004670 -0.025071   \n",
              "1 -0.009925 -0.009850  0.006837  0.017192  0.003799 -0.005535 -0.021570   \n",
              "2  0.019120 -0.017131 -0.010629 -0.013366 -0.002883 -0.009847 -0.007844   \n",
              "3 -0.002872 -0.016373  0.011336 -0.014718  0.015384  0.011542 -0.005656   \n",
              "4  0.001710 -0.007994  0.003900 -0.005563 -0.006618 -0.002372 -0.017166   \n",
              "5  0.007777 -0.014513 -0.007415  0.000116  0.006153 -0.003643 -0.012213   \n",
              "6  0.015364 -0.013355  0.022952  0.004909  0.007577  0.014082 -0.022396   \n",
              "7  0.015822 -0.011796 -0.012713 -0.008459  0.004675 -0.008009 -0.009197   \n",
              "\n",
              "          7         8         9  \n",
              "0  0.019890  0.014676 -0.013037  \n",
              "1  0.008432  0.006246 -0.002858  \n",
              "2 -0.018982  0.016667 -0.006150  \n",
              "3 -0.004192 -0.009505 -0.015273  \n",
              "4 -0.011674 -0.017651  0.007205  \n",
              "5 -0.018052  0.021424 -0.019363  \n",
              "6  0.007976  0.011104 -0.023457  \n",
              "7 -0.020829  0.016602 -0.014148  "
            ],
            "text/html": [
              "\n",
              "  <div id=\"df-bfb89ffd-aeef-4845-b2d9-f4d00648d826\">\n",
              "    <div class=\"colab-df-container\">\n",
              "      <div>\n",
              "<style scoped>\n",
              "    .dataframe tbody tr th:only-of-type {\n",
              "        vertical-align: middle;\n",
              "    }\n",
              "\n",
              "    .dataframe tbody tr th {\n",
              "        vertical-align: top;\n",
              "    }\n",
              "\n",
              "    .dataframe thead th {\n",
              "        text-align: right;\n",
              "    }\n",
              "</style>\n",
              "<table border=\"1\" class=\"dataframe\">\n",
              "  <thead>\n",
              "    <tr style=\"text-align: right;\">\n",
              "      <th></th>\n",
              "      <th>0</th>\n",
              "      <th>1</th>\n",
              "      <th>2</th>\n",
              "      <th>3</th>\n",
              "      <th>4</th>\n",
              "      <th>5</th>\n",
              "      <th>6</th>\n",
              "      <th>7</th>\n",
              "      <th>8</th>\n",
              "      <th>9</th>\n",
              "    </tr>\n",
              "  </thead>\n",
              "  <tbody>\n",
              "    <tr>\n",
              "      <th>0</th>\n",
              "      <td>0.000778</td>\n",
              "      <td>-0.019157</td>\n",
              "      <td>0.011116</td>\n",
              "      <td>0.014205</td>\n",
              "      <td>0.013862</td>\n",
              "      <td>0.004670</td>\n",
              "      <td>-0.025071</td>\n",
              "      <td>0.019890</td>\n",
              "      <td>0.014676</td>\n",
              "      <td>-0.013037</td>\n",
              "    </tr>\n",
              "    <tr>\n",
              "      <th>1</th>\n",
              "      <td>-0.009925</td>\n",
              "      <td>-0.009850</td>\n",
              "      <td>0.006837</td>\n",
              "      <td>0.017192</td>\n",
              "      <td>0.003799</td>\n",
              "      <td>-0.005535</td>\n",
              "      <td>-0.021570</td>\n",
              "      <td>0.008432</td>\n",
              "      <td>0.006246</td>\n",
              "      <td>-0.002858</td>\n",
              "    </tr>\n",
              "    <tr>\n",
              "      <th>2</th>\n",
              "      <td>0.019120</td>\n",
              "      <td>-0.017131</td>\n",
              "      <td>-0.010629</td>\n",
              "      <td>-0.013366</td>\n",
              "      <td>-0.002883</td>\n",
              "      <td>-0.009847</td>\n",
              "      <td>-0.007844</td>\n",
              "      <td>-0.018982</td>\n",
              "      <td>0.016667</td>\n",
              "      <td>-0.006150</td>\n",
              "    </tr>\n",
              "    <tr>\n",
              "      <th>3</th>\n",
              "      <td>-0.002872</td>\n",
              "      <td>-0.016373</td>\n",
              "      <td>0.011336</td>\n",
              "      <td>-0.014718</td>\n",
              "      <td>0.015384</td>\n",
              "      <td>0.011542</td>\n",
              "      <td>-0.005656</td>\n",
              "      <td>-0.004192</td>\n",
              "      <td>-0.009505</td>\n",
              "      <td>-0.015273</td>\n",
              "    </tr>\n",
              "    <tr>\n",
              "      <th>4</th>\n",
              "      <td>0.001710</td>\n",
              "      <td>-0.007994</td>\n",
              "      <td>0.003900</td>\n",
              "      <td>-0.005563</td>\n",
              "      <td>-0.006618</td>\n",
              "      <td>-0.002372</td>\n",
              "      <td>-0.017166</td>\n",
              "      <td>-0.011674</td>\n",
              "      <td>-0.017651</td>\n",
              "      <td>0.007205</td>\n",
              "    </tr>\n",
              "    <tr>\n",
              "      <th>5</th>\n",
              "      <td>0.007777</td>\n",
              "      <td>-0.014513</td>\n",
              "      <td>-0.007415</td>\n",
              "      <td>0.000116</td>\n",
              "      <td>0.006153</td>\n",
              "      <td>-0.003643</td>\n",
              "      <td>-0.012213</td>\n",
              "      <td>-0.018052</td>\n",
              "      <td>0.021424</td>\n",
              "      <td>-0.019363</td>\n",
              "    </tr>\n",
              "    <tr>\n",
              "      <th>6</th>\n",
              "      <td>0.015364</td>\n",
              "      <td>-0.013355</td>\n",
              "      <td>0.022952</td>\n",
              "      <td>0.004909</td>\n",
              "      <td>0.007577</td>\n",
              "      <td>0.014082</td>\n",
              "      <td>-0.022396</td>\n",
              "      <td>0.007976</td>\n",
              "      <td>0.011104</td>\n",
              "      <td>-0.023457</td>\n",
              "    </tr>\n",
              "    <tr>\n",
              "      <th>7</th>\n",
              "      <td>0.015822</td>\n",
              "      <td>-0.011796</td>\n",
              "      <td>-0.012713</td>\n",
              "      <td>-0.008459</td>\n",
              "      <td>0.004675</td>\n",
              "      <td>-0.008009</td>\n",
              "      <td>-0.009197</td>\n",
              "      <td>-0.020829</td>\n",
              "      <td>0.016602</td>\n",
              "      <td>-0.014148</td>\n",
              "    </tr>\n",
              "  </tbody>\n",
              "</table>\n",
              "</div>\n",
              "      <button class=\"colab-df-convert\" onclick=\"convertToInteractive('df-bfb89ffd-aeef-4845-b2d9-f4d00648d826')\"\n",
              "              title=\"Convert this dataframe to an interactive table.\"\n",
              "              style=\"display:none;\">\n",
              "        \n",
              "  <svg xmlns=\"http://www.w3.org/2000/svg\" height=\"24px\"viewBox=\"0 0 24 24\"\n",
              "       width=\"24px\">\n",
              "    <path d=\"M0 0h24v24H0V0z\" fill=\"none\"/>\n",
              "    <path d=\"M18.56 5.44l.94 2.06.94-2.06 2.06-.94-2.06-.94-.94-2.06-.94 2.06-2.06.94zm-11 1L8.5 8.5l.94-2.06 2.06-.94-2.06-.94L8.5 2.5l-.94 2.06-2.06.94zm10 10l.94 2.06.94-2.06 2.06-.94-2.06-.94-.94-2.06-.94 2.06-2.06.94z\"/><path d=\"M17.41 7.96l-1.37-1.37c-.4-.4-.92-.59-1.43-.59-.52 0-1.04.2-1.43.59L10.3 9.45l-7.72 7.72c-.78.78-.78 2.05 0 2.83L4 21.41c.39.39.9.59 1.41.59.51 0 1.02-.2 1.41-.59l7.78-7.78 2.81-2.81c.8-.78.8-2.07 0-2.86zM5.41 20L4 18.59l7.72-7.72 1.47 1.35L5.41 20z\"/>\n",
              "  </svg>\n",
              "      </button>\n",
              "      \n",
              "  <style>\n",
              "    .colab-df-container {\n",
              "      display:flex;\n",
              "      flex-wrap:wrap;\n",
              "      gap: 12px;\n",
              "    }\n",
              "\n",
              "    .colab-df-convert {\n",
              "      background-color: #E8F0FE;\n",
              "      border: none;\n",
              "      border-radius: 50%;\n",
              "      cursor: pointer;\n",
              "      display: none;\n",
              "      fill: #1967D2;\n",
              "      height: 32px;\n",
              "      padding: 0 0 0 0;\n",
              "      width: 32px;\n",
              "    }\n",
              "\n",
              "    .colab-df-convert:hover {\n",
              "      background-color: #E2EBFA;\n",
              "      box-shadow: 0px 1px 2px rgba(60, 64, 67, 0.3), 0px 1px 3px 1px rgba(60, 64, 67, 0.15);\n",
              "      fill: #174EA6;\n",
              "    }\n",
              "\n",
              "    [theme=dark] .colab-df-convert {\n",
              "      background-color: #3B4455;\n",
              "      fill: #D2E3FC;\n",
              "    }\n",
              "\n",
              "    [theme=dark] .colab-df-convert:hover {\n",
              "      background-color: #434B5C;\n",
              "      box-shadow: 0px 1px 3px 1px rgba(0, 0, 0, 0.15);\n",
              "      filter: drop-shadow(0px 1px 2px rgba(0, 0, 0, 0.3));\n",
              "      fill: #FFFFFF;\n",
              "    }\n",
              "  </style>\n",
              "\n",
              "      <script>\n",
              "        const buttonEl =\n",
              "          document.querySelector('#df-bfb89ffd-aeef-4845-b2d9-f4d00648d826 button.colab-df-convert');\n",
              "        buttonEl.style.display =\n",
              "          google.colab.kernel.accessAllowed ? 'block' : 'none';\n",
              "\n",
              "        async function convertToInteractive(key) {\n",
              "          const element = document.querySelector('#df-bfb89ffd-aeef-4845-b2d9-f4d00648d826');\n",
              "          const dataTable =\n",
              "            await google.colab.kernel.invokeFunction('convertToInteractive',\n",
              "                                                     [key], {});\n",
              "          if (!dataTable) return;\n",
              "\n",
              "          const docLinkHtml = 'Like what you see? Visit the ' +\n",
              "            '<a target=\"_blank\" href=https://colab.research.google.com/notebooks/data_table.ipynb>data table notebook</a>'\n",
              "            + ' to learn more about interactive tables.';\n",
              "          element.innerHTML = '';\n",
              "          dataTable['output_type'] = 'display_data';\n",
              "          await google.colab.output.renderOutput(dataTable, element);\n",
              "          const docLink = document.createElement('div');\n",
              "          docLink.innerHTML = docLinkHtml;\n",
              "          element.appendChild(docLink);\n",
              "        }\n",
              "      </script>\n",
              "    </div>\n",
              "  </div>\n",
              "  "
            ]
          },
          "metadata": {},
          "execution_count": 76
        }
      ]
    },
    {
      "cell_type": "markdown",
      "source": [
        "**Why are there 8 rows? Why are there 10 columns and not the size of our vocab?**"
      ],
      "metadata": {
        "id": "UCqMkEdgAHCS"
      },
      "id": "UCqMkEdgAHCS"
    },
    {
      "cell_type": "markdown",
      "source": [
        "We set our feature size to 10, so instead of having a feature for each vocab word, we have 10 averaged embedding values that represent the \"meaning\" of each document..."
      ],
      "metadata": {
        "id": "QDe-djvAAPMu"
      },
      "id": "QDe-djvAAPMu"
    },
    {
      "cell_type": "markdown",
      "source": [
        "**Now let's use our document embeddings and perform a clustering analysis to examine how the documents are grouped. We will use `AffinityPropagation` from `sklearn` to produce our clusters; then we'll append the cluster label to our corpus dataframe.**"
      ],
      "metadata": {
        "id": "0L5YcmqkARIo"
      },
      "id": "0L5YcmqkARIo"
    },
    {
      "cell_type": "code",
      "source": [
        "from sklearn.cluster import AffinityPropagation\n",
        "\n",
        "ap = AffinityPropagation()\n",
        "ap.fit(w2v_feature_array)\n",
        "cluster_labels = ap.labels_\n",
        "\n",
        "cluster_labels = pd.DataFrame(cluster_labels, columns=['Cluster Label'])\n",
        "pd.concat([corpus_df, cluster_labels], axis=1)                  "
      ],
      "metadata": {
        "colab": {
          "base_uri": "https://localhost:8080/",
          "height": 300
        },
        "id": "-DolCgFX7T6J",
        "outputId": "58dfb553-21f3-4864-89bf-c7d6961694c3"
      },
      "id": "-DolCgFX7T6J",
      "execution_count": null,
      "outputs": [
        {
          "output_type": "execute_result",
          "data": {
            "text/plain": [
              "                                            Document Category  Cluster Label\n",
              "0                  The sky is blue 12 and beautiful.  weather              0\n",
              "1                  Love this blue and beautiful sky!  weather              0\n",
              "2       The quick brown fox jumps over the lazy dog.   animal              2\n",
              "3  A king's breakfast has sausages, ham, bacon, e...     food              1\n",
              "4        I love green eggs, ham, sausages and bacon!     food              1\n",
              "5   The brown fox is quick and the blue dog is lazy!   animal              2\n",
              "6  The sky is very blue and the sky is very beaut...  weather              0\n",
              "7         The dog is lazy but the brown fox is quick   animal              2"
            ],
            "text/html": [
              "\n",
              "  <div id=\"df-e986a94e-6dd0-4558-91d4-04de00f3852e\">\n",
              "    <div class=\"colab-df-container\">\n",
              "      <div>\n",
              "<style scoped>\n",
              "    .dataframe tbody tr th:only-of-type {\n",
              "        vertical-align: middle;\n",
              "    }\n",
              "\n",
              "    .dataframe tbody tr th {\n",
              "        vertical-align: top;\n",
              "    }\n",
              "\n",
              "    .dataframe thead th {\n",
              "        text-align: right;\n",
              "    }\n",
              "</style>\n",
              "<table border=\"1\" class=\"dataframe\">\n",
              "  <thead>\n",
              "    <tr style=\"text-align: right;\">\n",
              "      <th></th>\n",
              "      <th>Document</th>\n",
              "      <th>Category</th>\n",
              "      <th>Cluster Label</th>\n",
              "    </tr>\n",
              "  </thead>\n",
              "  <tbody>\n",
              "    <tr>\n",
              "      <th>0</th>\n",
              "      <td>The sky is blue 12 and beautiful.</td>\n",
              "      <td>weather</td>\n",
              "      <td>0</td>\n",
              "    </tr>\n",
              "    <tr>\n",
              "      <th>1</th>\n",
              "      <td>Love this blue and beautiful sky!</td>\n",
              "      <td>weather</td>\n",
              "      <td>0</td>\n",
              "    </tr>\n",
              "    <tr>\n",
              "      <th>2</th>\n",
              "      <td>The quick brown fox jumps over the lazy dog.</td>\n",
              "      <td>animal</td>\n",
              "      <td>2</td>\n",
              "    </tr>\n",
              "    <tr>\n",
              "      <th>3</th>\n",
              "      <td>A king's breakfast has sausages, ham, bacon, e...</td>\n",
              "      <td>food</td>\n",
              "      <td>1</td>\n",
              "    </tr>\n",
              "    <tr>\n",
              "      <th>4</th>\n",
              "      <td>I love green eggs, ham, sausages and bacon!</td>\n",
              "      <td>food</td>\n",
              "      <td>1</td>\n",
              "    </tr>\n",
              "    <tr>\n",
              "      <th>5</th>\n",
              "      <td>The brown fox is quick and the blue dog is lazy!</td>\n",
              "      <td>animal</td>\n",
              "      <td>2</td>\n",
              "    </tr>\n",
              "    <tr>\n",
              "      <th>6</th>\n",
              "      <td>The sky is very blue and the sky is very beaut...</td>\n",
              "      <td>weather</td>\n",
              "      <td>0</td>\n",
              "    </tr>\n",
              "    <tr>\n",
              "      <th>7</th>\n",
              "      <td>The dog is lazy but the brown fox is quick</td>\n",
              "      <td>animal</td>\n",
              "      <td>2</td>\n",
              "    </tr>\n",
              "  </tbody>\n",
              "</table>\n",
              "</div>\n",
              "      <button class=\"colab-df-convert\" onclick=\"convertToInteractive('df-e986a94e-6dd0-4558-91d4-04de00f3852e')\"\n",
              "              title=\"Convert this dataframe to an interactive table.\"\n",
              "              style=\"display:none;\">\n",
              "        \n",
              "  <svg xmlns=\"http://www.w3.org/2000/svg\" height=\"24px\"viewBox=\"0 0 24 24\"\n",
              "       width=\"24px\">\n",
              "    <path d=\"M0 0h24v24H0V0z\" fill=\"none\"/>\n",
              "    <path d=\"M18.56 5.44l.94 2.06.94-2.06 2.06-.94-2.06-.94-.94-2.06-.94 2.06-2.06.94zm-11 1L8.5 8.5l.94-2.06 2.06-.94-2.06-.94L8.5 2.5l-.94 2.06-2.06.94zm10 10l.94 2.06.94-2.06 2.06-.94-2.06-.94-.94-2.06-.94 2.06-2.06.94z\"/><path d=\"M17.41 7.96l-1.37-1.37c-.4-.4-.92-.59-1.43-.59-.52 0-1.04.2-1.43.59L10.3 9.45l-7.72 7.72c-.78.78-.78 2.05 0 2.83L4 21.41c.39.39.9.59 1.41.59.51 0 1.02-.2 1.41-.59l7.78-7.78 2.81-2.81c.8-.78.8-2.07 0-2.86zM5.41 20L4 18.59l7.72-7.72 1.47 1.35L5.41 20z\"/>\n",
              "  </svg>\n",
              "      </button>\n",
              "      \n",
              "  <style>\n",
              "    .colab-df-container {\n",
              "      display:flex;\n",
              "      flex-wrap:wrap;\n",
              "      gap: 12px;\n",
              "    }\n",
              "\n",
              "    .colab-df-convert {\n",
              "      background-color: #E8F0FE;\n",
              "      border: none;\n",
              "      border-radius: 50%;\n",
              "      cursor: pointer;\n",
              "      display: none;\n",
              "      fill: #1967D2;\n",
              "      height: 32px;\n",
              "      padding: 0 0 0 0;\n",
              "      width: 32px;\n",
              "    }\n",
              "\n",
              "    .colab-df-convert:hover {\n",
              "      background-color: #E2EBFA;\n",
              "      box-shadow: 0px 1px 2px rgba(60, 64, 67, 0.3), 0px 1px 3px 1px rgba(60, 64, 67, 0.15);\n",
              "      fill: #174EA6;\n",
              "    }\n",
              "\n",
              "    [theme=dark] .colab-df-convert {\n",
              "      background-color: #3B4455;\n",
              "      fill: #D2E3FC;\n",
              "    }\n",
              "\n",
              "    [theme=dark] .colab-df-convert:hover {\n",
              "      background-color: #434B5C;\n",
              "      box-shadow: 0px 1px 3px 1px rgba(0, 0, 0, 0.15);\n",
              "      filter: drop-shadow(0px 1px 2px rgba(0, 0, 0, 0.3));\n",
              "      fill: #FFFFFF;\n",
              "    }\n",
              "  </style>\n",
              "\n",
              "      <script>\n",
              "        const buttonEl =\n",
              "          document.querySelector('#df-e986a94e-6dd0-4558-91d4-04de00f3852e button.colab-df-convert');\n",
              "        buttonEl.style.display =\n",
              "          google.colab.kernel.accessAllowed ? 'block' : 'none';\n",
              "\n",
              "        async function convertToInteractive(key) {\n",
              "          const element = document.querySelector('#df-e986a94e-6dd0-4558-91d4-04de00f3852e');\n",
              "          const dataTable =\n",
              "            await google.colab.kernel.invokeFunction('convertToInteractive',\n",
              "                                                     [key], {});\n",
              "          if (!dataTable) return;\n",
              "\n",
              "          const docLinkHtml = 'Like what you see? Visit the ' +\n",
              "            '<a target=\"_blank\" href=https://colab.research.google.com/notebooks/data_table.ipynb>data table notebook</a>'\n",
              "            + ' to learn more about interactive tables.';\n",
              "          element.innerHTML = '';\n",
              "          dataTable['output_type'] = 'display_data';\n",
              "          await google.colab.output.renderOutput(dataTable, element);\n",
              "          const docLink = document.createElement('div');\n",
              "          docLink.innerHTML = docLinkHtml;\n",
              "          element.appendChild(docLink);\n",
              "        }\n",
              "      </script>\n",
              "    </div>\n",
              "  </div>\n",
              "  "
            ]
          },
          "metadata": {},
          "execution_count": 77
        }
      ]
    },
    {
      "cell_type": "markdown",
      "source": [
        "**Do the cluster labels match up with the number/assignment of categories we completed last time?**"
      ],
      "metadata": {
        "id": "csjcp1u6A_Uj"
      },
      "id": "csjcp1u6A_Uj"
    },
    {
      "cell_type": "markdown",
      "source": [],
      "metadata": {
        "id": "vSGESAQbBHHr"
      },
      "id": "vSGESAQbBHHr"
    },
    {
      "cell_type": "markdown",
      "source": [
        "**Finally, let's plot our document vectors to see where each of them fall within their clusters. We'll also utilize coloring based on cluster to make it a bit easier to read. We can reduce our document vectors down to 2 dimensions using a principal component analysis and scatterplot.**"
      ],
      "metadata": {
        "id": "0-t905KDBN7A"
      },
      "id": "0-t905KDBN7A"
    },
    {
      "cell_type": "code",
      "source": [
        "from sklearn.decomposition import PCA\n",
        "\n",
        "pca = PCA(n_components=2, random_state=0)                                       # set parameters of PCA with 2 principle components\n",
        "pcs = pca.fit_transform(w2v_feature_array)                                      # fit PCA to vector feature array to reduce dimensions\n",
        "labels = ap.labels_                                                             # set cluster numbers to labels\n",
        "categories = list(corpus_df['Category'])                                        # set corpus_df categories to categories\n",
        "plt.figure(figsize=(8,6))                                                       # set figuresize\n",
        "\n",
        "for i in range(len(labels)):\n",
        "  label = labels[i]\n",
        "  color = 'orange' if label == 0 else 'blue' if label == 1 else 'green' \n",
        "  annotation_label = categories[i]\n",
        "  x, y = pcs[i]\n",
        "  plt.scatter(x, y, c=color, edgecolors='k')                                    # produce scatterplot of 2-dimensional document vectors, colored and labeled by category\n",
        "  plt.annotate(annotation_label, xy=(x+1e-4, y+1e-3), xytext=(0,0), textcoords = 'offset points')"
      ],
      "metadata": {
        "colab": {
          "base_uri": "https://localhost:8080/",
          "height": 374
        },
        "id": "tNDAX4RC79qw",
        "outputId": "bd7dbace-f0b2-4a5b-eb26-6e20fdcb48f4"
      },
      "id": "tNDAX4RC79qw",
      "execution_count": null,
      "outputs": [
        {
          "output_type": "display_data",
          "data": {
            "text/plain": [
              "<Figure size 576x432 with 1 Axes>"
            ],
            "image/png": "[encoded data removed]"
          },
          "metadata": {
            "needs_background": "light"
          }
        }
      ]
    },
    {
      "cell_type": "markdown",
      "source": [
        "## **4) GloVe** Word Embeddings"
      ],
      "metadata": {
        "id": "x5U1a3OHs6cV"
      },
      "id": "x5U1a3OHs6cV"
    },
    {
      "cell_type": "markdown",
      "source": [
        "**Word2Vec is one option for pretrained word embeddings, but GloVe serves as an alternative model that oftentimes has better results with easier implementation. Here we will apply GloVe Features from `spacy` for the same Machine Learning Task**\n",
        "\n",
        "> #### **A) Apply Pretrained Word-Embeddings to Toy Corpus Vocab**"
      ],
      "metadata": {
        "id": "OpRZfFxF090P"
      },
      "id": "OpRZfFxF090P"
    },
    {
      "cell_type": "code",
      "source": [
        "!pip install spacy\n",
        "\n",
        "try: \n",
        "  spacy.load('en_core_web_lg')\n",
        "except:\n",
        "  !python -m spacy download en_core_web_lg                # 300 dimensional pretrained glove embeddings"
      ],
      "metadata": {
        "id": "pcLTuv6S08ud"
      },
      "id": "pcLTuv6S08ud",
      "execution_count": null,
      "outputs": []
    },
    {
      "cell_type": "code",
      "source": [
        "import spacy\n",
        "nlp = spacy.load('en_core_web_lg')                        # load pretrained glove embedding model "
      ],
      "metadata": {
        "id": "BwyQ3nASsvyI"
      },
      "id": "BwyQ3nASsvyI",
      "execution_count": null,
      "outputs": []
    },
    {
      "cell_type": "code",
      "source": [
        "total_vectors = len(nlp.vocab.vectors)                    # find the length of the total number of vectors applied to the vocab\n",
        "print('Total Word Vectors:', total_vectors)"
      ],
      "metadata": {
        "colab": {
          "base_uri": "https://localhost:8080/"
        },
        "id": "i2k6PBJW4gLV",
        "outputId": "6ed4ae50-cad7-46a1-900e-9e6f3d566b02"
      },
      "id": "i2k6PBJW4gLV",
      "execution_count": null,
      "outputs": [
        {
          "output_type": "stream",
          "name": "stdout",
          "text": [
            "Total Word Vectors: 514157\n"
          ]
        }
      ]
    },
    {
      "cell_type": "code",
      "source": [
        "unique_words = list(set([word for sublist in [doc.split() for doc in norm_corpus] for word in sublist]))        # produce vocab list from norm_corpus\n",
        "word_glove_vectors = np.array([nlp(word).vector for word in unique_words])                                      # apply word vectors to vocab from norm_corpus\n",
        "pd.DataFrame(word_glove_vectors, index=unique_words)                                                            # produce df of glove vectors, indexed by words"
      ],
      "metadata": {
        "colab": {
          "base_uri": "https://localhost:8080/",
          "height": 770
        },
        "id": "YbofMhsM4s4X",
        "outputId": "d9ed576a-b32c-4c72-de82-bdfc40cdb3ef"
      },
      "id": "YbofMhsM4s4X",
      "execution_count": null,
      "outputs": [
        {
          "output_type": "execute_result",
          "data": {
            "text/plain": [
              "               0         1        2          3        4         5         6    \\\n",
              "breakfast -0.68660 -1.726700 -3.00130  -1.110100  1.83890 -3.076600 -0.233690   \n",
              "eggs       0.94699 -3.802500 -5.22820   1.638600  4.74710 -3.459600 -2.239200   \n",
              "bacon      0.22776 -3.051600  0.26025   0.641570  2.04230 -3.136500  0.128790   \n",
              "blue      -4.31020  2.570600 -3.47220   2.520500 -1.11040 -5.101400 -1.481200   \n",
              "quick      2.63220  2.707800 -1.19830   2.149000  3.34010 -2.768000  0.285130   \n",
              "sausages  -0.95324 -3.505800 -1.52990   2.149900  3.81270 -1.850400 -0.960970   \n",
              "jumps      2.04220  3.634600  0.49222   0.074497  1.18540  2.842600 -0.042565   \n",
              "today      1.53330  1.622600  1.05520  -1.361500  0.97952 -0.828060  1.485400   \n",
              "green     -1.93390  0.314870 -4.39510   1.924700 -2.04800 -5.712100 -0.956200   \n",
              "lazy      -1.58880  0.733160  1.07460  -2.452100 -0.42517  3.334400 -0.179420   \n",
              "sky        7.15240  3.035600 -8.70400   0.937880 -3.67810 -0.035128  1.256800   \n",
              "beautiful -0.18931 -0.706820 -3.17310  -4.140700  0.70243 -0.692550  2.348700   \n",
              "brown     -3.84290  0.140680 -3.35840   3.267900 -2.15360 -6.508500  0.235120   \n",
              "ham        0.44278 -4.114100  1.23560   4.187300  1.62440 -1.260100 -1.643500   \n",
              "love       2.05650 -3.225900 -5.73640  -6.146000  0.15748 -2.428400  7.658000   \n",
              "toast     -1.93140  0.078516  1.47560   1.597600  1.57150 -2.340500  0.164920   \n",
              "fox        0.56940  1.003500 -2.79580  -6.990900 -1.94450  2.147300 -4.308900   \n",
              "kings     -1.87590 -3.145100  0.26432   2.512800  5.12880  1.515500 -3.733400   \n",
              "beans      0.93585 -0.450810 -4.95600   2.254800  1.21050 -1.667600  0.879590   \n",
              "dog        1.23300  4.296300 -7.97380 -10.121000  1.82070  1.409800 -4.518000   \n",
              "\n",
              "                7         8         9    ...       290      291      292  \\\n",
              "breakfast  1.013300 -2.023400  3.033700  ...  1.173600 -2.72720  1.57230   \n",
              "eggs       0.847490 -3.645700  3.273800  ...  6.575500  1.13930 -2.46300   \n",
              "bacon      0.181220 -1.535200  0.290250  ...  3.504000 -1.27140  4.07630   \n",
              "blue       4.655900  0.383650  2.477200  ... -5.250500  4.20530  2.92490   \n",
              "quick      0.959040 -3.211000  0.978550  ...  1.742100 -0.82167  2.79760   \n",
              "sausages   1.255800 -2.262700  1.484200  ...  3.824700 -0.62691  2.76300   \n",
              "jumps      5.634800  0.948340  0.402610  ... -0.538160  3.18240  1.99210   \n",
              "today      2.881700 -0.354000  0.344570  ...  3.243400 -1.53780  2.36610   \n",
              "green      2.792700 -1.307100  3.660400  ... -2.795100  0.43909  2.74080   \n",
              "lazy      -1.092400 -0.093904  0.058663  ...  1.125300 -2.35530  3.93600   \n",
              "sky        0.024432  0.289240  4.505400  ... -5.771200  4.76440  4.23500   \n",
              "beautiful  1.708300 -0.927380  3.484300  ...  0.594240  2.14920  3.27380   \n",
              "brown      6.884500 -0.543490  3.596900  ... -1.592000  1.02690  1.60640   \n",
              "ham       -0.900330 -1.241500  0.867240  ...  3.657400 -1.63910  3.90300   \n",
              "love       2.706400 -2.211000 -0.899900  ...  1.580200  1.75970 -0.60806   \n",
              "toast      0.763640 -1.061700  3.975100  ...  1.873200  0.96658 -1.02720   \n",
              "fox       -2.577500  3.211000  0.202600  ... -0.050673  1.79860  6.77940   \n",
              "kings      3.628500 -0.975220 -1.097900  ...  5.413500  0.45700 -3.24810   \n",
              "beans      0.004286 -4.167800  3.960000  ...  3.116600  1.10070  4.04960   \n",
              "dog       -5.226100 -0.291570  0.952340  ...  2.568800 -5.25470  6.98450   \n",
              "\n",
              "               293       294      295       296       297       298      299  \n",
              "breakfast -2.42900 -1.527600  0.98387 -0.098775   2.95160  -1.60790  2.54120  \n",
              "eggs      -7.98480 -7.093400 -2.87130  3.126500   3.40870  -4.73420 -0.91956  \n",
              "bacon     -5.66470  0.247550  1.58200  3.224800   3.00600   2.78730  2.65260  \n",
              "blue      -0.93310  0.890710  6.85240  0.075678   1.07370  -2.96000 -0.42209  \n",
              "quick      0.21357  1.293800  0.10757  0.832680  -0.80778  -1.53100 -0.28953  \n",
              "sausages  -5.66990 -0.950370 -0.58964  2.101200   1.12920   0.98625  0.59990  \n",
              "jumps     -1.43010 -0.164580  2.53300 -0.051668   1.00780  -0.29046 -1.68560  \n",
              "today     -2.51120 -1.267200 -1.48080 -1.282500   1.41430  -2.50450  2.77440  \n",
              "green     -2.18080 -0.936220  1.71610  4.210300  -0.44140  -3.99350 -0.57955  \n",
              "lazy      -3.37510 -0.999340  1.26390 -2.106800   3.07430  -4.42900  3.89380  \n",
              "sky       -1.84270  0.369470  1.31650  1.165000  -1.39280  -3.91250  0.48484  \n",
              "beautiful -1.28600  1.950500 -0.67481 -0.930960   3.28140  -5.52320 -0.31346  \n",
              "brown     -2.84040 -2.274700  2.10020  5.480200   0.83172  -4.30830 -1.04370  \n",
              "ham       -6.56120  3.673700 -1.20580  3.819300   3.60500   3.63860  4.03620  \n",
              "love      -6.61070  0.009383 -4.27630 -0.505070   5.00490  -8.53120 -1.49670  \n",
              "toast     -0.16442 -1.481600 -1.98390  1.898100   2.54110   2.28320  1.28470  \n",
              "fox       -2.54120 -0.408370  3.17150  0.974170   5.32660 -10.14900 -0.31148  \n",
              "kings     -1.46680  0.405470  3.04020 -1.674500  -3.53990  -4.88900 -2.04060  \n",
              "beans     -0.97496 -5.127300 -0.63158  6.890100  -0.34744   2.44190  0.90073  \n",
              "dog        0.27835 -6.455400 -2.13270 -5.651500  11.17400  -8.05680  5.79850  \n",
              "\n",
              "[20 rows x 300 columns]"
            ],
            "text/html": [
              "\n",
              "  <div id=\"df-615389fd-7ac1-4589-856e-bba64699539a\">\n",
              "    <div class=\"colab-df-container\">\n",
              "      <div>\n",
              "<style scoped>\n",
              "    .dataframe tbody tr th:only-of-type {\n",
              "        vertical-align: middle;\n",
              "    }\n",
              "\n",
              "    .dataframe tbody tr th {\n",
              "        vertical-align: top;\n",
              "    }\n",
              "\n",
              "    .dataframe thead th {\n",
              "        text-align: right;\n",
              "    }\n",
              "</style>\n",
              "<table border=\"1\" class=\"dataframe\">\n",
              "  <thead>\n",
              "    <tr style=\"text-align: right;\">\n",
              "      <th></th>\n",
              "      <th>0</th>\n",
              "      <th>1</th>\n",
              "      <th>2</th>\n",
              "      <th>3</th>\n",
              "      <th>4</th>\n",
              "      <th>5</th>\n",
              "      <th>6</th>\n",
              "      <th>7</th>\n",
              "      <th>8</th>\n",
              "      <th>9</th>\n",
              "      <th>...</th>\n",
              "      <th>290</th>\n",
              "      <th>291</th>\n",
              "      <th>292</th>\n",
              "      <th>293</th>\n",
              "      <th>294</th>\n",
              "      <th>295</th>\n",
              "      <th>296</th>\n",
              "      <th>297</th>\n",
              "      <th>298</th>\n",
              "      <th>299</th>\n",
              "    </tr>\n",
              "  </thead>\n",
              "  <tbody>\n",
              "    <tr>\n",
              "      <th>breakfast</th>\n",
              "      <td>-0.68660</td>\n",
              "      <td>-1.726700</td>\n",
              "      <td>-3.00130</td>\n",
              "      <td>-1.110100</td>\n",
              "      <td>1.83890</td>\n",
              "      <td>-3.076600</td>\n",
              "      <td>-0.233690</td>\n",
              "      <td>1.013300</td>\n",
              "      <td>-2.023400</td>\n",
              "      <td>3.033700</td>\n",
              "      <td>...</td>\n",
              "      <td>1.173600</td>\n",
              "      <td>-2.72720</td>\n",
              "      <td>1.57230</td>\n",
              "      <td>-2.42900</td>\n",
              "      <td>-1.527600</td>\n",
              "      <td>0.98387</td>\n",
              "      <td>-0.098775</td>\n",
              "      <td>2.95160</td>\n",
              "      <td>-1.60790</td>\n",
              "      <td>2.54120</td>\n",
              "    </tr>\n",
              "    <tr>\n",
              "      <th>eggs</th>\n",
              "      <td>0.94699</td>\n",
              "      <td>-3.802500</td>\n",
              "      <td>-5.22820</td>\n",
              "      <td>1.638600</td>\n",
              "      <td>4.74710</td>\n",
              "      <td>-3.459600</td>\n",
              "      <td>-2.239200</td>\n",
              "      <td>0.847490</td>\n",
              "      <td>-3.645700</td>\n",
              "      <td>3.273800</td>\n",
              "      <td>...</td>\n",
              "      <td>6.575500</td>\n",
              "      <td>1.13930</td>\n",
              "      <td>-2.46300</td>\n",
              "      <td>-7.98480</td>\n",
              "      <td>-7.093400</td>\n",
              "      <td>-2.87130</td>\n",
              "      <td>3.126500</td>\n",
              "      <td>3.40870</td>\n",
              "      <td>-4.73420</td>\n",
              "      <td>-0.91956</td>\n",
              "    </tr>\n",
              "    <tr>\n",
              "      <th>bacon</th>\n",
              "      <td>0.22776</td>\n",
              "      <td>-3.051600</td>\n",
              "      <td>0.26025</td>\n",
              "      <td>0.641570</td>\n",
              "      <td>2.04230</td>\n",
              "      <td>-3.136500</td>\n",
              "      <td>0.128790</td>\n",
              "      <td>0.181220</td>\n",
              "      <td>-1.535200</td>\n",
              "      <td>0.290250</td>\n",
              "      <td>...</td>\n",
              "      <td>3.504000</td>\n",
              "      <td>-1.27140</td>\n",
              "      <td>4.07630</td>\n",
              "      <td>-5.66470</td>\n",
              "      <td>0.247550</td>\n",
              "      <td>1.58200</td>\n",
              "      <td>3.224800</td>\n",
              "      <td>3.00600</td>\n",
              "      <td>2.78730</td>\n",
              "      <td>2.65260</td>\n",
              "    </tr>\n",
              "    <tr>\n",
              "      <th>blue</th>\n",
              "      <td>-4.31020</td>\n",
              "      <td>2.570600</td>\n",
              "      <td>-3.47220</td>\n",
              "      <td>2.520500</td>\n",
              "      <td>-1.11040</td>\n",
              "      <td>-5.101400</td>\n",
              "      <td>-1.481200</td>\n",
              "      <td>4.655900</td>\n",
              "      <td>0.383650</td>\n",
              "      <td>2.477200</td>\n",
              "      <td>...</td>\n",
              "      <td>-5.250500</td>\n",
              "      <td>4.20530</td>\n",
              "      <td>2.92490</td>\n",
              "      <td>-0.93310</td>\n",
              "      <td>0.890710</td>\n",
              "      <td>6.85240</td>\n",
              "      <td>0.075678</td>\n",
              "      <td>1.07370</td>\n",
              "      <td>-2.96000</td>\n",
              "      <td>-0.42209</td>\n",
              "    </tr>\n",
              "    <tr>\n",
              "      <th>quick</th>\n",
              "      <td>2.63220</td>\n",
              "      <td>2.707800</td>\n",
              "      <td>-1.19830</td>\n",
              "      <td>2.149000</td>\n",
              "      <td>3.34010</td>\n",
              "      <td>-2.768000</td>\n",
              "      <td>0.285130</td>\n",
              "      <td>0.959040</td>\n",
              "      <td>-3.211000</td>\n",
              "      <td>0.978550</td>\n",
              "      <td>...</td>\n",
              "      <td>1.742100</td>\n",
              "      <td>-0.82167</td>\n",
              "      <td>2.79760</td>\n",
              "      <td>0.21357</td>\n",
              "      <td>1.293800</td>\n",
              "      <td>0.10757</td>\n",
              "      <td>0.832680</td>\n",
              "      <td>-0.80778</td>\n",
              "      <td>-1.53100</td>\n",
              "      <td>-0.28953</td>\n",
              "    </tr>\n",
              "    <tr>\n",
              "      <th>sausages</th>\n",
              "      <td>-0.95324</td>\n",
              "      <td>-3.505800</td>\n",
              "      <td>-1.52990</td>\n",
              "      <td>2.149900</td>\n",
              "      <td>3.81270</td>\n",
              "      <td>-1.850400</td>\n",
              "      <td>-0.960970</td>\n",
              "      <td>1.255800</td>\n",
              "      <td>-2.262700</td>\n",
              "      <td>1.484200</td>\n",
              "      <td>...</td>\n",
              "      <td>3.824700</td>\n",
              "      <td>-0.62691</td>\n",
              "      <td>2.76300</td>\n",
              "      <td>-5.66990</td>\n",
              "      <td>-0.950370</td>\n",
              "      <td>-0.58964</td>\n",
              "      <td>2.101200</td>\n",
              "      <td>1.12920</td>\n",
              "      <td>0.98625</td>\n",
              "      <td>0.59990</td>\n",
              "    </tr>\n",
              "    <tr>\n",
              "      <th>jumps</th>\n",
              "      <td>2.04220</td>\n",
              "      <td>3.634600</td>\n",
              "      <td>0.49222</td>\n",
              "      <td>0.074497</td>\n",
              "      <td>1.18540</td>\n",
              "      <td>2.842600</td>\n",
              "      <td>-0.042565</td>\n",
              "      <td>5.634800</td>\n",
              "      <td>0.948340</td>\n",
              "      <td>0.402610</td>\n",
              "      <td>...</td>\n",
              "      <td>-0.538160</td>\n",
              "      <td>3.18240</td>\n",
              "      <td>1.99210</td>\n",
              "      <td>-1.43010</td>\n",
              "      <td>-0.164580</td>\n",
              "      <td>2.53300</td>\n",
              "      <td>-0.051668</td>\n",
              "      <td>1.00780</td>\n",
              "      <td>-0.29046</td>\n",
              "      <td>-1.68560</td>\n",
              "    </tr>\n",
              "    <tr>\n",
              "      <th>today</th>\n",
              "      <td>1.53330</td>\n",
              "      <td>1.622600</td>\n",
              "      <td>1.05520</td>\n",
              "      <td>-1.361500</td>\n",
              "      <td>0.97952</td>\n",
              "      <td>-0.828060</td>\n",
              "      <td>1.485400</td>\n",
              "      <td>2.881700</td>\n",
              "      <td>-0.354000</td>\n",
              "      <td>0.344570</td>\n",
              "      <td>...</td>\n",
              "      <td>3.243400</td>\n",
              "      <td>-1.53780</td>\n",
              "      <td>2.36610</td>\n",
              "      <td>-2.51120</td>\n",
              "      <td>-1.267200</td>\n",
              "      <td>-1.48080</td>\n",
              "      <td>-1.282500</td>\n",
              "      <td>1.41430</td>\n",
              "      <td>-2.50450</td>\n",
              "      <td>2.77440</td>\n",
              "    </tr>\n",
              "    <tr>\n",
              "      <th>green</th>\n",
              "      <td>-1.93390</td>\n",
              "      <td>0.314870</td>\n",
              "      <td>-4.39510</td>\n",
              "      <td>1.924700</td>\n",
              "      <td>-2.04800</td>\n",
              "      <td>-5.712100</td>\n",
              "      <td>-0.956200</td>\n",
              "      <td>2.792700</td>\n",
              "      <td>-1.307100</td>\n",
              "      <td>3.660400</td>\n",
              "      <td>...</td>\n",
              "      <td>-2.795100</td>\n",
              "      <td>0.43909</td>\n",
              "      <td>2.74080</td>\n",
              "      <td>-2.18080</td>\n",
              "      <td>-0.936220</td>\n",
              "      <td>1.71610</td>\n",
              "      <td>4.210300</td>\n",
              "      <td>-0.44140</td>\n",
              "      <td>-3.99350</td>\n",
              "      <td>-0.57955</td>\n",
              "    </tr>\n",
              "    <tr>\n",
              "      <th>lazy</th>\n",
              "      <td>-1.58880</td>\n",
              "      <td>0.733160</td>\n",
              "      <td>1.07460</td>\n",
              "      <td>-2.452100</td>\n",
              "      <td>-0.42517</td>\n",
              "      <td>3.334400</td>\n",
              "      <td>-0.179420</td>\n",
              "      <td>-1.092400</td>\n",
              "      <td>-0.093904</td>\n",
              "      <td>0.058663</td>\n",
              "      <td>...</td>\n",
              "      <td>1.125300</td>\n",
              "      <td>-2.35530</td>\n",
              "      <td>3.93600</td>\n",
              "      <td>-3.37510</td>\n",
              "      <td>-0.999340</td>\n",
              "      <td>1.26390</td>\n",
              "      <td>-2.106800</td>\n",
              "      <td>3.07430</td>\n",
              "      <td>-4.42900</td>\n",
              "      <td>3.89380</td>\n",
              "    </tr>\n",
              "    <tr>\n",
              "      <th>sky</th>\n",
              "      <td>7.15240</td>\n",
              "      <td>3.035600</td>\n",
              "      <td>-8.70400</td>\n",
              "      <td>0.937880</td>\n",
              "      <td>-3.67810</td>\n",
              "      <td>-0.035128</td>\n",
              "      <td>1.256800</td>\n",
              "      <td>0.024432</td>\n",
              "      <td>0.289240</td>\n",
              "      <td>4.505400</td>\n",
              "      <td>...</td>\n",
              "      <td>-5.771200</td>\n",
              "      <td>4.76440</td>\n",
              "      <td>4.23500</td>\n",
              "      <td>-1.84270</td>\n",
              "      <td>0.369470</td>\n",
              "      <td>1.31650</td>\n",
              "      <td>1.165000</td>\n",
              "      <td>-1.39280</td>\n",
              "      <td>-3.91250</td>\n",
              "      <td>0.48484</td>\n",
              "    </tr>\n",
              "    <tr>\n",
              "      <th>beautiful</th>\n",
              "      <td>-0.18931</td>\n",
              "      <td>-0.706820</td>\n",
              "      <td>-3.17310</td>\n",
              "      <td>-4.140700</td>\n",
              "      <td>0.70243</td>\n",
              "      <td>-0.692550</td>\n",
              "      <td>2.348700</td>\n",
              "      <td>1.708300</td>\n",
              "      <td>-0.927380</td>\n",
              "      <td>3.484300</td>\n",
              "      <td>...</td>\n",
              "      <td>0.594240</td>\n",
              "      <td>2.14920</td>\n",
              "      <td>3.27380</td>\n",
              "      <td>-1.28600</td>\n",
              "      <td>1.950500</td>\n",
              "      <td>-0.67481</td>\n",
              "      <td>-0.930960</td>\n",
              "      <td>3.28140</td>\n",
              "      <td>-5.52320</td>\n",
              "      <td>-0.31346</td>\n",
              "    </tr>\n",
              "    <tr>\n",
              "      <th>brown</th>\n",
              "      <td>-3.84290</td>\n",
              "      <td>0.140680</td>\n",
              "      <td>-3.35840</td>\n",
              "      <td>3.267900</td>\n",
              "      <td>-2.15360</td>\n",
              "      <td>-6.508500</td>\n",
              "      <td>0.235120</td>\n",
              "      <td>6.884500</td>\n",
              "      <td>-0.543490</td>\n",
              "      <td>3.596900</td>\n",
              "      <td>...</td>\n",
              "      <td>-1.592000</td>\n",
              "      <td>1.02690</td>\n",
              "      <td>1.60640</td>\n",
              "      <td>-2.84040</td>\n",
              "      <td>-2.274700</td>\n",
              "      <td>2.10020</td>\n",
              "      <td>5.480200</td>\n",
              "      <td>0.83172</td>\n",
              "      <td>-4.30830</td>\n",
              "      <td>-1.04370</td>\n",
              "    </tr>\n",
              "    <tr>\n",
              "      <th>ham</th>\n",
              "      <td>0.44278</td>\n",
              "      <td>-4.114100</td>\n",
              "      <td>1.23560</td>\n",
              "      <td>4.187300</td>\n",
              "      <td>1.62440</td>\n",
              "      <td>-1.260100</td>\n",
              "      <td>-1.643500</td>\n",
              "      <td>-0.900330</td>\n",
              "      <td>-1.241500</td>\n",
              "      <td>0.867240</td>\n",
              "      <td>...</td>\n",
              "      <td>3.657400</td>\n",
              "      <td>-1.63910</td>\n",
              "      <td>3.90300</td>\n",
              "      <td>-6.56120</td>\n",
              "      <td>3.673700</td>\n",
              "      <td>-1.20580</td>\n",
              "      <td>3.819300</td>\n",
              "      <td>3.60500</td>\n",
              "      <td>3.63860</td>\n",
              "      <td>4.03620</td>\n",
              "    </tr>\n",
              "    <tr>\n",
              "      <th>love</th>\n",
              "      <td>2.05650</td>\n",
              "      <td>-3.225900</td>\n",
              "      <td>-5.73640</td>\n",
              "      <td>-6.146000</td>\n",
              "      <td>0.15748</td>\n",
              "      <td>-2.428400</td>\n",
              "      <td>7.658000</td>\n",
              "      <td>2.706400</td>\n",
              "      <td>-2.211000</td>\n",
              "      <td>-0.899900</td>\n",
              "      <td>...</td>\n",
              "      <td>1.580200</td>\n",
              "      <td>1.75970</td>\n",
              "      <td>-0.60806</td>\n",
              "      <td>-6.61070</td>\n",
              "      <td>0.009383</td>\n",
              "      <td>-4.27630</td>\n",
              "      <td>-0.505070</td>\n",
              "      <td>5.00490</td>\n",
              "      <td>-8.53120</td>\n",
              "      <td>-1.49670</td>\n",
              "    </tr>\n",
              "    <tr>\n",
              "      <th>toast</th>\n",
              "      <td>-1.93140</td>\n",
              "      <td>0.078516</td>\n",
              "      <td>1.47560</td>\n",
              "      <td>1.597600</td>\n",
              "      <td>1.57150</td>\n",
              "      <td>-2.340500</td>\n",
              "      <td>0.164920</td>\n",
              "      <td>0.763640</td>\n",
              "      <td>-1.061700</td>\n",
              "      <td>3.975100</td>\n",
              "      <td>...</td>\n",
              "      <td>1.873200</td>\n",
              "      <td>0.96658</td>\n",
              "      <td>-1.02720</td>\n",
              "      <td>-0.16442</td>\n",
              "      <td>-1.481600</td>\n",
              "      <td>-1.98390</td>\n",
              "      <td>1.898100</td>\n",
              "      <td>2.54110</td>\n",
              "      <td>2.28320</td>\n",
              "      <td>1.28470</td>\n",
              "    </tr>\n",
              "    <tr>\n",
              "      <th>fox</th>\n",
              "      <td>0.56940</td>\n",
              "      <td>1.003500</td>\n",
              "      <td>-2.79580</td>\n",
              "      <td>-6.990900</td>\n",
              "      <td>-1.94450</td>\n",
              "      <td>2.147300</td>\n",
              "      <td>-4.308900</td>\n",
              "      <td>-2.577500</td>\n",
              "      <td>3.211000</td>\n",
              "      <td>0.202600</td>\n",
              "      <td>...</td>\n",
              "      <td>-0.050673</td>\n",
              "      <td>1.79860</td>\n",
              "      <td>6.77940</td>\n",
              "      <td>-2.54120</td>\n",
              "      <td>-0.408370</td>\n",
              "      <td>3.17150</td>\n",
              "      <td>0.974170</td>\n",
              "      <td>5.32660</td>\n",
              "      <td>-10.14900</td>\n",
              "      <td>-0.31148</td>\n",
              "    </tr>\n",
              "    <tr>\n",
              "      <th>kings</th>\n",
              "      <td>-1.87590</td>\n",
              "      <td>-3.145100</td>\n",
              "      <td>0.26432</td>\n",
              "      <td>2.512800</td>\n",
              "      <td>5.12880</td>\n",
              "      <td>1.515500</td>\n",
              "      <td>-3.733400</td>\n",
              "      <td>3.628500</td>\n",
              "      <td>-0.975220</td>\n",
              "      <td>-1.097900</td>\n",
              "      <td>...</td>\n",
              "      <td>5.413500</td>\n",
              "      <td>0.45700</td>\n",
              "      <td>-3.24810</td>\n",
              "      <td>-1.46680</td>\n",
              "      <td>0.405470</td>\n",
              "      <td>3.04020</td>\n",
              "      <td>-1.674500</td>\n",
              "      <td>-3.53990</td>\n",
              "      <td>-4.88900</td>\n",
              "      <td>-2.04060</td>\n",
              "    </tr>\n",
              "    <tr>\n",
              "      <th>beans</th>\n",
              "      <td>0.93585</td>\n",
              "      <td>-0.450810</td>\n",
              "      <td>-4.95600</td>\n",
              "      <td>2.254800</td>\n",
              "      <td>1.21050</td>\n",
              "      <td>-1.667600</td>\n",
              "      <td>0.879590</td>\n",
              "      <td>0.004286</td>\n",
              "      <td>-4.167800</td>\n",
              "      <td>3.960000</td>\n",
              "      <td>...</td>\n",
              "      <td>3.116600</td>\n",
              "      <td>1.10070</td>\n",
              "      <td>4.04960</td>\n",
              "      <td>-0.97496</td>\n",
              "      <td>-5.127300</td>\n",
              "      <td>-0.63158</td>\n",
              "      <td>6.890100</td>\n",
              "      <td>-0.34744</td>\n",
              "      <td>2.44190</td>\n",
              "      <td>0.90073</td>\n",
              "    </tr>\n",
              "    <tr>\n",
              "      <th>dog</th>\n",
              "      <td>1.23300</td>\n",
              "      <td>4.296300</td>\n",
              "      <td>-7.97380</td>\n",
              "      <td>-10.121000</td>\n",
              "      <td>1.82070</td>\n",
              "      <td>1.409800</td>\n",
              "      <td>-4.518000</td>\n",
              "      <td>-5.226100</td>\n",
              "      <td>-0.291570</td>\n",
              "      <td>0.952340</td>\n",
              "      <td>...</td>\n",
              "      <td>2.568800</td>\n",
              "      <td>-5.25470</td>\n",
              "      <td>6.98450</td>\n",
              "      <td>0.27835</td>\n",
              "      <td>-6.455400</td>\n",
              "      <td>-2.13270</td>\n",
              "      <td>-5.651500</td>\n",
              "      <td>11.17400</td>\n",
              "      <td>-8.05680</td>\n",
              "      <td>5.79850</td>\n",
              "    </tr>\n",
              "  </tbody>\n",
              "</table>\n",
              "<p>20 rows × 300 columns</p>\n",
              "</div>\n",
              "      <button class=\"colab-df-convert\" onclick=\"convertToInteractive('df-615389fd-7ac1-4589-856e-bba64699539a')\"\n",
              "              title=\"Convert this dataframe to an interactive table.\"\n",
              "              style=\"display:none;\">\n",
              "        \n",
              "  <svg xmlns=\"http://www.w3.org/2000/svg\" height=\"24px\"viewBox=\"0 0 24 24\"\n",
              "       width=\"24px\">\n",
              "    <path d=\"M0 0h24v24H0V0z\" fill=\"none\"/>\n",
              "    <path d=\"M18.56 5.44l.94 2.06.94-2.06 2.06-.94-2.06-.94-.94-2.06-.94 2.06-2.06.94zm-11 1L8.5 8.5l.94-2.06 2.06-.94-2.06-.94L8.5 2.5l-.94 2.06-2.06.94zm10 10l.94 2.06.94-2.06 2.06-.94-2.06-.94-.94-2.06-.94 2.06-2.06.94z\"/><path d=\"M17.41 7.96l-1.37-1.37c-.4-.4-.92-.59-1.43-.59-.52 0-1.04.2-1.43.59L10.3 9.45l-7.72 7.72c-.78.78-.78 2.05 0 2.83L4 21.41c.39.39.9.59 1.41.59.51 0 1.02-.2 1.41-.59l7.78-7.78 2.81-2.81c.8-.78.8-2.07 0-2.86zM5.41 20L4 18.59l7.72-7.72 1.47 1.35L5.41 20z\"/>\n",
              "  </svg>\n",
              "      </button>\n",
              "      \n",
              "  <style>\n",
              "    .colab-df-container {\n",
              "      display:flex;\n",
              "      flex-wrap:wrap;\n",
              "      gap: 12px;\n",
              "    }\n",
              "\n",
              "    .colab-df-convert {\n",
              "      background-color: #E8F0FE;\n",
              "      border: none;\n",
              "      border-radius: 50%;\n",
              "      cursor: pointer;\n",
              "      display: none;\n",
              "      fill: #1967D2;\n",
              "      height: 32px;\n",
              "      padding: 0 0 0 0;\n",
              "      width: 32px;\n",
              "    }\n",
              "\n",
              "    .colab-df-convert:hover {\n",
              "      background-color: #E2EBFA;\n",
              "      box-shadow: 0px 1px 2px rgba(60, 64, 67, 0.3), 0px 1px 3px 1px rgba(60, 64, 67, 0.15);\n",
              "      fill: #174EA6;\n",
              "    }\n",
              "\n",
              "    [theme=dark] .colab-df-convert {\n",
              "      background-color: #3B4455;\n",
              "      fill: #D2E3FC;\n",
              "    }\n",
              "\n",
              "    [theme=dark] .colab-df-convert:hover {\n",
              "      background-color: #434B5C;\n",
              "      box-shadow: 0px 1px 3px 1px rgba(0, 0, 0, 0.15);\n",
              "      filter: drop-shadow(0px 1px 2px rgba(0, 0, 0, 0.3));\n",
              "      fill: #FFFFFF;\n",
              "    }\n",
              "  </style>\n",
              "\n",
              "      <script>\n",
              "        const buttonEl =\n",
              "          document.querySelector('#df-615389fd-7ac1-4589-856e-bba64699539a button.colab-df-convert');\n",
              "        buttonEl.style.display =\n",
              "          google.colab.kernel.accessAllowed ? 'block' : 'none';\n",
              "\n",
              "        async function convertToInteractive(key) {\n",
              "          const element = document.querySelector('#df-615389fd-7ac1-4589-856e-bba64699539a');\n",
              "          const dataTable =\n",
              "            await google.colab.kernel.invokeFunction('convertToInteractive',\n",
              "                                                     [key], {});\n",
              "          if (!dataTable) return;\n",
              "\n",
              "          const docLinkHtml = 'Like what you see? Visit the ' +\n",
              "            '<a target=\"_blank\" href=https://colab.research.google.com/notebooks/data_table.ipynb>data table notebook</a>'\n",
              "            + ' to learn more about interactive tables.';\n",
              "          element.innerHTML = '';\n",
              "          dataTable['output_type'] = 'display_data';\n",
              "          await google.colab.output.renderOutput(dataTable, element);\n",
              "          const docLink = document.createElement('div');\n",
              "          docLink.innerHTML = docLinkHtml;\n",
              "          element.appendChild(docLink);\n",
              "        }\n",
              "      </script>\n",
              "    </div>\n",
              "  </div>\n",
              "  "
            ]
          },
          "metadata": {},
          "execution_count": 90
        }
      ]
    },
    {
      "cell_type": "markdown",
      "source": [
        "> #### **B) Use TSNE to visualize the glove embeddings in a lower-dimensional scatter plot.**"
      ],
      "metadata": {
        "id": "1tIyWk1v5l0r"
      },
      "id": "1tIyWk1v5l0r"
    },
    {
      "cell_type": "code",
      "source": [
        "from sklearn.manifold import TSNE\n",
        "import matplotlib.pyplot as plt\n",
        "\n",
        "tsne = TSNE(n_components=2, random_state=0, n_iter=5000, perplexity=3)\n",
        "np.set_printoptions(suppress=True)\n",
        "T = tsne.fit_transform(word_glove_vectors)\n",
        "labels = unique_words\n",
        "\n",
        "plt.figure(figsize=(12,6))\n",
        "plt.scatter(T[:,0], T[:,1], c='orange', edgecolors='r')\n",
        "for label, x, y in zip(labels, T[:, 0], T[:,1]):\n",
        "  plt.annotate(label, xy=(x+1, y+1), xytext=(0,0), textcoords='offset points')"
      ],
      "metadata": {
        "colab": {
          "base_uri": "https://localhost:8080/",
          "height": 443
        },
        "id": "E6OqFITh5sIS",
        "outputId": "6abc5908-f77a-4d00-ab76-7d3dff9f6dfd"
      },
      "id": "E6OqFITh5sIS",
      "execution_count": null,
      "outputs": [
        {
          "output_type": "stream",
          "name": "stderr",
          "text": [
            "/usr/local/lib/python3.7/dist-packages/sklearn/manifold/_t_sne.py:783: FutureWarning: The default initialization in TSNE will change from 'random' to 'pca' in 1.2.\n",
            "  FutureWarning,\n",
            "/usr/local/lib/python3.7/dist-packages/sklearn/manifold/_t_sne.py:793: FutureWarning: The default learning rate in TSNE will change from 200.0 to 'auto' in 1.2.\n",
            "  FutureWarning,\n"
          ]
        },
        {
          "output_type": "display_data",
          "data": {
            "text/plain": [
              "<Figure size 864x432 with 1 Axes>"
            ],
            "image/png": "[encoded data removed]"
          },
          "metadata": {
            "needs_background": "light"
          }
        }
      ]
    },
    {
      "cell_type": "markdown",
      "source": [
        "**How does this scatteplot compare to that produced from word2vec embeddings?**"
      ],
      "metadata": {
        "id": "56k3rKmbF9Au"
      },
      "id": "56k3rKmbF9Au"
    },
    {
      "cell_type": "markdown",
      "source": [],
      "metadata": {
        "id": "YEf2fgtgGEd8"
      },
      "id": "YEf2fgtgGEd8"
    },
    {
      "cell_type": "markdown",
      "source": [
        "> #### **C) Use Kmeans clustering to cluster documents based on word embeddings**"
      ],
      "metadata": {
        "id": "UhcV8h_i66Gu"
      },
      "id": "UhcV8h_i66Gu"
    },
    {
      "cell_type": "code",
      "source": [
        "from sklearn.cluster import KMeans"
      ],
      "metadata": {
        "id": "_Qk-iJ_S7OmW"
      },
      "id": "_Qk-iJ_S7OmW",
      "execution_count": null,
      "outputs": []
    },
    {
      "cell_type": "code",
      "source": [
        "doc_glove_vectors = np.array([nlp(str(doc)).vector for doc in norm_corpus])\n",
        "\n",
        "km = KMeans(n_clusters = 3, random_state=0)\n",
        "km.fit_transform(doc_glove_vectors)\n",
        "cluster_labels = km.labels_\n",
        "\n",
        "cluster_labels = pd.DataFrame(cluster_labels, columns=['Cluster Label'])\n",
        "pd.concat([corpus_df, cluster_labels], axis=1)"
      ],
      "metadata": {
        "colab": {
          "base_uri": "https://localhost:8080/",
          "height": 300
        },
        "id": "976o2zM169x0",
        "outputId": "86562689-1c1b-492b-e660-00d38c5f3fc7"
      },
      "id": "976o2zM169x0",
      "execution_count": null,
      "outputs": [
        {
          "output_type": "execute_result",
          "data": {
            "text/plain": [
              "                                            Document Category  Cluster Label\n",
              "0                  The sky is blue 12 and beautiful.  weather              1\n",
              "1                  Love this blue and beautiful sky!  weather              1\n",
              "2       The quick brown fox jumps over the lazy dog.   animal              2\n",
              "3  A king's breakfast has sausages, ham, bacon, e...     food              0\n",
              "4        I love green eggs, ham, sausages and bacon!     food              0\n",
              "5   The brown fox is quick and the blue dog is lazy!   animal              2\n",
              "6  The sky is very blue and the sky is very beaut...  weather              1\n",
              "7         The dog is lazy but the brown fox is quick   animal              2"
            ],
            "text/html": [
              "\n",
              "  <div id=\"df-237ee185-faa0-43d0-82f5-716be2b4ddf1\">\n",
              "    <div class=\"colab-df-container\">\n",
              "      <div>\n",
              "<style scoped>\n",
              "    .dataframe tbody tr th:only-of-type {\n",
              "        vertical-align: middle;\n",
              "    }\n",
              "\n",
              "    .dataframe tbody tr th {\n",
              "        vertical-align: top;\n",
              "    }\n",
              "\n",
              "    .dataframe thead th {\n",
              "        text-align: right;\n",
              "    }\n",
              "</style>\n",
              "<table border=\"1\" class=\"dataframe\">\n",
              "  <thead>\n",
              "    <tr style=\"text-align: right;\">\n",
              "      <th></th>\n",
              "      <th>Document</th>\n",
              "      <th>Category</th>\n",
              "      <th>Cluster Label</th>\n",
              "    </tr>\n",
              "  </thead>\n",
              "  <tbody>\n",
              "    <tr>\n",
              "      <th>0</th>\n",
              "      <td>The sky is blue 12 and beautiful.</td>\n",
              "      <td>weather</td>\n",
              "      <td>1</td>\n",
              "    </tr>\n",
              "    <tr>\n",
              "      <th>1</th>\n",
              "      <td>Love this blue and beautiful sky!</td>\n",
              "      <td>weather</td>\n",
              "      <td>1</td>\n",
              "    </tr>\n",
              "    <tr>\n",
              "      <th>2</th>\n",
              "      <td>The quick brown fox jumps over the lazy dog.</td>\n",
              "      <td>animal</td>\n",
              "      <td>2</td>\n",
              "    </tr>\n",
              "    <tr>\n",
              "      <th>3</th>\n",
              "      <td>A king's breakfast has sausages, ham, bacon, e...</td>\n",
              "      <td>food</td>\n",
              "      <td>0</td>\n",
              "    </tr>\n",
              "    <tr>\n",
              "      <th>4</th>\n",
              "      <td>I love green eggs, ham, sausages and bacon!</td>\n",
              "      <td>food</td>\n",
              "      <td>0</td>\n",
              "    </tr>\n",
              "    <tr>\n",
              "      <th>5</th>\n",
              "      <td>The brown fox is quick and the blue dog is lazy!</td>\n",
              "      <td>animal</td>\n",
              "      <td>2</td>\n",
              "    </tr>\n",
              "    <tr>\n",
              "      <th>6</th>\n",
              "      <td>The sky is very blue and the sky is very beaut...</td>\n",
              "      <td>weather</td>\n",
              "      <td>1</td>\n",
              "    </tr>\n",
              "    <tr>\n",
              "      <th>7</th>\n",
              "      <td>The dog is lazy but the brown fox is quick</td>\n",
              "      <td>animal</td>\n",
              "      <td>2</td>\n",
              "    </tr>\n",
              "  </tbody>\n",
              "</table>\n",
              "</div>\n",
              "      <button class=\"colab-df-convert\" onclick=\"convertToInteractive('df-237ee185-faa0-43d0-82f5-716be2b4ddf1')\"\n",
              "              title=\"Convert this dataframe to an interactive table.\"\n",
              "              style=\"display:none;\">\n",
              "        \n",
              "  <svg xmlns=\"http://www.w3.org/2000/svg\" height=\"24px\"viewBox=\"0 0 24 24\"\n",
              "       width=\"24px\">\n",
              "    <path d=\"M0 0h24v24H0V0z\" fill=\"none\"/>\n",
              "    <path d=\"M18.56 5.44l.94 2.06.94-2.06 2.06-.94-2.06-.94-.94-2.06-.94 2.06-2.06.94zm-11 1L8.5 8.5l.94-2.06 2.06-.94-2.06-.94L8.5 2.5l-.94 2.06-2.06.94zm10 10l.94 2.06.94-2.06 2.06-.94-2.06-.94-.94-2.06-.94 2.06-2.06.94z\"/><path d=\"M17.41 7.96l-1.37-1.37c-.4-.4-.92-.59-1.43-.59-.52 0-1.04.2-1.43.59L10.3 9.45l-7.72 7.72c-.78.78-.78 2.05 0 2.83L4 21.41c.39.39.9.59 1.41.59.51 0 1.02-.2 1.41-.59l7.78-7.78 2.81-2.81c.8-.78.8-2.07 0-2.86zM5.41 20L4 18.59l7.72-7.72 1.47 1.35L5.41 20z\"/>\n",
              "  </svg>\n",
              "      </button>\n",
              "      \n",
              "  <style>\n",
              "    .colab-df-container {\n",
              "      display:flex;\n",
              "      flex-wrap:wrap;\n",
              "      gap: 12px;\n",
              "    }\n",
              "\n",
              "    .colab-df-convert {\n",
              "      background-color: #E8F0FE;\n",
              "      border: none;\n",
              "      border-radius: 50%;\n",
              "      cursor: pointer;\n",
              "      display: none;\n",
              "      fill: #1967D2;\n",
              "      height: 32px;\n",
              "      padding: 0 0 0 0;\n",
              "      width: 32px;\n",
              "    }\n",
              "\n",
              "    .colab-df-convert:hover {\n",
              "      background-color: #E2EBFA;\n",
              "      box-shadow: 0px 1px 2px rgba(60, 64, 67, 0.3), 0px 1px 3px 1px rgba(60, 64, 67, 0.15);\n",
              "      fill: #174EA6;\n",
              "    }\n",
              "\n",
              "    [theme=dark] .colab-df-convert {\n",
              "      background-color: #3B4455;\n",
              "      fill: #D2E3FC;\n",
              "    }\n",
              "\n",
              "    [theme=dark] .colab-df-convert:hover {\n",
              "      background-color: #434B5C;\n",
              "      box-shadow: 0px 1px 3px 1px rgba(0, 0, 0, 0.15);\n",
              "      filter: drop-shadow(0px 1px 2px rgba(0, 0, 0, 0.3));\n",
              "      fill: #FFFFFF;\n",
              "    }\n",
              "  </style>\n",
              "\n",
              "      <script>\n",
              "        const buttonEl =\n",
              "          document.querySelector('#df-237ee185-faa0-43d0-82f5-716be2b4ddf1 button.colab-df-convert');\n",
              "        buttonEl.style.display =\n",
              "          google.colab.kernel.accessAllowed ? 'block' : 'none';\n",
              "\n",
              "        async function convertToInteractive(key) {\n",
              "          const element = document.querySelector('#df-237ee185-faa0-43d0-82f5-716be2b4ddf1');\n",
              "          const dataTable =\n",
              "            await google.colab.kernel.invokeFunction('convertToInteractive',\n",
              "                                                     [key], {});\n",
              "          if (!dataTable) return;\n",
              "\n",
              "          const docLinkHtml = 'Like what you see? Visit the ' +\n",
              "            '<a target=\"_blank\" href=https://colab.research.google.com/notebooks/data_table.ipynb>data table notebook</a>'\n",
              "            + ' to learn more about interactive tables.';\n",
              "          element.innerHTML = '';\n",
              "          dataTable['output_type'] = 'display_data';\n",
              "          await google.colab.output.renderOutput(dataTable, element);\n",
              "          const docLink = document.createElement('div');\n",
              "          docLink.innerHTML = docLinkHtml;\n",
              "          element.appendChild(docLink);\n",
              "        }\n",
              "      </script>\n",
              "    </div>\n",
              "  </div>\n",
              "  "
            ]
          },
          "metadata": {},
          "execution_count": 93
        }
      ]
    },
    {
      "cell_type": "markdown",
      "source": [
        "> #### **D) Use PCA to Produce Scatterplot of Document Clusters**"
      ],
      "metadata": {
        "id": "gqgJS84fGgRH"
      },
      "id": "gqgJS84fGgRH"
    },
    {
      "cell_type": "code",
      "source": [
        "from sklearn.decomposition import PCA\n",
        "\n",
        "pca = PCA(n_components=2, random_state=0)\n",
        "pcs = pca.fit_transform(doc_glove_vectors)\n",
        "labels = km.labels_\n",
        "categories = list(corpus_df['Category'])\n",
        "plt.figure(figsize=(8,6))\n",
        "\n",
        "for i in range(len(labels)):\n",
        "  label = labels[i]\n",
        "  color = 'orange' if label == 0 else 'blue' if label == 1 else 'green' \n",
        "  annotation_label = categories[i]\n",
        "  x, y = pcs[i]\n",
        "  plt.scatter(x, y, c=color, edgecolors='k')\n",
        "  plt.annotate(annotation_label, xy=(x+1e-4, y+1e-3), xytext=(0,0), textcoords = 'offset points')"
      ],
      "metadata": {
        "colab": {
          "base_uri": "https://localhost:8080/",
          "height": 374
        },
        "id": "-acUGlon7-Ct",
        "outputId": "527bffad-f6ee-422c-b8e6-19af5e919f15"
      },
      "id": "-acUGlon7-Ct",
      "execution_count": null,
      "outputs": [
        {
          "output_type": "display_data",
          "data": {
            "text/plain": [
              "<Figure size 576x432 with 1 Axes>"
            ],
            "image/png": "[encoded data removed]"
          },
          "metadata": {
            "needs_background": "light"
          }
        }
      ]
    },
    {
      "cell_type": "markdown",
      "source": [
        "**How are the document embeddings different based on GloVe as compared to Word2Vec, based on this two dimensional representation of the document clusters?**"
      ],
      "metadata": {
        "id": "6uGbgDNVGnz8"
      },
      "id": "6uGbgDNVGnz8"
    },
    {
      "cell_type": "markdown",
      "source": [],
      "metadata": {
        "id": "nyNEZ_wCG1ge"
      },
      "id": "nyNEZ_wCG1ge"
    }
  ],
  "metadata": {
    "kernelspec": {
      "display_name": "Python 3 (ipykernel)",
      "language": "python",
      "name": "python3"
    },
    "language_info": {
      "codemirror_mode": {
        "name": "ipython",
        "version": 3
      },
      "file_extension": ".py",
      "mimetype": "text/x-python",
      "name": "python",
      "nbconvert_exporter": "python",
      "pygments_lexer": "ipython3",
      "version": "3.9.7"
    },
    "colab": {
      "provenance": [],
      "collapsed_sections": []
    },
    "gpuClass": "standard"
  },
  "nbformat": 4,
  "nbformat_minor": 5
}